{
 "cells": [
  {
   "cell_type": "code",
   "execution_count": 155,
   "metadata": {
    "collapsed": false
   },
   "outputs": [
    {
     "name": "stdout",
     "output_type": "stream",
     "text": [
      "The autoreload extension is already loaded. To reload it, use:\n",
      "  %reload_ext autoreload\n"
     ]
    }
   ],
   "source": [
    "%load_ext autoreload\n",
    "%autoreload 2\n",
    "%matplotlib inline\n",
    "\n",
    "import inspect, os\n",
    "currentdir = os.path.dirname(os.path.abspath(inspect.getfile(inspect.currentframe())))\n",
    "parentdir = os.path.dirname(currentdir)\n",
    "os.sys.path.insert(0,parentdir) \n",
    "\n",
    "from src.survey_utils import *\n",
    "import copy\n",
    "import pandas as pd\n",
    "import numpy as np"
   ]
  },
  {
   "cell_type": "code",
   "execution_count": 156,
   "metadata": {
    "collapsed": false
   },
   "outputs": [],
   "source": [
    "d = pd.read_csv('../data/reader-survey-3.tsv', sep = '\\t')"
   ]
  },
  {
   "cell_type": "code",
   "execution_count": 167,
   "metadata": {
    "collapsed": false
   },
   "outputs": [],
   "source": [
    "d = d.fillna('no_response')"
   ]
  },
  {
   "cell_type": "code",
   "execution_count": 168,
   "metadata": {
    "collapsed": true
   },
   "outputs": [],
   "source": [
    "d_q = {'I am reading this article to': 'Information_Need',\n",
    "       'Prior to visiting this article':'Prior_Knowledge',\n",
    "    'I am reading this article because' :  'Motivation'\n",
    "             }\n",
    "\n",
    "\n",
    "d_a1 = {'look up a specific fact or to get a quick answer.': 'fact',\n",
    "       'get an overview of the topic.': 'overview',\n",
    "       'get an in-depth understanding of the topic.': 'in-depth',\n",
    "       'no_response': 'no_response'}\n",
    "\n",
    "d_a2 = {'I was already familiar with the topic.': 'familiar',\n",
    "       'I was not familiar with the topic and I am learning about it for the first time.': 'unfamiliar',\n",
    "        'no_response': 'no_response'}\n",
    "d_a3 = {'I have a work or school-related assignment.' : 'work/school',\n",
    "       'I need to make a personal decision based on this topic (e.g. to buy a  book or game, to choose a travel destination).': 'personal_decision',\n",
    "       \"I want to know more about\\xa0a current event (e.g. Black Friday, a soccer game, a recent earthquake, somebody's death).\": 'current_event',\n",
    "       \"the topic was referenced in a piece of media (e.g. TV, radio, article, film, book).\": 'media',\n",
    "       \"the topic came up in a conversation.\": \"conversation\",\n",
    "       \"I am bored, curious or randomly exploring Wikipedia for fun.\": 'bored/curios/random',\n",
    "        'no_response': 'no_response'\n",
    "       }\n",
    "d_a = {'Information_Need': d_a1, 'Prior_Knowledge': d_a2,'Motivation': d_a3 }"
   ]
  },
  {
   "cell_type": "code",
   "execution_count": 179,
   "metadata": {
    "collapsed": true
   },
   "outputs": [],
   "source": [
    "def recode_motivation(x):\n",
    "        x = str(x)\n",
    "        x = x.replace('e.g.,', 'e.g.')\n",
    "        ms = x.split('., ')\n",
    "        ms = [m + '.' for m in ms]\n",
    "        ms[-1] = ms[-1][:-1]    \n",
    "        #print(ms)\n",
    "        rms = [d_a['Motivation'].get(m, 'other') for m in ms]\n",
    "        return '|'.join(rms) \n",
    "    \n",
    "def recode_df(d):\n",
    "    d = copy.deepcopy(d)\n",
    "    del d['Timestamp']\n",
    "    d.columns = [d_q[c] for c in d.columns]\n",
    "    \n",
    "    d['Information_Need'] = d['Information_Need'].apply(lambda x: d_a['Information_Need'].get(x, 'other'))\n",
    "    d['Prior_Knowledge'] = d['Prior_Knowledge'].apply(lambda x: d_a['Prior_Knowledge'].get(x, 'other'))\n",
    "    \n",
    "    \n",
    "    d['Motivation'] = d['Motivation'].apply(recode_motivation)\n",
    "\n",
    "    return d"
   ]
  },
  {
   "cell_type": "code",
   "execution_count": 180,
   "metadata": {
    "collapsed": false
   },
   "outputs": [],
   "source": [
    "dr = recode_df(d)"
   ]
  },
  {
   "cell_type": "code",
   "execution_count": 187,
   "metadata": {
    "collapsed": false
   },
   "outputs": [],
   "source": [
    "#dr[dr['Motivation2'] == 'bored/curios/random|other']"
   ]
  },
  {
   "cell_type": "code",
   "execution_count": 188,
   "metadata": {
    "collapsed": false
   },
   "outputs": [],
   "source": [
    "#dr.ix[14]['Motivation']"
   ]
  },
  {
   "cell_type": "code",
   "execution_count": 189,
   "metadata": {
    "collapsed": false
   },
   "outputs": [
    {
     "data": {
      "text/plain": [
       "'other'"
      ]
     },
     "execution_count": 189,
     "metadata": {},
     "output_type": "execute_result"
    }
   ],
   "source": [
    "recode_motivation(dr.ix[92]['Motivation'])"
   ]
  },
  {
   "cell_type": "code",
   "execution_count": 190,
   "metadata": {
    "collapsed": true
   },
   "outputs": [],
   "source": [
    "dr.to_csv('../app/data/reader-survey-3-recoded.tsv', sep = '\\t', index = False)"
   ]
  },
  {
   "cell_type": "code",
   "execution_count": 191,
   "metadata": {
    "collapsed": false
   },
   "outputs": [
    {
     "data": {
      "text/plain": [
       "bored/curios/random                                                                         2073\n",
       "media                                                                                       1928\n",
       "work/school                                                                                 1141\n",
       "conversation                                                                                1006\n",
       "other                                                                                        598\n",
       "current_event                                                                                590\n",
       "personal_decision                                                                            469\n",
       "media|bored/curios/random                                                                    411\n",
       "no_response                                                                                  245\n",
       "conversation|bored/curios/random                                                             149\n",
       "current_event|bored/curios/random                                                            121\n",
       "media|conversation                                                                           117\n",
       "media|conversation|bored/curios/random                                                       106\n",
       "current_event|media                                                                           99\n",
       "current_event|media|bored/curios/random                                                       97\n",
       "personal_decision|bored/curios/random                                                         72\n",
       "work/school|bored/curios/random                                                               61\n",
       "work/school|personal_decision|current_event|media|conversation|bored/curios/random            59\n",
       "current_event|conversation                                                                    57\n",
       "personal_decision|media                                                                       54\n",
       "work/school|personal_decision                                                                 53\n",
       "current_event|media|conversation                                                              50\n",
       "personal_decision|conversation                                                                50\n",
       "bored/curios/random|other                                                                     44\n",
       "work/school|conversation                                                                      42\n",
       "current_event|media|conversation|bored/curios/random                                          42\n",
       "personal_decision|current_event                                                               40\n",
       "current_event|conversation|bored/curios/random                                                40\n",
       "personal_decision|media|bored/curios/random                                                   37\n",
       "work/school|current_event                                                                     32\n",
       "                                                                                            ... \n",
       "work/school|personal_decision|current_event|media|conversation|bored/curios/random|other       5\n",
       "work/school|personal_decision|media                                                            5\n",
       "personal_decision|bored/curios/random|other                                                    4\n",
       "work/school|bored/curios/random|other                                                          4\n",
       "personal_decision|conversation|other                                                           4\n",
       "work/school|personal_decision|current_event|media                                              4\n",
       "work/school|media|other                                                                        3\n",
       "media|conversation|other                                                                       3\n",
       "work/school|personal_decision|media|bored/curios/random                                        3\n",
       "current_event|bored/curios/random|other                                                        2\n",
       "personal_decision|current_event|media|conversation|bored/curios/random|other                   2\n",
       "work/school|media|conversation|other                                                           2\n",
       "personal_decision|current_event|bored/curios/random|other                                      2\n",
       "current_event|media|conversation|bored/curios/random|other                                     1\n",
       "work/school|current_event|other                                                                1\n",
       "current_event|conversation|other                                                               1\n",
       "work/school|personal_decision|conversation|other                                               1\n",
       "work/school|personal_decision|current_event|bored/curios/random|other                          1\n",
       "personal_decision|media|bored/curios/random|other                                              1\n",
       "work/school|conversation|bored/curios/random|other                                             1\n",
       "work/school|personal_decision|media|conversation|other                                         1\n",
       "work/school|personal_decision|bored/curios/random|other                                        1\n",
       "current_event|media|other                                                                      1\n",
       "personal_decision|media|other                                                                  1\n",
       "work/school|personal_decision|other                                                            1\n",
       "work/school|personal_decision|current_event|conversation|other                                 1\n",
       "work/school|personal_decision|media|conversation|bored/curios/random|other                     1\n",
       "work/school|media|conversation|bored/curios/random|other                                       1\n",
       "work/school|personal_decision|current_event|other                                              1\n",
       "current_event|media|bored/curios/random|other                                                  1\n",
       "dtype: int64"
      ]
     },
     "execution_count": 191,
     "metadata": {},
     "output_type": "execute_result"
    }
   ],
   "source": [
    "dr['Motivation'].value_counts()"
   ]
  },
  {
   "cell_type": "code",
   "execution_count": null,
   "metadata": {
    "collapsed": true
   },
   "outputs": [],
   "source": []
  }
 ],
 "metadata": {
  "kernelspec": {
   "display_name": "Python 3",
   "language": "python",
   "name": "python3"
  },
  "language_info": {
   "codemirror_mode": {
    "name": "ipython",
    "version": 3
   },
   "file_extension": ".py",
   "mimetype": "text/x-python",
   "name": "python",
   "nbconvert_exporter": "python",
   "pygments_lexer": "ipython3",
   "version": "3.4.3"
  }
 },
 "nbformat": 4,
 "nbformat_minor": 0
}
