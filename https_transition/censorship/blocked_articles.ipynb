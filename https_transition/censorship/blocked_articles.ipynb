{
 "cells": [
  {
   "cell_type": "code",
   "execution_count": 65,
   "metadata": {
    "collapsed": false
   },
   "outputs": [],
   "source": [
    "from db_utils import query_hive_ssh, execute_hive_expression, get_hive_timespan\n",
    "import pandas as pd\n",
    "import matplotlib.pyplot as plt\n",
    "import seaborn as sns\n",
    "from datetime import datetime\n",
    "% matplotlib inline\n",
    "import shutil\n",
    "import os\n",
    "import numpy as np\n"
   ]
  },
  {
   "cell_type": "markdown",
   "metadata": {},
   "source": [
    "# Code "
   ]
  },
  {
   "cell_type": "code",
   "execution_count": 133,
   "metadata": {
    "collapsed": false
   },
   "outputs": [],
   "source": [
    "def get_country_project_condition(d):\n",
    "        pairs = []\n",
    "        for c,pl in d.items():\n",
    "            for p in pl:\n",
    "                pairs.append(\"(project = '%s.wikipedia' AND country = '%s')\" % (p,c))\n",
    "        return \"(\" + \" OR \".join(pairs) + \")\"\n",
    "    \n",
    "def get_hive_ts(d):\n",
    "    query = \"\"\"\n",
    "        DROP TABLE IF EXISTS censorship.daily_ts;\n",
    "        CREATE TABLE censorship.daily_ts\n",
    "        AS SELECT \n",
    "            ts.year, \n",
    "            ts.month, \n",
    "            ts.day, \n",
    "            ts.country, \n",
    "            ts.project, \n",
    "            ts.page_title,\n",
    "            ts.n,\n",
    "            ts.n / agg.n_agg as proportion,\n",
    "            wd.en_page_title\n",
    "        FROM \n",
    "            (SELECT\n",
    "                year, \n",
    "                month, \n",
    "                day, \n",
    "                country, \n",
    "                project, \n",
    "                page_title,\n",
    "                SUM(view_count) as n\n",
    "            FROM wmf.pageview_hourly\n",
    "                WHERE agent_type = 'user'\n",
    "                AND year = 2015\n",
    "                AND page_title not RLIKE ':'\n",
    "                AND %(cp_conditions)s\n",
    "            GROUP BY\n",
    "                year,\n",
    "                month,\n",
    "                day,\n",
    "                country,\n",
    "                project,\n",
    "                page_title\n",
    "            ) ts\n",
    "        LEFT JOIN\n",
    "            (SELECT\n",
    "                year, \n",
    "                month, \n",
    "                day, \n",
    "                project, \n",
    "                page_title,\n",
    "                SUM(view_count) as n_agg\n",
    "            FROM wmf.pageview_hourly\n",
    "                WHERE agent_type = 'user'\n",
    "                AND year = 2015\n",
    "                AND page_title not RLIKE ':'\n",
    "            GROUP BY\n",
    "                year,\n",
    "                month,\n",
    "                day,\n",
    "                project,\n",
    "                page_title\n",
    "            ) agg\n",
    "            ON (    ts.year = agg.year\n",
    "                AND ts.month = agg.month\n",
    "                AND ts.day = agg.day\n",
    "                AND ts.project = agg.project\n",
    "                AND ts.page_title = agg.page_title)\n",
    "        LEFT JOIN censorship.wikidata wd\n",
    "            ON (ts.page_title = wd.page_title AND ts.project = wd.project);\n",
    "    \"\"\"\n",
    "    query %= {'cp_conditions' : get_country_project_condition(cp_dict)}\n",
    "    query_hive_ssh(query, 'ts', priority = True)\n",
    "\n",
    "    \n",
    "    \n",
    "def get_local_ts(cp_dict, articles):\n",
    "    \n",
    "    params = {\n",
    "        'article_condition': \" en_page_title in ('\" + \"', '\".join(articles) + \"')\",\n",
    "        'pc_condition': get_country_project_condition(cp_dict)\n",
    "    }\n",
    "\n",
    "    query = \"\"\"\n",
    "    SELECT *\n",
    "    FROM censorship.daily_ts\n",
    "    WHERE %(pc_condition)s\n",
    "    AND %(article_condition)s\n",
    "    \"\"\"\n",
    "\n",
    "    df =  query_hive_ssh(query % params, 'ts', priority = True)\n",
    "    df.columns = [c.split('.')[1] for c in df]\n",
    "    df.index  = pd.to_datetime(df.year*1000000 + df.month*10000 + df.day * 100, format='%Y%m%d%H')\n",
    "    return df\n",
    "\n",
    "\n",
    "def get_single_ts(df, start, stop, project, country, title, field):\n",
    "    indices = (df['project'] == project+ '.wikipedia') & (df['country'] == country) & (df['en_page_title'] == title)\n",
    "    data = df[indices]\n",
    "    ts = pd.Series(data[field], index = pd.date_range(start=start, end=stop, freq='d') )\n",
    "    ts.fillna(0, inplace = True)\n",
    "    return ts\n",
    "\n",
    "\n",
    "def plot_series(df, start, stop, project, country, title, fig_dir, smooth = 1):\n",
    "    ts = get_single_ts(df, start, stop, project, country, title, 'n')\n",
    "    ts = pd.rolling_mean(ts, smooth)\n",
    "\n",
    "    ts_prop = get_single_ts(df, start, stop, project, country, title, 'proportion')\n",
    "    ts_prop = pd.rolling_mean(ts_prop, smooth)\n",
    "    \n",
    "    f, axarr = plt.subplots(2, sharex=True)\n",
    "    \n",
    "    english_end = datetime.strptime('2015-06-12 09:40', \"%Y-%m-%d %H:%M\") # End transition of English Wikipedia, including Mobile\n",
    "\n",
    "    # plot transition point\n",
    "    axarr[0].axvline(english_end, color='red', label = 'HTTPS transition', linewidth=0.5)\n",
    "    axarr[1].axvline(english_end, color='red', label = 'HTTPS transition', linewidth=0.5)\n",
    "    \n",
    "    axarr[0].plot(ts.index, ts.values)\n",
    "    axarr[1].plot(ts_prop.index, ts_prop.values)\n",
    "\n",
    "    \n",
    "    fig_name = '_'.join([country, title, project, '.pdf'])\n",
    "    fig_name = fig_name.replace('/', '-')\n",
    "    plt.savefig(os.path.join(fig_dir, fig_name))\n",
    "    plt.close(f)\n",
    "\n",
    "    \n",
    "def plot_all_series(df, start, stop, cp_dict, articles, fig_dir, smooth = 1):\n",
    "    if os.path.exists(fig_dir):\n",
    "        shutil.rmtree(fig_dir)\n",
    "    os.makedirs(fig_dir)\n",
    "    for c,pl in cp_dict.items():\n",
    "        for p in pl:  \n",
    "            for a in articles:\n",
    "                plot_series(df, start, stop, p, c, a, fig_dir, smooth = smooth)"
   ]
  },
  {
   "cell_type": "markdown",
   "metadata": {},
   "source": [
    "# Make Table of Time Series in Hive"
   ]
  },
  {
   "cell_type": "code",
   "execution_count": 122,
   "metadata": {
    "collapsed": false
   },
   "outputs": [],
   "source": [
    "cp_dict = {'Iran':                        ['en', 'fa',],\n",
    "           'Saudi Arabia':                ['en', 'ar',],\n",
    "           'Turkey':                      ['en', 'tr',],\n",
    "           'Rebublic of Korea':           ['en', 'ko',],\n",
    "           'Iraq':                        ['en', 'ar',],\n",
    "           'Cuba':                        ['en', 'es',],\n",
    "           'Venezuela':                   ['en', 'es',],\n",
    "           'Pakistan':                    ['en', 'ur',],\n",
    "           'Vietnam':                     ['en', 'vi',],\n",
    "           'Singapore':                   ['en', 'zh',],\n",
    "           'Uzbekistan':                  ['en', 'uz',],\n",
    "           'Nigeria':                     ['en', 'en',],\n",
    "           'Egypt':                       ['en', 'ar',],\n",
    "           'Thailand':                    ['en', 'th',],\n",
    "           'Morocco':                     ['en', ],\n",
    "           'Bangladesh':                  ['en', ],\n",
    "           'United States':               ['en', ],\n",
    "           'China':                       ['en', ],\n",
    "           'Russia':                      ['en', 'ru',],\n",
    "          }\n",
    "#get_hive_ts(cp_dict)"
   ]
  },
  {
   "cell_type": "markdown",
   "metadata": {},
   "source": [
    "# Inspect Topics"
   ]
  },
  {
   "cell_type": "code",
   "execution_count": 136,
   "metadata": {
    "collapsed": true
   },
   "outputs": [],
   "source": [
    "start = '2015-05-01 00'\n",
    "stop = '2015-10-25 03'"
   ]
  },
  {
   "cell_type": "code",
   "execution_count": 138,
   "metadata": {
    "collapsed": false
   },
   "outputs": [],
   "source": [
    "articles = [ 'Lesbian', 'LGBT', 'Gay', 'Transgender', 'Bisexuality', 'Homosexuality']\n",
    "fig_dir = './figs_queer'\n",
    "df = get_local_ts(cp_dict, articles) \n",
    "plot_all_series(df, start, stop, cp_dict, articles, fig_dir, smooth = 7 )"
   ]
  },
  {
   "cell_type": "code",
   "execution_count": 139,
   "metadata": {
    "collapsed": false
   },
   "outputs": [],
   "source": [
    "articles = ['Sex', 'Anal_sex', 'BDSM', 'Brazzers', 'Cunnilingus', 'Dildo', 'Fellatio', 'Oral_sex', 'Human_penis', 'Vulva', 'Scrotum', 'Vagina']\n",
    "fig_dir = './figs_sex'\n",
    "df = get_local_ts(cp_dict, articles) \n",
    "plot_all_series(df, start, stop, cp_dict, articles, fig_dir, smooth = 7)"
   ]
  },
  {
   "cell_type": "code",
   "execution_count": 140,
   "metadata": {
    "collapsed": false
   },
   "outputs": [],
   "source": [
    "articles = ['Mustafa_Kemal_Atatürk', 'Human_penis', 'Vulva', 'Scrotum', 'Vagina', 'Opinion_polling_for_the_Turkish_general_election,_June_2015']\n",
    "fig_dir = './figs_turkey_suggestions'\n",
    "cp = {'Turkey': ['tr', 'en']}\n",
    "df = get_local_ts(cp, articles) \n",
    "plot_all_series(df, start, stop, cp, articles, fig_dir, smooth = 7 )"
   ]
  },
  {
   "cell_type": "code",
   "execution_count": 141,
   "metadata": {
    "collapsed": false
   },
   "outputs": [],
   "source": [
    "articles = ['Salman_of_Saudi_Arabia']\n",
    "fig_dir = './figs_saudi_king'\n",
    "cp = {'Saudi Arabia': ['ar', 'en']}\n",
    "df = get_local_ts(cp, articles) \n",
    "plot_all_series(df, start, stop, cp, articles, fig_dir, smooth = 7 )"
   ]
  },
  {
   "cell_type": "markdown",
   "metadata": {},
   "source": [
    "# Inspect Countries"
   ]
  },
  {
   "cell_type": "code",
   "execution_count": 3,
   "metadata": {
    "collapsed": true
   },
   "outputs": [],
   "source": [
    "c_censorship = 'Iran'\n",
    "c_control = 'United States'\n",
    "countries = [c_censorship, c_control]\n",
    "projects = ['en.wikipedia', 'fa.wikipedia']"
   ]
  },
  {
   "cell_type": "code",
   "execution_count": 4,
   "metadata": {
    "collapsed": true
   },
   "outputs": [],
   "source": [
    "# get top candidates"
   ]
  },
  {
   "cell_type": "code",
   "execution_count": 5,
   "metadata": {
    "collapsed": false
   },
   "outputs": [],
   "source": [
    "c = 'Iran'\n",
    "\n",
    "# en articles from paper\n",
    "#blocked_articles = list(pd.read_csv('./data/blocked_articles.tsv')['article']) \n",
    "\n",
    "d_censorship = pd.read_csv('./data/https_transition_comparison.tsv', sep = '\\t', encoding = 'utf8')\n",
    "\n",
    "# outliers in censored country\n",
    "\n",
    "outlier_articles = [tuple(x) for x in d_censorship[d_censorship['country'] == c][['project', 'title']][:300].values]\n",
    "\n",
    "# their english counter parts\n",
    "en_outlier_articles = [ ('en.wikipedia', x) for x  in d_censorship[d_censorship['country'] == c][:300]['en_title']]\n",
    "\n",
    "# get times series for all\n",
    "articles = set([str(e[1]) for e in outlier_articles + en_outlier_articles if \"'\" not in str(e[1])])"
   ]
  },
  {
   "cell_type": "code",
   "execution_count": 6,
   "metadata": {
    "collapsed": false
   },
   "outputs": [],
   "source": [
    "#d_censorship[d_censorship['country'] == c_censorship].head(200)"
   ]
  },
  {
   "cell_type": "code",
   "execution_count": 54,
   "metadata": {
    "collapsed": false
   },
   "outputs": [],
   "source": [
    "\n",
    "df.index  = pd.to_datetime(df.year*1000000 + df.month*10000 + df.day * 100, format='%Y%m%d%H')"
   ]
  },
  {
   "cell_type": "code",
   "execution_count": 55,
   "metadata": {
    "collapsed": false
   },
   "outputs": [
    {
     "data": {
      "text/html": [
       "<div>\n",
       "<table border=\"1\" class=\"dataframe\">\n",
       "  <thead>\n",
       "    <tr style=\"text-align: right;\">\n",
       "      <th></th>\n",
       "      <th>year</th>\n",
       "      <th>month</th>\n",
       "      <th>day</th>\n",
       "      <th>country</th>\n",
       "      <th>project</th>\n",
       "      <th>page_title</th>\n",
       "      <th>n</th>\n",
       "      <th>proportion</th>\n",
       "      <th>en_page_title</th>\n",
       "      <th>dt</th>\n",
       "    </tr>\n",
       "  </thead>\n",
       "  <tbody>\n",
       "    <tr>\n",
       "      <th>2015-08-28</th>\n",
       "      <td>2015</td>\n",
       "      <td>8</td>\n",
       "      <td>28</td>\n",
       "      <td>Vietnam</td>\n",
       "      <td>vi.wikipedia</td>\n",
       "      <td>Người_đồng_tính_nữ</td>\n",
       "      <td>4</td>\n",
       "      <td>0.666667</td>\n",
       "      <td>Lesbian</td>\n",
       "      <td>2015-08-28</td>\n",
       "    </tr>\n",
       "    <tr>\n",
       "      <th>2015-09-14</th>\n",
       "      <td>2015</td>\n",
       "      <td>9</td>\n",
       "      <td>14</td>\n",
       "      <td>Vietnam</td>\n",
       "      <td>vi.wikipedia</td>\n",
       "      <td>Người_đồng_tính_nữ</td>\n",
       "      <td>3</td>\n",
       "      <td>0.600000</td>\n",
       "      <td>Lesbian</td>\n",
       "      <td>2015-09-14</td>\n",
       "    </tr>\n",
       "    <tr>\n",
       "      <th>2015-10-25</th>\n",
       "      <td>2015</td>\n",
       "      <td>10</td>\n",
       "      <td>25</td>\n",
       "      <td>Vietnam</td>\n",
       "      <td>vi.wikipedia</td>\n",
       "      <td>Người_đồng_tính_nữ</td>\n",
       "      <td>6</td>\n",
       "      <td>1.000000</td>\n",
       "      <td>Lesbian</td>\n",
       "      <td>2015-10-25</td>\n",
       "    </tr>\n",
       "    <tr>\n",
       "      <th>2015-10-28</th>\n",
       "      <td>2015</td>\n",
       "      <td>10</td>\n",
       "      <td>28</td>\n",
       "      <td>Vietnam</td>\n",
       "      <td>vi.wikipedia</td>\n",
       "      <td>Người_đồng_tính_nữ</td>\n",
       "      <td>7</td>\n",
       "      <td>0.875000</td>\n",
       "      <td>Lesbian</td>\n",
       "      <td>2015-10-28</td>\n",
       "    </tr>\n",
       "    <tr>\n",
       "      <th>2015-09-03</th>\n",
       "      <td>2015</td>\n",
       "      <td>9</td>\n",
       "      <td>3</td>\n",
       "      <td>Vietnam</td>\n",
       "      <td>vi.wikipedia</td>\n",
       "      <td>Người_đồng_tính_nữ</td>\n",
       "      <td>5</td>\n",
       "      <td>0.555556</td>\n",
       "      <td>Lesbian</td>\n",
       "      <td>2015-09-03</td>\n",
       "    </tr>\n",
       "  </tbody>\n",
       "</table>\n",
       "</div>"
      ],
      "text/plain": [
       "            year  month  day  country       project          page_title  n  \\\n",
       "2015-08-28  2015      8   28  Vietnam  vi.wikipedia  Người_đồng_tính_nữ  4   \n",
       "2015-09-14  2015      9   14  Vietnam  vi.wikipedia  Người_đồng_tính_nữ  3   \n",
       "2015-10-25  2015     10   25  Vietnam  vi.wikipedia  Người_đồng_tính_nữ  6   \n",
       "2015-10-28  2015     10   28  Vietnam  vi.wikipedia  Người_đồng_tính_nữ  7   \n",
       "2015-09-03  2015      9    3  Vietnam  vi.wikipedia  Người_đồng_tính_nữ  5   \n",
       "\n",
       "            proportion en_page_title         dt  \n",
       "2015-08-28    0.666667       Lesbian 2015-08-28  \n",
       "2015-09-14    0.600000       Lesbian 2015-09-14  \n",
       "2015-10-25    1.000000       Lesbian 2015-10-25  \n",
       "2015-10-28    0.875000       Lesbian 2015-10-28  \n",
       "2015-09-03    0.555556       Lesbian 2015-09-03  "
      ]
     },
     "execution_count": 55,
     "metadata": {},
     "output_type": "execute_result"
    }
   ],
   "source": [
    "df.head()"
   ]
  },
  {
   "cell_type": "code",
   "execution_count": 33,
   "metadata": {
    "collapsed": false
   },
   "outputs": [
    {
     "data": {
      "text/html": [
       "<div>\n",
       "<table border=\"1\" class=\"dataframe\">\n",
       "  <thead>\n",
       "    <tr style=\"text-align: right;\">\n",
       "      <th></th>\n",
       "      <th>year</th>\n",
       "      <th>month</th>\n",
       "      <th>day</th>\n",
       "      <th>country</th>\n",
       "      <th>project</th>\n",
       "      <th>page_title</th>\n",
       "      <th>n</th>\n",
       "      <th>proportion</th>\n",
       "      <th>en_page_title</th>\n",
       "    </tr>\n",
       "  </thead>\n",
       "  <tbody>\n",
       "    <tr>\n",
       "      <th>0</th>\n",
       "      <td>2015</td>\n",
       "      <td>8</td>\n",
       "      <td>28</td>\n",
       "      <td>Vietnam</td>\n",
       "      <td>vi.wikipedia</td>\n",
       "      <td>Người_đồng_tính_nữ</td>\n",
       "      <td>4</td>\n",
       "      <td>0.666667</td>\n",
       "      <td>Lesbian</td>\n",
       "    </tr>\n",
       "    <tr>\n",
       "      <th>1</th>\n",
       "      <td>2015</td>\n",
       "      <td>9</td>\n",
       "      <td>14</td>\n",
       "      <td>Vietnam</td>\n",
       "      <td>vi.wikipedia</td>\n",
       "      <td>Người_đồng_tính_nữ</td>\n",
       "      <td>3</td>\n",
       "      <td>0.600000</td>\n",
       "      <td>Lesbian</td>\n",
       "    </tr>\n",
       "    <tr>\n",
       "      <th>2</th>\n",
       "      <td>2015</td>\n",
       "      <td>10</td>\n",
       "      <td>25</td>\n",
       "      <td>Vietnam</td>\n",
       "      <td>vi.wikipedia</td>\n",
       "      <td>Người_đồng_tính_nữ</td>\n",
       "      <td>6</td>\n",
       "      <td>1.000000</td>\n",
       "      <td>Lesbian</td>\n",
       "    </tr>\n",
       "    <tr>\n",
       "      <th>3</th>\n",
       "      <td>2015</td>\n",
       "      <td>10</td>\n",
       "      <td>28</td>\n",
       "      <td>Vietnam</td>\n",
       "      <td>vi.wikipedia</td>\n",
       "      <td>Người_đồng_tính_nữ</td>\n",
       "      <td>7</td>\n",
       "      <td>0.875000</td>\n",
       "      <td>Lesbian</td>\n",
       "    </tr>\n",
       "    <tr>\n",
       "      <th>4</th>\n",
       "      <td>2015</td>\n",
       "      <td>9</td>\n",
       "      <td>3</td>\n",
       "      <td>Vietnam</td>\n",
       "      <td>vi.wikipedia</td>\n",
       "      <td>Người_đồng_tính_nữ</td>\n",
       "      <td>5</td>\n",
       "      <td>0.555556</td>\n",
       "      <td>Lesbian</td>\n",
       "    </tr>\n",
       "  </tbody>\n",
       "</table>\n",
       "</div>"
      ],
      "text/plain": [
       "   year  month  day  country       project          page_title  n  proportion  \\\n",
       "0  2015      8   28  Vietnam  vi.wikipedia  Người_đồng_tính_nữ  4    0.666667   \n",
       "1  2015      9   14  Vietnam  vi.wikipedia  Người_đồng_tính_nữ  3    0.600000   \n",
       "2  2015     10   25  Vietnam  vi.wikipedia  Người_đồng_tính_nữ  6    1.000000   \n",
       "3  2015     10   28  Vietnam  vi.wikipedia  Người_đồng_tính_nữ  7    0.875000   \n",
       "4  2015      9    3  Vietnam  vi.wikipedia  Người_đồng_tính_nữ  5    0.555556   \n",
       "\n",
       "  en_page_title  \n",
       "0       Lesbian  \n",
       "1       Lesbian  \n",
       "2       Lesbian  \n",
       "3       Lesbian  \n",
       "4       Lesbian  "
      ]
     },
     "execution_count": 33,
     "metadata": {},
     "output_type": "execute_result"
    }
   ],
   "source": [
    "df.head()"
   ]
  },
  {
   "cell_type": "code",
   "execution_count": 36,
   "metadata": {
    "collapsed": false
   },
   "outputs": [
    {
     "ename": "TypeError",
     "evalue": "'int' object is unsliceable",
     "output_type": "error",
     "traceback": [
      "\u001b[0;31m---------------------------------------------------------------------------\u001b[0m",
      "\u001b[0;31mTypeError\u001b[0m                                 Traceback (most recent call last)",
      "\u001b[0;32m<ipython-input-36-d653bf8fbb8c>\u001b[0m in \u001b[0;36m<module>\u001b[0;34m()\u001b[0m\n\u001b[1;32m      1\u001b[0m \u001b[0mdf\u001b[0m \u001b[0;34m=\u001b[0m \u001b[0md\u001b[0m\u001b[0;34m\u001b[0m\u001b[0m\n\u001b[0;32m----> 2\u001b[0;31m \u001b[0mpd\u001b[0m\u001b[0;34m.\u001b[0m\u001b[0mto_datetime\u001b[0m\u001b[0;34m(\u001b[0m\u001b[0mdf\u001b[0m\u001b[0;34m.\u001b[0m\u001b[0myear\u001b[0m\u001b[0;34m*\u001b[0m\u001b[0;36m1000000\u001b[0m \u001b[0;34m+\u001b[0m \u001b[0mdf\u001b[0m\u001b[0;34m.\u001b[0m\u001b[0mmonth\u001b[0m\u001b[0;34m*\u001b[0m\u001b[0;36m10000\u001b[0m \u001b[0;34m+\u001b[0m \u001b[0mdf\u001b[0m\u001b[0;34m.\u001b[0m\u001b[0mday\u001b[0m \u001b[0;34m*\u001b[0m \u001b[0;36m100\u001b[0m\u001b[0;34m,\u001b[0m \u001b[0mformat\u001b[0m\u001b[0;34m=\u001b[0m\u001b[0;34m'%Y%m%d'\u001b[0m\u001b[0;34m)\u001b[0m\u001b[0;34m\u001b[0m\u001b[0m\n\u001b[0m",
      "\u001b[0;32m/Users/ellerywulczyn/miniconda3/lib/python3.4/site-packages/pandas/tseries/tools.py\u001b[0m in \u001b[0;36mto_datetime\u001b[0;34m(arg, errors, dayfirst, utc, box, format, exact, coerce, unit, infer_datetime_format)\u001b[0m\n\u001b[1;32m    338\u001b[0m         \u001b[0;32mreturn\u001b[0m \u001b[0marg\u001b[0m\u001b[0;34m\u001b[0m\u001b[0m\n\u001b[1;32m    339\u001b[0m     \u001b[0;32melif\u001b[0m \u001b[0misinstance\u001b[0m\u001b[0;34m(\u001b[0m\u001b[0marg\u001b[0m\u001b[0;34m,\u001b[0m \u001b[0mSeries\u001b[0m\u001b[0;34m)\u001b[0m\u001b[0;34m:\u001b[0m\u001b[0;34m\u001b[0m\u001b[0m\n\u001b[0;32m--> 340\u001b[0;31m         \u001b[0mvalues\u001b[0m \u001b[0;34m=\u001b[0m \u001b[0m_convert_listlike\u001b[0m\u001b[0;34m(\u001b[0m\u001b[0marg\u001b[0m\u001b[0;34m.\u001b[0m\u001b[0mvalues\u001b[0m\u001b[0;34m,\u001b[0m \u001b[0;32mFalse\u001b[0m\u001b[0;34m,\u001b[0m \u001b[0mformat\u001b[0m\u001b[0;34m)\u001b[0m\u001b[0;34m\u001b[0m\u001b[0m\n\u001b[0m\u001b[1;32m    341\u001b[0m         \u001b[0;32mreturn\u001b[0m \u001b[0mSeries\u001b[0m\u001b[0;34m(\u001b[0m\u001b[0mvalues\u001b[0m\u001b[0;34m,\u001b[0m \u001b[0mindex\u001b[0m\u001b[0;34m=\u001b[0m\u001b[0marg\u001b[0m\u001b[0;34m.\u001b[0m\u001b[0mindex\u001b[0m\u001b[0;34m,\u001b[0m \u001b[0mname\u001b[0m\u001b[0;34m=\u001b[0m\u001b[0marg\u001b[0m\u001b[0;34m.\u001b[0m\u001b[0mname\u001b[0m\u001b[0;34m)\u001b[0m\u001b[0;34m\u001b[0m\u001b[0m\n\u001b[1;32m    342\u001b[0m     \u001b[0;32melif\u001b[0m \u001b[0mcom\u001b[0m\u001b[0;34m.\u001b[0m\u001b[0mis_list_like\u001b[0m\u001b[0;34m(\u001b[0m\u001b[0marg\u001b[0m\u001b[0;34m)\u001b[0m\u001b[0;34m:\u001b[0m\u001b[0;34m\u001b[0m\u001b[0m\n",
      "\u001b[0;32m/Users/ellerywulczyn/miniconda3/lib/python3.4/site-packages/pandas/tseries/tools.py\u001b[0m in \u001b[0;36m_convert_listlike\u001b[0;34m(arg, box, format)\u001b[0m\n\u001b[1;32m    305\u001b[0m                     \u001b[0;32mtry\u001b[0m\u001b[0;34m:\u001b[0m\u001b[0;34m\u001b[0m\u001b[0m\n\u001b[1;32m    306\u001b[0m                         result = tslib.array_strptime(\n\u001b[0;32m--> 307\u001b[0;31m                             \u001b[0marg\u001b[0m\u001b[0;34m,\u001b[0m \u001b[0mformat\u001b[0m\u001b[0;34m,\u001b[0m \u001b[0mexact\u001b[0m\u001b[0;34m=\u001b[0m\u001b[0mexact\u001b[0m\u001b[0;34m,\u001b[0m \u001b[0mcoerce\u001b[0m\u001b[0;34m=\u001b[0m\u001b[0mcoerce\u001b[0m\u001b[0;34m\u001b[0m\u001b[0m\n\u001b[0m\u001b[1;32m    308\u001b[0m                         )\n\u001b[1;32m    309\u001b[0m                     \u001b[0;32mexcept\u001b[0m \u001b[0;34m(\u001b[0m\u001b[0mtslib\u001b[0m\u001b[0;34m.\u001b[0m\u001b[0mOutOfBoundsDatetime\u001b[0m\u001b[0;34m)\u001b[0m\u001b[0;34m:\u001b[0m\u001b[0;34m\u001b[0m\u001b[0m\n",
      "\u001b[0;32mpandas/tslib.pyx\u001b[0m in \u001b[0;36mpandas.tslib.array_strptime (pandas/tslib.c:40006)\u001b[0;34m()\u001b[0m\n",
      "\u001b[0;31mTypeError\u001b[0m: 'int' object is unsliceable"
     ]
    }
   ],
   "source": [
    "df = d \n",
    "pd.to_datetime(df.year*1000000 + df.month*10000 + df.day * 100, format='%Y%m%d')\n"
   ]
  },
  {
   "cell_type": "code",
   "execution_count": 9,
   "metadata": {
    "collapsed": true
   },
   "outputs": [],
   "source": [
    "def compare_countries(start, stop, c_censorship, c_control, a_censorship, a_control, smooth = 4):\n",
    "    f, axarr = plt.subplots(2, sharex=True)\n",
    "    \n",
    "    # plot transition point\n",
    "    english_end = datetime.strptime('2015-06-12 09:40', \"%Y-%m-%d %H:%M\") # End transition of English Wikipedia, including Mobile\n",
    "    axarr[0].axvline(english_end, color='red', label = 'HTTPS transition', linewidth=0.5)\n",
    "    axarr[1].axvline(english_end, color='red', label = 'HTTPS transition', linewidth=0.5)\n",
    "\n",
    "    # plot ts for article in censored country\n",
    "    project = a_censorship[0]\n",
    "    title = str(a_censorship[1])\n",
    "    ts0 = get_series(start, stop, project, c_censorship, title)\n",
    "    ts0 = pd.rolling_mean(ts0, smooth)\n",
    "    axarr[0].plot(ts0.index, ts0.values)\n",
    "    ylabel = c_censorship \n",
    "    axarr[0].set_ylabel(ylabel)\n",
    "    \n",
    "        \n",
    "    # plot ts for articles in control\n",
    "    en_project = a_control[0]\n",
    "    en_title = str(a_control[1])\n",
    "    ts1 = get_series(start, stop, en_project, c_control, en_title)\n",
    "    ts1 = pd.rolling_mean(ts1, smooth)\n",
    "    axarr[1].plot(ts1.index, ts1.values)\n",
    "    ylabel = c_control #+ us_article[0].split('.')[0] + ' ' + us_article[1]\n",
    "    axarr[1].set_ylabel(ylabel)\n",
    "    \n",
    "    axarr[0].set_title(project.split('.')[0] + ' ' + en_title)\n",
    "    \n",
    "    fig_dir = './figs_' + c_censorship\n",
    "    if en_title is not np.nan:\n",
    "        fig_name =  en_title  +  '.pdf'\n",
    "    else:\n",
    "        fig_name =  title  +  '.pdf'\n",
    "    \n",
    "    fig_name = fig_name.replace('/', '-')\n",
    "    plt.savefig(os.path.join(fig_dir, fig_name))\n",
    "    plt.close(f)\n",
    "    "
   ]
  },
  {
   "cell_type": "code",
   "execution_count": 10,
   "metadata": {
    "collapsed": false
   },
   "outputs": [],
   "source": [
    "fig_dir = './figs_' + c_censorship\n",
    "if os.path.exists(fig_dir):\n",
    "    shutil.rmtree(fig_dir)\n",
    "os.makedirs(fig_dir)\n",
    "    \n",
    "for i, article in enumerate(outlier_articles):\n",
    "    compare_countries(start, stop, c_censorship, c_control, article, en_outlier_articles[i] , smooth = 24)\n",
    "    "
   ]
  },
  {
   "cell_type": "code",
   "execution_count": null,
   "metadata": {
    "collapsed": true
   },
   "outputs": [],
   "source": []
  }
 ],
 "metadata": {
  "kernelspec": {
   "display_name": "Python 3",
   "language": "python",
   "name": "python3"
  },
  "language_info": {
   "codemirror_mode": {
    "name": "ipython",
    "version": 3
   },
   "file_extension": ".py",
   "mimetype": "text/x-python",
   "name": "python",
   "nbconvert_exporter": "python",
   "pygments_lexer": "ipython3",
   "version": "3.4.3"
  }
 },
 "nbformat": 4,
 "nbformat_minor": 0
}
