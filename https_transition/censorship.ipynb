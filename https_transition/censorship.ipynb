{
 "cells": [
  {
   "cell_type": "code",
   "execution_count": 1,
   "metadata": {
    "collapsed": false
   },
   "outputs": [
    {
     "name": "stderr",
     "output_type": "stream",
     "text": [
      "Vendor:  Continuum Analytics, Inc.\n",
      "Package: mkl\n",
      "Message: trial mode expires in 25 days\n"
     ]
    }
   ],
   "source": [
    "from db_utils import query_hive_ssh, execute_hive_expression, get_hive_timespan\n",
    "from censorship import *\n",
    "import pandas as pd\n",
    "% matplotlib inline"
   ]
  },
  {
   "cell_type": "markdown",
   "metadata": {},
   "source": [
    "# Generate Data Set"
   ]
  },
  {
   "cell_type": "code",
   "execution_count": 4,
   "metadata": {
    "collapsed": true
   },
   "outputs": [],
   "source": [
    "def get_PVSpanComparison_df(pvsc):\n",
    "    \"\"\"\n",
    "    Pull a dataframe with articles that jumped\n",
    "    at least one standard deviation in view proportion\n",
    "    \"\"\"\n",
    "    query = \"\"\"\n",
    "    SELECT *\n",
    "    FROM %(db)s.%(span_table)s\n",
    "    WHERE post_n_tpc > 500\n",
    "    AND normalized_wdc_view_proportion_delta > 1.0\n",
    "    \"\"\"\n",
    "    df = query_hive_ssh(query % pvsc.params, 'get_PVSpanComparison_df')\n",
    "    df.columns = [c.split('.')[1] for c in df.columns]\n",
    "    df.sort('normalized_wdc_view_proportion_delta', inplace  = True, ascending = 0)\n",
    "    return df"
   ]
  },
  {
   "cell_type": "code",
   "execution_count": 5,
   "metadata": {
    "collapsed": true
   },
   "outputs": [],
   "source": [
    "# create a comparison between two time periods before the https trnasiton\n",
    "cmp_ctr = PVSpanComparison(['2015-05-01', '2015-05-14'], ['2015-05-15', '2015-05-28'], 'censorship', dry = True)\n",
    "# create a comparison between two weeks before and several weeks after the https transition\n",
    "cmp = PVSpanComparison(['2015-05-15', '2015-05-28'], ['2015-06-17', '2015-07-30'], 'censorship', dry = True)"
   ]
  },
  {
   "cell_type": "code",
   "execution_count": 6,
   "metadata": {
    "collapsed": false
   },
   "outputs": [],
   "source": [
    "# pull reduced data from Hive into local pandas df\n",
    "df = get_PVSpanComparison_df(cmp)\n",
    "df_ctr = get_PVSpanComparison_df(cmp_ctr)"
   ]
  },
  {
   "cell_type": "markdown",
   "metadata": {},
   "source": [
    "# Investigate Top Articles per Country"
   ]
  },
  {
   "cell_type": "code",
   "execution_count": 18,
   "metadata": {
    "collapsed": false
   },
   "outputs": [
    {
     "data": {
      "text/html": [
       "<div>\n",
       "<table border=\"1\" class=\"dataframe\">\n",
       "  <thead>\n",
       "    <tr style=\"text-align: right;\">\n",
       "      <th></th>\n",
       "      <th>p</th>\n",
       "      <th>t</th>\n",
       "      <th>c</th>\n",
       "      <th>en_page_title</th>\n",
       "      <th>normalized_wdc_view_proportion_delta</th>\n",
       "    </tr>\n",
       "  </thead>\n",
       "  <tbody>\n",
       "    <tr>\n",
       "      <th>367600</th>\n",
       "      <td>en.wikipedia</td>\n",
       "      <td>MILF_(slang)</td>\n",
       "      <td>Iran</td>\n",
       "      <td>MILF_(slang)</td>\n",
       "      <td>35.757029</td>\n",
       "    </tr>\n",
       "    <tr>\n",
       "      <th>185555</th>\n",
       "      <td>en.wikipedia</td>\n",
       "      <td>.xxx</td>\n",
       "      <td>Iran</td>\n",
       "      <td>.xxx</td>\n",
       "      <td>26.660146</td>\n",
       "    </tr>\n",
       "    <tr>\n",
       "      <th>140303</th>\n",
       "      <td>fa.wikipedia</td>\n",
       "      <td>.xxx</td>\n",
       "      <td>Iran</td>\n",
       "      <td>.xxx</td>\n",
       "      <td>26.660146</td>\n",
       "    </tr>\n",
       "    <tr>\n",
       "      <th>430245</th>\n",
       "      <td>fa.wikipedia</td>\n",
       "      <td>تاهیتی</td>\n",
       "      <td>Iran</td>\n",
       "      <td>Tahiti</td>\n",
       "      <td>26.393169</td>\n",
       "    </tr>\n",
       "    <tr>\n",
       "      <th>33075</th>\n",
       "      <td>en.wikipedia</td>\n",
       "      <td>Tahiti</td>\n",
       "      <td>Iran</td>\n",
       "      <td>Tahiti</td>\n",
       "      <td>26.393169</td>\n",
       "    </tr>\n",
       "    <tr>\n",
       "      <th>151963</th>\n",
       "      <td>en.wikipedia</td>\n",
       "      <td>Alex_Rocco</td>\n",
       "      <td>Iran</td>\n",
       "      <td>Alex_Rocco</td>\n",
       "      <td>24.612433</td>\n",
       "    </tr>\n",
       "    <tr>\n",
       "      <th>80424</th>\n",
       "      <td>en.wikipedia</td>\n",
       "      <td>Bitch_Better_Have_My_Money</td>\n",
       "      <td>Iran</td>\n",
       "      <td>Bitch_Better_Have_My_Money</td>\n",
       "      <td>24.177870</td>\n",
       "    </tr>\n",
       "    <tr>\n",
       "      <th>25538</th>\n",
       "      <td>fa.wikipedia</td>\n",
       "      <td>پرچم_مکزیک</td>\n",
       "      <td>Iran</td>\n",
       "      <td>Flag_of_Mexico</td>\n",
       "      <td>23.822420</td>\n",
       "    </tr>\n",
       "    <tr>\n",
       "      <th>109082</th>\n",
       "      <td>fa.wikipedia</td>\n",
       "      <td>آلما_ماتر</td>\n",
       "      <td>Iran</td>\n",
       "      <td>Alma_mater</td>\n",
       "      <td>23.775999</td>\n",
       "    </tr>\n",
       "    <tr>\n",
       "      <th>83698</th>\n",
       "      <td>fa.wikipedia</td>\n",
       "      <td>دریای_سیبری_شرقی</td>\n",
       "      <td>Iran</td>\n",
       "      <td>East_Siberian_Sea</td>\n",
       "      <td>23.633949</td>\n",
       "    </tr>\n",
       "  </tbody>\n",
       "</table>\n",
       "</div>"
      ],
      "text/plain": [
       "                   p                           t     c  \\\n",
       "367600  en.wikipedia                MILF_(slang)  Iran   \n",
       "185555  en.wikipedia                        .xxx  Iran   \n",
       "140303  fa.wikipedia                        .xxx  Iran   \n",
       "430245  fa.wikipedia                      تاهیتی  Iran   \n",
       "33075   en.wikipedia                      Tahiti  Iran   \n",
       "151963  en.wikipedia                  Alex_Rocco  Iran   \n",
       "80424   en.wikipedia  Bitch_Better_Have_My_Money  Iran   \n",
       "25538   fa.wikipedia                  پرچم_مکزیک  Iran   \n",
       "109082  fa.wikipedia                   آلما_ماتر  Iran   \n",
       "83698   fa.wikipedia            دریای_سیبری_شرقی  Iran   \n",
       "\n",
       "                     en_page_title  normalized_wdc_view_proportion_delta  \n",
       "367600                MILF_(slang)                             35.757029  \n",
       "185555                        .xxx                             26.660146  \n",
       "140303                        .xxx                             26.660146  \n",
       "430245                      Tahiti                             26.393169  \n",
       "33075                       Tahiti                             26.393169  \n",
       "151963                  Alex_Rocco                             24.612433  \n",
       "80424   Bitch_Better_Have_My_Money                             24.177870  \n",
       "25538               Flag_of_Mexico                             23.822420  \n",
       "109082                  Alma_mater                             23.775999  \n",
       "83698            East_Siberian_Sea                             23.633949  "
      ]
     },
     "execution_count": 18,
     "metadata": {},
     "output_type": "execute_result"
    }
   ],
   "source": [
    "country = 'Iran'\n",
    "cols = ['p', 't', 'c', 'en_page_title', 'normalized_wdc_view_proportion_delta']\n",
    "df[df['c'] == 'Iran'][cols].head(10)"
   ]
  },
  {
   "cell_type": "markdown",
   "metadata": {},
   "source": [
    "# Check Individual Articles\n",
    "\n",
    "Check if an article was trending up during the https transition."
   ]
  },
  {
   "cell_type": "code",
   "execution_count": 19,
   "metadata": {
    "collapsed": true
   },
   "outputs": [],
   "source": [
    "article = 'Salman_Rushdie'"
   ]
  },
  {
   "cell_type": "code",
   "execution_count": 20,
   "metadata": {
    "collapsed": false
   },
   "outputs": [
    {
     "data": {
      "text/html": [
       "<div>\n",
       "<table border=\"1\" class=\"dataframe\">\n",
       "  <thead>\n",
       "    <tr style=\"text-align: right;\">\n",
       "      <th></th>\n",
       "      <th>p</th>\n",
       "      <th>t</th>\n",
       "      <th>c</th>\n",
       "      <th>en_page_title</th>\n",
       "      <th>normalized_wdc_view_proportion_delta</th>\n",
       "    </tr>\n",
       "  </thead>\n",
       "  <tbody>\n",
       "    <tr>\n",
       "      <th>407067</th>\n",
       "      <td>fa.wikipedia</td>\n",
       "      <td>سلمان_رشدی</td>\n",
       "      <td>Iran</td>\n",
       "      <td>Salman_Rushdie</td>\n",
       "      <td>11.139004</td>\n",
       "    </tr>\n",
       "    <tr>\n",
       "      <th>416351</th>\n",
       "      <td>en.wikipedia</td>\n",
       "      <td>Salman_Rushdie</td>\n",
       "      <td>Finland</td>\n",
       "      <td>Salman_Rushdie</td>\n",
       "      <td>5.491577</td>\n",
       "    </tr>\n",
       "    <tr>\n",
       "      <th>308081</th>\n",
       "      <td>fi.wikipedia</td>\n",
       "      <td>Salman_Rushdie</td>\n",
       "      <td>Finland</td>\n",
       "      <td>Salman_Rushdie</td>\n",
       "      <td>5.491577</td>\n",
       "    </tr>\n",
       "    <tr>\n",
       "      <th>192994</th>\n",
       "      <td>bg.wikipedia</td>\n",
       "      <td>Салман_Рушди</td>\n",
       "      <td>Bulgaria</td>\n",
       "      <td>Salman_Rushdie</td>\n",
       "      <td>2.465808</td>\n",
       "    </tr>\n",
       "    <tr>\n",
       "      <th>308082</th>\n",
       "      <td>id.wikipedia</td>\n",
       "      <td>Salman_Rushdie</td>\n",
       "      <td>Indonesia</td>\n",
       "      <td>Salman_Rushdie</td>\n",
       "      <td>1.454014</td>\n",
       "    </tr>\n",
       "    <tr>\n",
       "      <th>416350</th>\n",
       "      <td>en.wikipedia</td>\n",
       "      <td>Salman_Rushdie</td>\n",
       "      <td>Indonesia</td>\n",
       "      <td>Salman_Rushdie</td>\n",
       "      <td>1.454014</td>\n",
       "    </tr>\n",
       "  </tbody>\n",
       "</table>\n",
       "</div>"
      ],
      "text/plain": [
       "                   p               t          c   en_page_title  \\\n",
       "407067  fa.wikipedia      سلمان_رشدی       Iran  Salman_Rushdie   \n",
       "416351  en.wikipedia  Salman_Rushdie    Finland  Salman_Rushdie   \n",
       "308081  fi.wikipedia  Salman_Rushdie    Finland  Salman_Rushdie   \n",
       "192994  bg.wikipedia    Салман_Рушди   Bulgaria  Salman_Rushdie   \n",
       "308082  id.wikipedia  Salman_Rushdie  Indonesia  Salman_Rushdie   \n",
       "416350  en.wikipedia  Salman_Rushdie  Indonesia  Salman_Rushdie   \n",
       "\n",
       "        normalized_wdc_view_proportion_delta  \n",
       "407067                             11.139004  \n",
       "416351                              5.491577  \n",
       "308081                              5.491577  \n",
       "192994                              2.465808  \n",
       "308082                              1.454014  \n",
       "416350                              1.454014  "
      ]
     },
     "execution_count": 20,
     "metadata": {},
     "output_type": "execute_result"
    }
   ],
   "source": [
    "df[df['en_page_title'] == article][cols].head(30)"
   ]
  },
  {
   "cell_type": "code",
   "execution_count": 21,
   "metadata": {
    "collapsed": false
   },
   "outputs": [
    {
     "data": {
      "text/html": [
       "<div>\n",
       "<table border=\"1\" class=\"dataframe\">\n",
       "  <thead>\n",
       "    <tr style=\"text-align: right;\">\n",
       "      <th></th>\n",
       "      <th>p</th>\n",
       "      <th>t</th>\n",
       "      <th>c</th>\n",
       "      <th>en_page_title</th>\n",
       "      <th>normalized_wdc_view_proportion_delta</th>\n",
       "    </tr>\n",
       "  </thead>\n",
       "  <tbody>\n",
       "    <tr>\n",
       "      <th>59516</th>\n",
       "      <td>ja.wikipedia</td>\n",
       "      <td>サルマン・ラシュディ</td>\n",
       "      <td>Japan</td>\n",
       "      <td>Salman_Rushdie</td>\n",
       "      <td>2.413006</td>\n",
       "    </tr>\n",
       "    <tr>\n",
       "      <th>49604</th>\n",
       "      <td>pl.wikipedia</td>\n",
       "      <td>Salman_Rushdie</td>\n",
       "      <td>Poland</td>\n",
       "      <td>Salman_Rushdie</td>\n",
       "      <td>2.228270</td>\n",
       "    </tr>\n",
       "  </tbody>\n",
       "</table>\n",
       "</div>"
      ],
      "text/plain": [
       "                  p               t       c   en_page_title  \\\n",
       "59516  ja.wikipedia      サルマン・ラシュディ   Japan  Salman_Rushdie   \n",
       "49604  pl.wikipedia  Salman_Rushdie  Poland  Salman_Rushdie   \n",
       "\n",
       "       normalized_wdc_view_proportion_delta  \n",
       "59516                              2.413006  \n",
       "49604                              2.228270  "
      ]
     },
     "execution_count": 21,
     "metadata": {},
     "output_type": "execute_result"
    }
   ],
   "source": [
    "df_ctr[df_ctr['en_page_title'] == article][cols].head(30)"
   ]
  },
  {
   "cell_type": "markdown",
   "metadata": {},
   "source": [
    "# Save to File"
   ]
  },
  {
   "cell_type": "code",
   "execution_count": 30,
   "metadata": {
    "collapsed": true
   },
   "outputs": [],
   "source": [
    "def save_PVSpanComparison_df(df, fname):\n",
    "    df_clean = df[['p', 't', 'c', 'id', 'en_page_title', 'normalized_wdc_view_proportion_delta', 'normalized_tpc_view_proportion_delta']]\n",
    "    df_clean.columns = ['project', 'title', 'country', 'wikidata_id', 'en_title', 'normalized_wikidata_view_proportion_delta', 'normalized_article_view_proportion_delta']\n",
    "    df_clean.to_csv(fname, encoding = 'utf8', sep = '\\t', index = False)"
   ]
  },
  {
   "cell_type": "code",
   "execution_count": 31,
   "metadata": {
    "collapsed": false
   },
   "outputs": [],
   "source": [
    "save_PVSpanComparison_df(df, 'https_transition_comparison.tsv')\n",
    "save_PVSpanComparison_df(df_ctr, 'control_comparison.tsv')"
   ]
  },
  {
   "cell_type": "code",
   "execution_count": null,
   "metadata": {
    "collapsed": true
   },
   "outputs": [],
   "source": []
  }
 ],
 "metadata": {
  "kernelspec": {
   "display_name": "Python 3",
   "language": "python",
   "name": "python3"
  },
  "language_info": {
   "codemirror_mode": {
    "name": "ipython",
    "version": 3
   },
   "file_extension": ".py",
   "mimetype": "text/x-python",
   "name": "python",
   "nbconvert_exporter": "python",
   "pygments_lexer": "ipython3",
   "version": "3.4.3"
  }
 },
 "nbformat": 4,
 "nbformat_minor": 0
}
