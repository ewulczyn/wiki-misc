{
 "cells": [
  {
   "cell_type": "code",
   "execution_count": 1,
   "metadata": {
    "collapsed": false
   },
   "outputs": [],
   "source": [
    "from db_utils import *\n",
    "% matplotlib inline"
   ]
  },
  {
   "cell_type": "code",
   "execution_count": 3,
   "metadata": {
    "collapsed": false
   },
   "outputs": [],
   "source": [
    "# Get Pre 2015-03 data from pentaho\n",
    "query = \"\"\"\n",
    "SELECT\n",
    "sum(pageviews) as n,\n",
    "timestamp, \n",
    "country_iso, \n",
    "project, \n",
    "access_method\n",
    "FROM staging.pentahoviews05\n",
    "WHERE is_spider = 0\n",
    "AND is_automata = 0\n",
    "AND project RLIKE 'wikipedia'\n",
    "group by timestamp, country_name, project, access_method\n",
    "\"\"\"\n",
    "\n",
    "d =  query_analytics_store(query, {})"
   ]
  },
  {
   "cell_type": "code",
   "execution_count": 4,
   "metadata": {
    "collapsed": false
   },
   "outputs": [
    {
     "data": {
      "text/html": [
       "<div>\n",
       "<table border=\"1\" class=\"dataframe\">\n",
       "  <thead>\n",
       "    <tr style=\"text-align: right;\">\n",
       "      <th></th>\n",
       "      <th>access_method</th>\n",
       "      <th>country_iso</th>\n",
       "      <th>n</th>\n",
       "      <th>project</th>\n",
       "      <th>timestamp</th>\n",
       "    </tr>\n",
       "  </thead>\n",
       "  <tbody>\n",
       "    <tr>\n",
       "      <th>0</th>\n",
       "      <td>mobile web</td>\n",
       "      <td>AF</td>\n",
       "      <td>1000</td>\n",
       "      <td>de.wikipedia</td>\n",
       "      <td>2013-04-01</td>\n",
       "    </tr>\n",
       "    <tr>\n",
       "      <th>1</th>\n",
       "      <td>desktop</td>\n",
       "      <td>AF</td>\n",
       "      <td>22000</td>\n",
       "      <td>en.wikipedia</td>\n",
       "      <td>2013-04-01</td>\n",
       "    </tr>\n",
       "    <tr>\n",
       "      <th>2</th>\n",
       "      <td>mobile web</td>\n",
       "      <td>AF</td>\n",
       "      <td>8000</td>\n",
       "      <td>en.wikipedia</td>\n",
       "      <td>2013-04-01</td>\n",
       "    </tr>\n",
       "    <tr>\n",
       "      <th>3</th>\n",
       "      <td>desktop</td>\n",
       "      <td>AF</td>\n",
       "      <td>8000</td>\n",
       "      <td>fa.wikipedia</td>\n",
       "      <td>2013-04-01</td>\n",
       "    </tr>\n",
       "    <tr>\n",
       "      <th>4</th>\n",
       "      <td>mobile web</td>\n",
       "      <td>AF</td>\n",
       "      <td>3000</td>\n",
       "      <td>fa.wikipedia</td>\n",
       "      <td>2013-04-01</td>\n",
       "    </tr>\n",
       "  </tbody>\n",
       "</table>\n",
       "</div>"
      ],
      "text/plain": [
       "  access_method country_iso      n       project   timestamp\n",
       "0    mobile web          AF   1000  de.wikipedia  2013-04-01\n",
       "1       desktop          AF  22000  en.wikipedia  2013-04-01\n",
       "2    mobile web          AF   8000  en.wikipedia  2013-04-01\n",
       "3       desktop          AF   8000  fa.wikipedia  2013-04-01\n",
       "4    mobile web          AF   3000  fa.wikipedia  2013-04-01"
      ]
     },
     "execution_count": 4,
     "metadata": {},
     "output_type": "execute_result"
    }
   ],
   "source": [
    "d.head()"
   ]
  },
  {
   "cell_type": "code",
   "execution_count": 5,
   "metadata": {
    "collapsed": false
   },
   "outputs": [],
   "source": [
    "# sampled data overlaps with hive data for 1 month (April 2015). We delete the month sampled data\n",
    "d = d[d['timestamp'] != '2015-04-01']"
   ]
  },
  {
   "cell_type": "code",
   "execution_count": 6,
   "metadata": {
    "collapsed": true
   },
   "outputs": [],
   "source": [
    "# Get post 2015-03 data from hive\n",
    "\n",
    "query = \"\"\"\n",
    "SET mapred.job.queue.name=priority;\n",
    "SELECT\n",
    "sum(view_count) as n,\n",
    "year,\n",
    "month,\n",
    "country_code as country_iso, \n",
    "project, \n",
    "access_method\n",
    "FROM wmf.projectview_hourly\n",
    "WHERE agent_type = 'user'\n",
    "AND project RLIKE 'wikipedia'\n",
    "AND YEAR >= 2015\n",
    "group by year, month, country_code, project, access_method;\n",
    "\"\"\"\n",
    "\n",
    "dn =  query_hive_ssh(query, 'forecasting_refresh')"
   ]
  },
  {
   "cell_type": "code",
   "execution_count": 7,
   "metadata": {
    "collapsed": false
   },
   "outputs": [],
   "source": [
    "dn['month'] = dn['month'].astype(str)\n",
    "dn['year'] = dn['year'].astype(str)\n",
    "dn['month'] = dn['month'].apply(lambda x: x if len(x) == 2 else '0' + x)\n",
    "dn['month'].value_counts()\n",
    "dn['timestamp'] = dn['year'] + '-' + dn['month'] + '-01' "
   ]
  },
  {
   "cell_type": "code",
   "execution_count": 8,
   "metadata": {
    "collapsed": true
   },
   "outputs": [],
   "source": [
    "df = pd.concat([d, dn], axis=0)"
   ]
  },
  {
   "cell_type": "code",
   "execution_count": 9,
   "metadata": {
    "collapsed": false
   },
   "outputs": [],
   "source": [
    "df.index = df['timestamp']"
   ]
  },
  {
   "cell_type": "code",
   "execution_count": 10,
   "metadata": {
    "collapsed": false
   },
   "outputs": [],
   "source": [
    "# Add checkpoint in case data gets lost\n",
    "# Last Checkpoint: Sept 8\n",
    "df.to_csv('/Users/ellerywulczyn/wmf/pageview_forecasting/checkpoint.csv')\n",
    "#df = pd.read_csv('/Users/ellerywulczyn/wmf/pageview_forecasting/checkpoint.csv')"
   ]
  },
  {
   "cell_type": "code",
   "execution_count": 11,
   "metadata": {
    "collapsed": false
   },
   "outputs": [],
   "source": [
    "group_dimensions = ['project', 'access_method', 'country_iso',]\n",
    "groups = df.groupby(group_dimensions)"
   ]
  },
  {
   "cell_type": "code",
   "execution_count": 12,
   "metadata": {
    "collapsed": false
   },
   "outputs": [],
   "source": [
    "cube = {}\n",
    "for group in groups:\n",
    "    colname = '/'.join(group[0])\n",
    "    dg = group[1]\n",
    "    dg.index = dg['timestamp']\n",
    "    data = pd.Series(dg['n'])\n",
    "    if data.sum() > 1000000:\n",
    "        cube[colname] = data"
   ]
  },
  {
   "cell_type": "code",
   "execution_count": 13,
   "metadata": {
    "collapsed": false
   },
   "outputs": [
    {
     "data": {
      "text/plain": [
       "3109"
      ]
     },
     "execution_count": 13,
     "metadata": {},
     "output_type": "execute_result"
    }
   ],
   "source": [
    "len(cube)"
   ]
  },
  {
   "cell_type": "code",
   "execution_count": 14,
   "metadata": {
    "collapsed": false
   },
   "outputs": [],
   "source": [
    "df_cube = pd.DataFrame(cube)"
   ]
  },
  {
   "cell_type": "code",
   "execution_count": 15,
   "metadata": {
    "collapsed": false
   },
   "outputs": [
    {
     "data": {
      "text/html": [
       "<div>\n",
       "<table border=\"1\" class=\"dataframe\">\n",
       "  <thead>\n",
       "    <tr style=\"text-align: right;\">\n",
       "      <th></th>\n",
       "      <th>ab.wikipedia/desktop/US</th>\n",
       "      <th>ace.wikipedia/desktop/CN</th>\n",
       "      <th>ace.wikipedia/desktop/DE</th>\n",
       "      <th>ace.wikipedia/desktop/US</th>\n",
       "      <th>af.wikipedia/desktop/--</th>\n",
       "      <th>af.wikipedia/desktop/CN</th>\n",
       "      <th>af.wikipedia/desktop/DE</th>\n",
       "      <th>af.wikipedia/desktop/FR</th>\n",
       "      <th>af.wikipedia/desktop/NL</th>\n",
       "      <th>af.wikipedia/desktop/US</th>\n",
       "      <th>...</th>\n",
       "      <th>zh.wikipedia/mobile web/NZ</th>\n",
       "      <th>zh.wikipedia/mobile web/PH</th>\n",
       "      <th>zh.wikipedia/mobile web/RU</th>\n",
       "      <th>zh.wikipedia/mobile web/SE</th>\n",
       "      <th>zh.wikipedia/mobile web/SG</th>\n",
       "      <th>zh.wikipedia/mobile web/TH</th>\n",
       "      <th>zh.wikipedia/mobile web/TW</th>\n",
       "      <th>zh.wikipedia/mobile web/US</th>\n",
       "      <th>zh.wikipedia/mobile web/Unknown</th>\n",
       "      <th>zh.wikipedia/mobile web/VN</th>\n",
       "    </tr>\n",
       "  </thead>\n",
       "  <tbody>\n",
       "    <tr>\n",
       "      <th>2015-08-01</th>\n",
       "      <td>23292</td>\n",
       "      <td>9392</td>\n",
       "      <td>21199</td>\n",
       "      <td>46863</td>\n",
       "      <td>145978</td>\n",
       "      <td>11946</td>\n",
       "      <td>107698</td>\n",
       "      <td>101138</td>\n",
       "      <td>39297</td>\n",
       "      <td>478241</td>\n",
       "      <td>...</td>\n",
       "      <td>277718</td>\n",
       "      <td>76324</td>\n",
       "      <td>115577</td>\n",
       "      <td>81268</td>\n",
       "      <td>1837474</td>\n",
       "      <td>305238</td>\n",
       "      <td>54495466</td>\n",
       "      <td>8661747</td>\n",
       "      <td>NaN</td>\n",
       "      <td>197986</td>\n",
       "    </tr>\n",
       "    <tr>\n",
       "      <th>2015-09-01</th>\n",
       "      <td>26047</td>\n",
       "      <td>7561</td>\n",
       "      <td>29509</td>\n",
       "      <td>44211</td>\n",
       "      <td>128668</td>\n",
       "      <td>129062</td>\n",
       "      <td>124972</td>\n",
       "      <td>54018</td>\n",
       "      <td>21061</td>\n",
       "      <td>549939</td>\n",
       "      <td>...</td>\n",
       "      <td>266727</td>\n",
       "      <td>67295</td>\n",
       "      <td>93935</td>\n",
       "      <td>80807</td>\n",
       "      <td>1772282</td>\n",
       "      <td>237343</td>\n",
       "      <td>46495456</td>\n",
       "      <td>6492104</td>\n",
       "      <td>NaN</td>\n",
       "      <td>175296</td>\n",
       "    </tr>\n",
       "    <tr>\n",
       "      <th>2015-10-01</th>\n",
       "      <td>22177</td>\n",
       "      <td>7244</td>\n",
       "      <td>16606</td>\n",
       "      <td>36040</td>\n",
       "      <td>127969</td>\n",
       "      <td>139708</td>\n",
       "      <td>114990</td>\n",
       "      <td>39155</td>\n",
       "      <td>20297</td>\n",
       "      <td>382960</td>\n",
       "      <td>...</td>\n",
       "      <td>275893</td>\n",
       "      <td>68527</td>\n",
       "      <td>110216</td>\n",
       "      <td>81953</td>\n",
       "      <td>1955418</td>\n",
       "      <td>251200</td>\n",
       "      <td>50268768</td>\n",
       "      <td>6549152</td>\n",
       "      <td>NaN</td>\n",
       "      <td>185900</td>\n",
       "    </tr>\n",
       "    <tr>\n",
       "      <th>2015-11-01</th>\n",
       "      <td>20980</td>\n",
       "      <td>5689</td>\n",
       "      <td>9975</td>\n",
       "      <td>26385</td>\n",
       "      <td>53435</td>\n",
       "      <td>120174</td>\n",
       "      <td>82942</td>\n",
       "      <td>33376</td>\n",
       "      <td>21821</td>\n",
       "      <td>297032</td>\n",
       "      <td>...</td>\n",
       "      <td>272518</td>\n",
       "      <td>75334</td>\n",
       "      <td>113915</td>\n",
       "      <td>83391</td>\n",
       "      <td>2001574</td>\n",
       "      <td>233239</td>\n",
       "      <td>50433435</td>\n",
       "      <td>7330562</td>\n",
       "      <td>NaN</td>\n",
       "      <td>177688</td>\n",
       "    </tr>\n",
       "    <tr>\n",
       "      <th>2015-12-01</th>\n",
       "      <td>2949</td>\n",
       "      <td>444</td>\n",
       "      <td>375</td>\n",
       "      <td>4510</td>\n",
       "      <td>1125</td>\n",
       "      <td>11054</td>\n",
       "      <td>9382</td>\n",
       "      <td>7118</td>\n",
       "      <td>3315</td>\n",
       "      <td>41343</td>\n",
       "      <td>...</td>\n",
       "      <td>33703</td>\n",
       "      <td>8763</td>\n",
       "      <td>15157</td>\n",
       "      <td>11604</td>\n",
       "      <td>233096</td>\n",
       "      <td>31244</td>\n",
       "      <td>6163775</td>\n",
       "      <td>1023861</td>\n",
       "      <td>NaN</td>\n",
       "      <td>23560</td>\n",
       "    </tr>\n",
       "  </tbody>\n",
       "</table>\n",
       "<p>5 rows × 3109 columns</p>\n",
       "</div>"
      ],
      "text/plain": [
       "            ab.wikipedia/desktop/US  ace.wikipedia/desktop/CN  \\\n",
       "2015-08-01                    23292                      9392   \n",
       "2015-09-01                    26047                      7561   \n",
       "2015-10-01                    22177                      7244   \n",
       "2015-11-01                    20980                      5689   \n",
       "2015-12-01                     2949                       444   \n",
       "\n",
       "            ace.wikipedia/desktop/DE  ace.wikipedia/desktop/US  \\\n",
       "2015-08-01                     21199                     46863   \n",
       "2015-09-01                     29509                     44211   \n",
       "2015-10-01                     16606                     36040   \n",
       "2015-11-01                      9975                     26385   \n",
       "2015-12-01                       375                      4510   \n",
       "\n",
       "            af.wikipedia/desktop/--  af.wikipedia/desktop/CN  \\\n",
       "2015-08-01                   145978                    11946   \n",
       "2015-09-01                   128668                   129062   \n",
       "2015-10-01                   127969                   139708   \n",
       "2015-11-01                    53435                   120174   \n",
       "2015-12-01                     1125                    11054   \n",
       "\n",
       "            af.wikipedia/desktop/DE  af.wikipedia/desktop/FR  \\\n",
       "2015-08-01                   107698                   101138   \n",
       "2015-09-01                   124972                    54018   \n",
       "2015-10-01                   114990                    39155   \n",
       "2015-11-01                    82942                    33376   \n",
       "2015-12-01                     9382                     7118   \n",
       "\n",
       "            af.wikipedia/desktop/NL  af.wikipedia/desktop/US  \\\n",
       "2015-08-01                    39297                   478241   \n",
       "2015-09-01                    21061                   549939   \n",
       "2015-10-01                    20297                   382960   \n",
       "2015-11-01                    21821                   297032   \n",
       "2015-12-01                     3315                    41343   \n",
       "\n",
       "                       ...              zh.wikipedia/mobile web/NZ  \\\n",
       "2015-08-01             ...                                  277718   \n",
       "2015-09-01             ...                                  266727   \n",
       "2015-10-01             ...                                  275893   \n",
       "2015-11-01             ...                                  272518   \n",
       "2015-12-01             ...                                   33703   \n",
       "\n",
       "            zh.wikipedia/mobile web/PH  zh.wikipedia/mobile web/RU  \\\n",
       "2015-08-01                       76324                      115577   \n",
       "2015-09-01                       67295                       93935   \n",
       "2015-10-01                       68527                      110216   \n",
       "2015-11-01                       75334                      113915   \n",
       "2015-12-01                        8763                       15157   \n",
       "\n",
       "            zh.wikipedia/mobile web/SE  zh.wikipedia/mobile web/SG  \\\n",
       "2015-08-01                       81268                     1837474   \n",
       "2015-09-01                       80807                     1772282   \n",
       "2015-10-01                       81953                     1955418   \n",
       "2015-11-01                       83391                     2001574   \n",
       "2015-12-01                       11604                      233096   \n",
       "\n",
       "            zh.wikipedia/mobile web/TH  zh.wikipedia/mobile web/TW  \\\n",
       "2015-08-01                      305238                    54495466   \n",
       "2015-09-01                      237343                    46495456   \n",
       "2015-10-01                      251200                    50268768   \n",
       "2015-11-01                      233239                    50433435   \n",
       "2015-12-01                       31244                     6163775   \n",
       "\n",
       "            zh.wikipedia/mobile web/US  zh.wikipedia/mobile web/Unknown  \\\n",
       "2015-08-01                     8661747                              NaN   \n",
       "2015-09-01                     6492104                              NaN   \n",
       "2015-10-01                     6549152                              NaN   \n",
       "2015-11-01                     7330562                              NaN   \n",
       "2015-12-01                     1023861                              NaN   \n",
       "\n",
       "            zh.wikipedia/mobile web/VN  \n",
       "2015-08-01                      197986  \n",
       "2015-09-01                      175296  \n",
       "2015-10-01                      185900  \n",
       "2015-11-01                      177688  \n",
       "2015-12-01                       23560  \n",
       "\n",
       "[5 rows x 3109 columns]"
      ]
     },
     "execution_count": 15,
     "metadata": {},
     "output_type": "execute_result"
    }
   ],
   "source": [
    "df_cube.tail()"
   ]
  },
  {
   "cell_type": "code",
   "execution_count": 16,
   "metadata": {
    "collapsed": false
   },
   "outputs": [],
   "source": [
    "df_cube['YearMonth'] = pd.to_datetime(df_cube.index)"
   ]
  },
  {
   "cell_type": "code",
   "execution_count": 17,
   "metadata": {
    "collapsed": false
   },
   "outputs": [],
   "source": [
    "df_codes = pd.read_csv('./app/data/country_codes.csv')[['ISO 3166-1 2 Letter Code', 'Common Name' ]]\n",
    "codes_dict = dict(tuple(x) for x in df_codes.values)\n",
    "codes_dict['Unknown'] = 'Unknown'\n",
    "\n",
    "df_valid_cols = [c for c in df_cube.columns if len(c.split('/')) == 3 and c.split('/')[2] in codes_dict]\n",
    "df_valid_cols.append('YearMonth')\n",
    "df_cube = df_cube[df_valid_cols]\n",
    "\n",
    "def replace_ISO_with_country(c,codes_dict):\n",
    "    if c == 'YearMonth':\n",
    "        return c\n",
    "    t = c.split('/')\n",
    "    t[2] = codes_dict[t[2]]\n",
    "    return '/'.join(t)\n",
    "\n",
    "df_cube.columns = [replace_ISO_with_country(c,codes_dict) for c in df_cube.columns]"
   ]
  },
  {
   "cell_type": "code",
   "execution_count": 18,
   "metadata": {
    "collapsed": true
   },
   "outputs": [],
   "source": [
    "df_cube.to_csv('/Users/ellerywulczyn/wmf/pageview_forecasting/app/data/cube.csv', index = False)"
   ]
  },
  {
   "cell_type": "code",
   "execution_count": 19,
   "metadata": {
    "collapsed": false
   },
   "outputs": [
    {
     "data": {
      "text/plain": [
       "(33, 3006)"
      ]
     },
     "execution_count": 19,
     "metadata": {},
     "output_type": "execute_result"
    }
   ],
   "source": [
    "df_cube.shape"
   ]
  },
  {
   "cell_type": "code",
   "execution_count": null,
   "metadata": {
    "collapsed": true
   },
   "outputs": [],
   "source": []
  }
 ],
 "metadata": {
  "kernelspec": {
   "display_name": "Python 3",
   "language": "python",
   "name": "python3"
  },
  "language_info": {
   "codemirror_mode": {
    "name": "ipython",
    "version": 3
   },
   "file_extension": ".py",
   "mimetype": "text/x-python",
   "name": "python",
   "nbconvert_exporter": "python",
   "pygments_lexer": "ipython3",
   "version": "3.4.3"
  }
 },
 "nbformat": 4,
 "nbformat_minor": 0
}
