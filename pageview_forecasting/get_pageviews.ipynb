{
 "cells": [
  {
   "cell_type": "code",
   "execution_count": 82,
   "metadata": {
    "collapsed": false
   },
   "outputs": [],
   "source": [
    "from db_utils import *\n",
    "% matplotlib inline"
   ]
  },
  {
   "cell_type": "code",
   "execution_count": 83,
   "metadata": {
    "collapsed": false
   },
   "outputs": [],
   "source": [
    "# Get Pre 2015-03 data from pentaho\n",
    "query = \"\"\"\n",
    "SELECT\n",
    "sum(pageviews) as n,\n",
    "timestamp, \n",
    "country_iso, \n",
    "project, \n",
    "access_method\n",
    "FROM staging.pentahoviews05\n",
    "WHERE is_spider = 0\n",
    "AND is_automata = 0\n",
    "AND project RLIKE 'wikipedia'\n",
    "group by timestamp, country_name, project, access_method\n",
    "\"\"\"\n",
    "\n",
    "d =  query_analytics_store(query, {})"
   ]
  },
  {
   "cell_type": "code",
   "execution_count": 84,
   "metadata": {
    "collapsed": true
   },
   "outputs": [],
   "source": [
    "str_dimensions = ['project', 'access_method', 'country_iso', 'timestamp']\n",
    "d[str_dimensions] = d[str_dimensions].applymap(lambda x: x.decode(\"utf-8\"))"
   ]
  },
  {
   "cell_type": "code",
   "execution_count": 85,
   "metadata": {
    "collapsed": false
   },
   "outputs": [],
   "source": [
    "# sampled data overlaps with hive data for 1 month (April 2015). We delete the month sampled data\n",
    "d = d[d['timestamp'] != '2015-04-01']"
   ]
  },
  {
   "cell_type": "code",
   "execution_count": 86,
   "metadata": {
    "collapsed": true
   },
   "outputs": [],
   "source": [
    "# Get post 2015-03 data from hive\n",
    "\n",
    "query = \"\"\"\n",
    "SET mapred.job.queue.name=priority;\n",
    "SELECT\n",
    "sum(view_count) as n,\n",
    "CONCAT(year, '-', month, '-01') as timestamp, \n",
    "country_code as country_iso, \n",
    "project, \n",
    "access_method\n",
    "FROM wmf.projectview_hourly\n",
    "WHERE agent_type = 'user'\n",
    "AND project RLIKE 'wikipedia'\n",
    "AND YEAR = 2015\n",
    "group by year, month, country_code, project, access_method;\n",
    "\"\"\"\n",
    "\n",
    "dn =  query_hive_ssh(query, 'forecasting_refresh')"
   ]
  },
  {
   "cell_type": "code",
   "execution_count": 89,
   "metadata": {
    "collapsed": true
   },
   "outputs": [],
   "source": [
    "df = pd.concat([d, dn], axis=0)"
   ]
  },
  {
   "cell_type": "code",
   "execution_count": 90,
   "metadata": {
    "collapsed": false
   },
   "outputs": [],
   "source": [
    "df.index = df['timestamp']"
   ]
  },
  {
   "cell_type": "code",
   "execution_count": 91,
   "metadata": {
    "collapsed": true
   },
   "outputs": [],
   "source": [
    "# Add checkpoint in case data gets lost\n",
    "# Last Checkpoint: July 21\n",
    "df.to_csv('/Users/ellerywulczyn/wmf/pageview_forecasting/checkpoint.csv')\n",
    "#df = pd.read_csv('/Users/ellerywulczyn/wmf/pageview_forecasting/checkpoint.csv')"
   ]
  },
  {
   "cell_type": "code",
   "execution_count": 92,
   "metadata": {
    "collapsed": false
   },
   "outputs": [],
   "source": [
    "group_dimensions = ['project', 'access_method', 'country_iso',]\n",
    "groups = df.groupby(group_dimensions)"
   ]
  },
  {
   "cell_type": "code",
   "execution_count": 93,
   "metadata": {
    "collapsed": false
   },
   "outputs": [],
   "source": [
    "cube = {}\n",
    "for group in groups:\n",
    "    colname = '/'.join(group[0])\n",
    "    dg = group[1]\n",
    "    dg.index = dg['timestamp']\n",
    "    data = pd.Series(dg['n'])\n",
    "    if data.sum() > 1000000:\n",
    "        cube[colname] = data"
   ]
  },
  {
   "cell_type": "code",
   "execution_count": 94,
   "metadata": {
    "collapsed": false
   },
   "outputs": [
    {
     "data": {
      "text/plain": [
       "2839"
      ]
     },
     "execution_count": 94,
     "metadata": {},
     "output_type": "execute_result"
    }
   ],
   "source": [
    "len(cube)"
   ]
  },
  {
   "cell_type": "code",
   "execution_count": 95,
   "metadata": {
    "collapsed": false
   },
   "outputs": [],
   "source": [
    "df_cube = pd.DataFrame(cube)"
   ]
  },
  {
   "cell_type": "code",
   "execution_count": 96,
   "metadata": {
    "collapsed": false
   },
   "outputs": [
    {
     "data": {
      "text/html": [
       "<div>\n",
       "<table border=\"1\" class=\"dataframe\">\n",
       "  <thead>\n",
       "    <tr style=\"text-align: right;\">\n",
       "      <th></th>\n",
       "      <th>ab.wikipedia/desktop/US</th>\n",
       "      <th>ace.wikipedia/desktop/DE</th>\n",
       "      <th>ace.wikipedia/desktop/US</th>\n",
       "      <th>af.wikipedia/desktop/CN</th>\n",
       "      <th>af.wikipedia/desktop/DE</th>\n",
       "      <th>af.wikipedia/desktop/FR</th>\n",
       "      <th>af.wikipedia/desktop/NL</th>\n",
       "      <th>af.wikipedia/desktop/US</th>\n",
       "      <th>af.wikipedia/desktop/Unknown</th>\n",
       "      <th>af.wikipedia/desktop/ZA</th>\n",
       "      <th>...</th>\n",
       "      <th>zh.wikipedia/mobile web/NZ</th>\n",
       "      <th>zh.wikipedia/mobile web/PH</th>\n",
       "      <th>zh.wikipedia/mobile web/RU</th>\n",
       "      <th>zh.wikipedia/mobile web/SE</th>\n",
       "      <th>zh.wikipedia/mobile web/SG</th>\n",
       "      <th>zh.wikipedia/mobile web/TH</th>\n",
       "      <th>zh.wikipedia/mobile web/TW</th>\n",
       "      <th>zh.wikipedia/mobile web/US</th>\n",
       "      <th>zh.wikipedia/mobile web/Unknown</th>\n",
       "      <th>zh.wikipedia/mobile web/VN</th>\n",
       "    </tr>\n",
       "  </thead>\n",
       "  <tbody>\n",
       "    <tr>\n",
       "      <th>2015-03-01</th>\n",
       "      <td>27000</td>\n",
       "      <td>268000</td>\n",
       "      <td>48000</td>\n",
       "      <td>32000</td>\n",
       "      <td>156000</td>\n",
       "      <td>54000</td>\n",
       "      <td>26000</td>\n",
       "      <td>643000</td>\n",
       "      <td>224000</td>\n",
       "      <td>528000</td>\n",
       "      <td>...</td>\n",
       "      <td>250000</td>\n",
       "      <td>78000</td>\n",
       "      <td>129000</td>\n",
       "      <td>75000</td>\n",
       "      <td>1733000</td>\n",
       "      <td>225000</td>\n",
       "      <td>47362000</td>\n",
       "      <td>8457000</td>\n",
       "      <td>1632000</td>\n",
       "      <td>211000</td>\n",
       "    </tr>\n",
       "    <tr>\n",
       "      <th>2015-4-01</th>\n",
       "      <td>23314</td>\n",
       "      <td>158745</td>\n",
       "      <td>55767</td>\n",
       "      <td>31707</td>\n",
       "      <td>159036</td>\n",
       "      <td>92688</td>\n",
       "      <td>30401</td>\n",
       "      <td>553269</td>\n",
       "      <td>NaN</td>\n",
       "      <td>354343</td>\n",
       "      <td>...</td>\n",
       "      <td>246991</td>\n",
       "      <td>62517</td>\n",
       "      <td>122711</td>\n",
       "      <td>70908</td>\n",
       "      <td>1611471</td>\n",
       "      <td>207956</td>\n",
       "      <td>48812559</td>\n",
       "      <td>10153578</td>\n",
       "      <td>NaN</td>\n",
       "      <td>179986</td>\n",
       "    </tr>\n",
       "    <tr>\n",
       "      <th>2015-5-01</th>\n",
       "      <td>43223</td>\n",
       "      <td>115412</td>\n",
       "      <td>86982</td>\n",
       "      <td>23824</td>\n",
       "      <td>147660</td>\n",
       "      <td>75855</td>\n",
       "      <td>28311</td>\n",
       "      <td>905726</td>\n",
       "      <td>NaN</td>\n",
       "      <td>639185</td>\n",
       "      <td>...</td>\n",
       "      <td>247468</td>\n",
       "      <td>61713</td>\n",
       "      <td>123301</td>\n",
       "      <td>79066</td>\n",
       "      <td>1680911</td>\n",
       "      <td>213355</td>\n",
       "      <td>50131187</td>\n",
       "      <td>11381063</td>\n",
       "      <td>NaN</td>\n",
       "      <td>187900</td>\n",
       "    </tr>\n",
       "    <tr>\n",
       "      <th>2015-6-01</th>\n",
       "      <td>31862</td>\n",
       "      <td>101400</td>\n",
       "      <td>62851</td>\n",
       "      <td>15260</td>\n",
       "      <td>128717</td>\n",
       "      <td>46763</td>\n",
       "      <td>28707</td>\n",
       "      <td>647306</td>\n",
       "      <td>NaN</td>\n",
       "      <td>231775</td>\n",
       "      <td>...</td>\n",
       "      <td>241866</td>\n",
       "      <td>62424</td>\n",
       "      <td>108630</td>\n",
       "      <td>68455</td>\n",
       "      <td>1649751</td>\n",
       "      <td>205275</td>\n",
       "      <td>48374828</td>\n",
       "      <td>9233813</td>\n",
       "      <td>NaN</td>\n",
       "      <td>169015</td>\n",
       "    </tr>\n",
       "    <tr>\n",
       "      <th>2015-7-01</th>\n",
       "      <td>10196</td>\n",
       "      <td>18076</td>\n",
       "      <td>29026</td>\n",
       "      <td>6376</td>\n",
       "      <td>40052</td>\n",
       "      <td>172220</td>\n",
       "      <td>11315</td>\n",
       "      <td>283569</td>\n",
       "      <td>NaN</td>\n",
       "      <td>128305</td>\n",
       "      <td>...</td>\n",
       "      <td>164042</td>\n",
       "      <td>46683</td>\n",
       "      <td>55253</td>\n",
       "      <td>51700</td>\n",
       "      <td>1185434</td>\n",
       "      <td>174331</td>\n",
       "      <td>33659733</td>\n",
       "      <td>4885030</td>\n",
       "      <td>NaN</td>\n",
       "      <td>132413</td>\n",
       "    </tr>\n",
       "  </tbody>\n",
       "</table>\n",
       "<p>5 rows × 2839 columns</p>\n",
       "</div>"
      ],
      "text/plain": [
       "            ab.wikipedia/desktop/US  ace.wikipedia/desktop/DE  \\\n",
       "2015-03-01                    27000                    268000   \n",
       "2015-4-01                     23314                    158745   \n",
       "2015-5-01                     43223                    115412   \n",
       "2015-6-01                     31862                    101400   \n",
       "2015-7-01                     10196                     18076   \n",
       "\n",
       "            ace.wikipedia/desktop/US  af.wikipedia/desktop/CN  \\\n",
       "2015-03-01                     48000                    32000   \n",
       "2015-4-01                      55767                    31707   \n",
       "2015-5-01                      86982                    23824   \n",
       "2015-6-01                      62851                    15260   \n",
       "2015-7-01                      29026                     6376   \n",
       "\n",
       "            af.wikipedia/desktop/DE  af.wikipedia/desktop/FR  \\\n",
       "2015-03-01                   156000                    54000   \n",
       "2015-4-01                    159036                    92688   \n",
       "2015-5-01                    147660                    75855   \n",
       "2015-6-01                    128717                    46763   \n",
       "2015-7-01                     40052                   172220   \n",
       "\n",
       "            af.wikipedia/desktop/NL  af.wikipedia/desktop/US  \\\n",
       "2015-03-01                    26000                   643000   \n",
       "2015-4-01                     30401                   553269   \n",
       "2015-5-01                     28311                   905726   \n",
       "2015-6-01                     28707                   647306   \n",
       "2015-7-01                     11315                   283569   \n",
       "\n",
       "            af.wikipedia/desktop/Unknown  af.wikipedia/desktop/ZA  \\\n",
       "2015-03-01                        224000                   528000   \n",
       "2015-4-01                            NaN                   354343   \n",
       "2015-5-01                            NaN                   639185   \n",
       "2015-6-01                            NaN                   231775   \n",
       "2015-7-01                            NaN                   128305   \n",
       "\n",
       "                       ...              zh.wikipedia/mobile web/NZ  \\\n",
       "2015-03-01             ...                                  250000   \n",
       "2015-4-01              ...                                  246991   \n",
       "2015-5-01              ...                                  247468   \n",
       "2015-6-01              ...                                  241866   \n",
       "2015-7-01              ...                                  164042   \n",
       "\n",
       "            zh.wikipedia/mobile web/PH  zh.wikipedia/mobile web/RU  \\\n",
       "2015-03-01                       78000                      129000   \n",
       "2015-4-01                        62517                      122711   \n",
       "2015-5-01                        61713                      123301   \n",
       "2015-6-01                        62424                      108630   \n",
       "2015-7-01                        46683                       55253   \n",
       "\n",
       "            zh.wikipedia/mobile web/SE  zh.wikipedia/mobile web/SG  \\\n",
       "2015-03-01                       75000                     1733000   \n",
       "2015-4-01                        70908                     1611471   \n",
       "2015-5-01                        79066                     1680911   \n",
       "2015-6-01                        68455                     1649751   \n",
       "2015-7-01                        51700                     1185434   \n",
       "\n",
       "            zh.wikipedia/mobile web/TH  zh.wikipedia/mobile web/TW  \\\n",
       "2015-03-01                      225000                    47362000   \n",
       "2015-4-01                       207956                    48812559   \n",
       "2015-5-01                       213355                    50131187   \n",
       "2015-6-01                       205275                    48374828   \n",
       "2015-7-01                       174331                    33659733   \n",
       "\n",
       "            zh.wikipedia/mobile web/US  zh.wikipedia/mobile web/Unknown  \\\n",
       "2015-03-01                     8457000                          1632000   \n",
       "2015-4-01                     10153578                              NaN   \n",
       "2015-5-01                     11381063                              NaN   \n",
       "2015-6-01                      9233813                              NaN   \n",
       "2015-7-01                      4885030                              NaN   \n",
       "\n",
       "            zh.wikipedia/mobile web/VN  \n",
       "2015-03-01                      211000  \n",
       "2015-4-01                       179986  \n",
       "2015-5-01                       187900  \n",
       "2015-6-01                       169015  \n",
       "2015-7-01                       132413  \n",
       "\n",
       "[5 rows x 2839 columns]"
      ]
     },
     "execution_count": 96,
     "metadata": {},
     "output_type": "execute_result"
    }
   ],
   "source": [
    "df_cube.tail()"
   ]
  },
  {
   "cell_type": "code",
   "execution_count": 97,
   "metadata": {
    "collapsed": false
   },
   "outputs": [],
   "source": [
    "df_cube['YearMonth'] = pd.to_datetime(df_cube.index)"
   ]
  },
  {
   "cell_type": "code",
   "execution_count": 98,
   "metadata": {
    "collapsed": false
   },
   "outputs": [],
   "source": [
    "df_cube.to_csv('/Users/ellerywulczyn/wmf/pageview_forecasting/app/data/cube.csv', index = False)"
   ]
  },
  {
   "cell_type": "code",
   "execution_count": 2,
   "metadata": {
    "collapsed": false
   },
   "outputs": [
    {
     "ename": "NameError",
     "evalue": "name 'pd' is not defined",
     "output_type": "error",
     "traceback": [
      "\u001b[0;31m---------------------------------------------------------------------------\u001b[0m",
      "\u001b[0;31mNameError\u001b[0m                                 Traceback (most recent call last)",
      "\u001b[0;32m<ipython-input-2-3be77800a6bc>\u001b[0m in \u001b[0;36m<module>\u001b[0;34m()\u001b[0m\n\u001b[0;32m----> 1\u001b[0;31m \u001b[0mpd\u001b[0m\u001b[0;34m.\u001b[0m\u001b[0mto_datetime\u001b[0m\u001b[0;34m(\u001b[0m\u001b[0;34m'2015-06'\u001b[0m\u001b[0;34m)\u001b[0m\u001b[0;34m\u001b[0m\u001b[0m\n\u001b[0m",
      "\u001b[0;31mNameError\u001b[0m: name 'pd' is not defined"
     ]
    }
   ],
   "source": []
  },
  {
   "cell_type": "code",
   "execution_count": null,
   "metadata": {
    "collapsed": true
   },
   "outputs": [],
   "source": []
  }
 ],
 "metadata": {
  "kernelspec": {
   "display_name": "Python 3",
   "language": "python",
   "name": "python3"
  },
  "language_info": {
   "codemirror_mode": {
    "name": "ipython",
    "version": 3
   },
   "file_extension": ".py",
   "mimetype": "text/x-python",
   "name": "python",
   "nbconvert_exporter": "python",
   "pygments_lexer": "ipython3",
   "version": "3.4.3"
  }
 },
 "nbformat": 4,
 "nbformat_minor": 0
}
