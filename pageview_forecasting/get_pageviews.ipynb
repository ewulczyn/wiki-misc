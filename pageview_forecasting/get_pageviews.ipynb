{
 "cells": [
  {
   "cell_type": "code",
   "execution_count": 1,
   "metadata": {
    "collapsed": false
   },
   "outputs": [
    {
     "name": "stderr",
     "output_type": "stream",
     "text": [
      "Vendor:  Continuum Analytics, Inc.\n",
      "Package: mkl\n",
      "Message: trial mode expires in 24 days\n"
     ]
    }
   ],
   "source": [
    "from db_utils import *\n",
    "% matplotlib inline"
   ]
  },
  {
   "cell_type": "code",
   "execution_count": 2,
   "metadata": {
    "collapsed": false
   },
   "outputs": [],
   "source": [
    "# Get Pre 2015-03 data from pentaho\n",
    "query = \"\"\"\n",
    "SELECT\n",
    "sum(pageviews) as n,\n",
    "timestamp, \n",
    "country_iso, \n",
    "project, \n",
    "access_method\n",
    "FROM staging.pentahoviews05\n",
    "WHERE is_spider = 0\n",
    "AND is_automata = 0\n",
    "AND project RLIKE 'wikipedia'\n",
    "group by timestamp, country_name, project, access_method\n",
    "\"\"\"\n",
    "\n",
    "d =  query_analytics_store(query, {})"
   ]
  },
  {
   "cell_type": "code",
   "execution_count": 5,
   "metadata": {
    "collapsed": false
   },
   "outputs": [
    {
     "data": {
      "text/html": [
       "<div>\n",
       "<table border=\"1\" class=\"dataframe\">\n",
       "  <thead>\n",
       "    <tr style=\"text-align: right;\">\n",
       "      <th></th>\n",
       "      <th>access_method</th>\n",
       "      <th>country_iso</th>\n",
       "      <th>country_name</th>\n",
       "      <th>is_automata</th>\n",
       "      <th>is_spider</th>\n",
       "      <th>is_zero</th>\n",
       "      <th>pageviews</th>\n",
       "      <th>project</th>\n",
       "      <th>referer</th>\n",
       "      <th>timestamp</th>\n",
       "    </tr>\n",
       "  </thead>\n",
       "  <tbody>\n",
       "    <tr>\n",
       "      <th>0</th>\n",
       "      <td>b'desktop'</td>\n",
       "      <td>b'CN'</td>\n",
       "      <td>b'China'</td>\n",
       "      <td>0</td>\n",
       "      <td>1</td>\n",
       "      <td>0</td>\n",
       "      <td>10000.0</td>\n",
       "      <td>b'pt.wiktionary'</td>\n",
       "      <td>b'None'</td>\n",
       "      <td>b'2013-04-01'</td>\n",
       "    </tr>\n",
       "    <tr>\n",
       "      <th>1</th>\n",
       "      <td>b'desktop'</td>\n",
       "      <td>b'US'</td>\n",
       "      <td>b'United States'</td>\n",
       "      <td>0</td>\n",
       "      <td>0</td>\n",
       "      <td>0</td>\n",
       "      <td>26802000.0</td>\n",
       "      <td>b'en.wikipedia'</td>\n",
       "      <td>b'Internal'</td>\n",
       "      <td>b'2013-04-01'</td>\n",
       "    </tr>\n",
       "    <tr>\n",
       "      <th>2</th>\n",
       "      <td>b'desktop'</td>\n",
       "      <td>b'US'</td>\n",
       "      <td>b'United States'</td>\n",
       "      <td>0</td>\n",
       "      <td>0</td>\n",
       "      <td>0</td>\n",
       "      <td>16386000.0</td>\n",
       "      <td>b'en.wikipedia'</td>\n",
       "      <td>b'None'</td>\n",
       "      <td>b'2013-04-01'</td>\n",
       "    </tr>\n",
       "    <tr>\n",
       "      <th>3</th>\n",
       "      <td>b'desktop'</td>\n",
       "      <td>b'GR'</td>\n",
       "      <td>b'Greece'</td>\n",
       "      <td>0</td>\n",
       "      <td>0</td>\n",
       "      <td>0</td>\n",
       "      <td>475000.0</td>\n",
       "      <td>b'en.wikipedia'</td>\n",
       "      <td>b'Internal'</td>\n",
       "      <td>b'2013-04-01'</td>\n",
       "    </tr>\n",
       "    <tr>\n",
       "      <th>4</th>\n",
       "      <td>b'mobile web'</td>\n",
       "      <td>b'JP'</td>\n",
       "      <td>b'Japan'</td>\n",
       "      <td>0</td>\n",
       "      <td>0</td>\n",
       "      <td>0</td>\n",
       "      <td>4065000.0</td>\n",
       "      <td>b'ja.wikipedia'</td>\n",
       "      <td>b'None'</td>\n",
       "      <td>b'2013-04-01'</td>\n",
       "    </tr>\n",
       "  </tbody>\n",
       "</table>\n",
       "</div>"
      ],
      "text/plain": [
       "   access_method country_iso      country_name is_automata is_spider is_zero  \\\n",
       "0     b'desktop'       b'CN'          b'China'           0         1       0   \n",
       "1     b'desktop'       b'US'  b'United States'           0         0       0   \n",
       "2     b'desktop'       b'US'  b'United States'           0         0       0   \n",
       "3     b'desktop'       b'GR'         b'Greece'           0         0       0   \n",
       "4  b'mobile web'       b'JP'          b'Japan'           0         0       0   \n",
       "\n",
       "    pageviews           project      referer      timestamp  \n",
       "0     10000.0  b'pt.wiktionary'      b'None'  b'2013-04-01'  \n",
       "1  26802000.0   b'en.wikipedia'  b'Internal'  b'2013-04-01'  \n",
       "2  16386000.0   b'en.wikipedia'      b'None'  b'2013-04-01'  \n",
       "3    475000.0   b'en.wikipedia'  b'Internal'  b'2013-04-01'  \n",
       "4   4065000.0   b'ja.wikipedia'      b'None'  b'2013-04-01'  "
      ]
     },
     "execution_count": 5,
     "metadata": {},
     "output_type": "execute_result"
    }
   ],
   "source": [
    "d.head()"
   ]
  },
  {
   "cell_type": "code",
   "execution_count": 36,
   "metadata": {
    "collapsed": true
   },
   "outputs": [],
   "source": [
    "str_dimensions = ['project', 'access_method', 'country_iso', 'timestamp']\n",
    "d[str_dimensions] = d[str_dimensions].applymap(lambda x: x.decode(\"utf-8\"))"
   ]
  },
  {
   "cell_type": "code",
   "execution_count": 37,
   "metadata": {
    "collapsed": false
   },
   "outputs": [],
   "source": [
    "# sampled data overlaps with hive data for 1 month (April 2015). We delete the month sampled data\n",
    "d = d[d['timestamp'] != '2015-04-01']"
   ]
  },
  {
   "cell_type": "code",
   "execution_count": 38,
   "metadata": {
    "collapsed": true
   },
   "outputs": [],
   "source": [
    "# Get post 2015-03 data from hive\n",
    "\n",
    "query = \"\"\"\n",
    "SET mapred.job.queue.name=priority;\n",
    "SELECT\n",
    "sum(view_count) as n,\n",
    "CONCAT(year, '-', month, '-01') as timestamp, \n",
    "country_code as country_iso, \n",
    "project, \n",
    "access_method\n",
    "FROM wmf.projectview_hourly\n",
    "WHERE agent_type = 'user'\n",
    "AND project RLIKE 'wikipedia'\n",
    "AND YEAR = 2015\n",
    "group by year, month, country_code, project, access_method;\n",
    "\"\"\"\n",
    "\n",
    "dn =  query_hive_ssh(query, 'forecasting_refresh')"
   ]
  },
  {
   "cell_type": "code",
   "execution_count": 39,
   "metadata": {
    "collapsed": true
   },
   "outputs": [],
   "source": [
    "df = pd.concat([d, dn], axis=0)"
   ]
  },
  {
   "cell_type": "code",
   "execution_count": 40,
   "metadata": {
    "collapsed": false
   },
   "outputs": [],
   "source": [
    "df.index = df['timestamp']"
   ]
  },
  {
   "cell_type": "code",
   "execution_count": 41,
   "metadata": {
    "collapsed": false
   },
   "outputs": [],
   "source": [
    "# Add checkpoint in case data gets lost\n",
    "# Last Checkpoint: Sept 8\n",
    "df.to_csv('/Users/ellerywulczyn/wmf/pageview_forecasting/checkpoint.csv')\n",
    "#df = pd.read_csv('/Users/ellerywulczyn/wmf/pageview_forecasting/checkpoint.csv')"
   ]
  },
  {
   "cell_type": "code",
   "execution_count": 42,
   "metadata": {
    "collapsed": false
   },
   "outputs": [],
   "source": [
    "group_dimensions = ['project', 'access_method', 'country_iso',]\n",
    "groups = df.groupby(group_dimensions)"
   ]
  },
  {
   "cell_type": "code",
   "execution_count": 43,
   "metadata": {
    "collapsed": false
   },
   "outputs": [],
   "source": [
    "cube = {}\n",
    "for group in groups:\n",
    "    colname = '/'.join(group[0])\n",
    "    dg = group[1]\n",
    "    dg.index = dg['timestamp']\n",
    "    data = pd.Series(dg['n'])\n",
    "    if data.sum() > 1000000:\n",
    "        cube[colname] = data"
   ]
  },
  {
   "cell_type": "code",
   "execution_count": 51,
   "metadata": {
    "collapsed": false
   },
   "outputs": [
    {
     "data": {
      "text/plain": [
       "2947"
      ]
     },
     "execution_count": 51,
     "metadata": {},
     "output_type": "execute_result"
    }
   ],
   "source": [
    "len(cube)"
   ]
  },
  {
   "cell_type": "code",
   "execution_count": 52,
   "metadata": {
    "collapsed": false
   },
   "outputs": [],
   "source": [
    "df_cube = pd.DataFrame(cube)"
   ]
  },
  {
   "cell_type": "code",
   "execution_count": 53,
   "metadata": {
    "collapsed": false
   },
   "outputs": [
    {
     "data": {
      "text/html": [
       "<div>\n",
       "<table border=\"1\" class=\"dataframe\">\n",
       "  <thead>\n",
       "    <tr style=\"text-align: right;\">\n",
       "      <th></th>\n",
       "      <th>ab.wikipedia/desktop/US</th>\n",
       "      <th>ace.wikipedia/desktop/DE</th>\n",
       "      <th>ace.wikipedia/desktop/US</th>\n",
       "      <th>af.wikipedia/desktop/CN</th>\n",
       "      <th>af.wikipedia/desktop/DE</th>\n",
       "      <th>af.wikipedia/desktop/FR</th>\n",
       "      <th>af.wikipedia/desktop/NL</th>\n",
       "      <th>af.wikipedia/desktop/US</th>\n",
       "      <th>af.wikipedia/desktop/Unknown</th>\n",
       "      <th>af.wikipedia/desktop/ZA</th>\n",
       "      <th>...</th>\n",
       "      <th>zh.wikipedia/mobile web/NZ</th>\n",
       "      <th>zh.wikipedia/mobile web/PH</th>\n",
       "      <th>zh.wikipedia/mobile web/RU</th>\n",
       "      <th>zh.wikipedia/mobile web/SE</th>\n",
       "      <th>zh.wikipedia/mobile web/SG</th>\n",
       "      <th>zh.wikipedia/mobile web/TH</th>\n",
       "      <th>zh.wikipedia/mobile web/TW</th>\n",
       "      <th>zh.wikipedia/mobile web/US</th>\n",
       "      <th>zh.wikipedia/mobile web/Unknown</th>\n",
       "      <th>zh.wikipedia/mobile web/VN</th>\n",
       "    </tr>\n",
       "  </thead>\n",
       "  <tbody>\n",
       "    <tr>\n",
       "      <th>2015-5-01</th>\n",
       "      <td>43223</td>\n",
       "      <td>115412</td>\n",
       "      <td>86982</td>\n",
       "      <td>23824</td>\n",
       "      <td>147660</td>\n",
       "      <td>75855</td>\n",
       "      <td>28311</td>\n",
       "      <td>905726</td>\n",
       "      <td>NaN</td>\n",
       "      <td>639185</td>\n",
       "      <td>...</td>\n",
       "      <td>247468</td>\n",
       "      <td>61713</td>\n",
       "      <td>123301</td>\n",
       "      <td>79066</td>\n",
       "      <td>1680911</td>\n",
       "      <td>213355</td>\n",
       "      <td>50131187</td>\n",
       "      <td>11381063</td>\n",
       "      <td>NaN</td>\n",
       "      <td>187900</td>\n",
       "    </tr>\n",
       "    <tr>\n",
       "      <th>2015-6-01</th>\n",
       "      <td>31862</td>\n",
       "      <td>101400</td>\n",
       "      <td>62851</td>\n",
       "      <td>15260</td>\n",
       "      <td>128717</td>\n",
       "      <td>46763</td>\n",
       "      <td>28707</td>\n",
       "      <td>647306</td>\n",
       "      <td>NaN</td>\n",
       "      <td>231775</td>\n",
       "      <td>...</td>\n",
       "      <td>241866</td>\n",
       "      <td>62424</td>\n",
       "      <td>108630</td>\n",
       "      <td>68455</td>\n",
       "      <td>1649751</td>\n",
       "      <td>205275</td>\n",
       "      <td>48374828</td>\n",
       "      <td>9233813</td>\n",
       "      <td>NaN</td>\n",
       "      <td>169015</td>\n",
       "    </tr>\n",
       "    <tr>\n",
       "      <th>2015-7-01</th>\n",
       "      <td>16575</td>\n",
       "      <td>25791</td>\n",
       "      <td>42379</td>\n",
       "      <td>21373</td>\n",
       "      <td>83345</td>\n",
       "      <td>183840</td>\n",
       "      <td>16432</td>\n",
       "      <td>423695</td>\n",
       "      <td>NaN</td>\n",
       "      <td>285268</td>\n",
       "      <td>...</td>\n",
       "      <td>253019</td>\n",
       "      <td>71775</td>\n",
       "      <td>79768</td>\n",
       "      <td>77384</td>\n",
       "      <td>1750086</td>\n",
       "      <td>274022</td>\n",
       "      <td>50026437</td>\n",
       "      <td>7687829</td>\n",
       "      <td>NaN</td>\n",
       "      <td>200521</td>\n",
       "    </tr>\n",
       "    <tr>\n",
       "      <th>2015-8-01</th>\n",
       "      <td>23292</td>\n",
       "      <td>21199</td>\n",
       "      <td>46863</td>\n",
       "      <td>11946</td>\n",
       "      <td>107698</td>\n",
       "      <td>101138</td>\n",
       "      <td>39297</td>\n",
       "      <td>478241</td>\n",
       "      <td>NaN</td>\n",
       "      <td>768345</td>\n",
       "      <td>...</td>\n",
       "      <td>277718</td>\n",
       "      <td>76324</td>\n",
       "      <td>115577</td>\n",
       "      <td>81268</td>\n",
       "      <td>1837474</td>\n",
       "      <td>305238</td>\n",
       "      <td>54495466</td>\n",
       "      <td>8661747</td>\n",
       "      <td>NaN</td>\n",
       "      <td>197986</td>\n",
       "    </tr>\n",
       "    <tr>\n",
       "      <th>2015-9-01</th>\n",
       "      <td>11772</td>\n",
       "      <td>9601</td>\n",
       "      <td>24844</td>\n",
       "      <td>37239</td>\n",
       "      <td>41219</td>\n",
       "      <td>23524</td>\n",
       "      <td>11453</td>\n",
       "      <td>321281</td>\n",
       "      <td>NaN</td>\n",
       "      <td>348148</td>\n",
       "      <td>...</td>\n",
       "      <td>135512</td>\n",
       "      <td>33343</td>\n",
       "      <td>45945</td>\n",
       "      <td>41326</td>\n",
       "      <td>845696</td>\n",
       "      <td>117668</td>\n",
       "      <td>22278646</td>\n",
       "      <td>3406463</td>\n",
       "      <td>NaN</td>\n",
       "      <td>87123</td>\n",
       "    </tr>\n",
       "  </tbody>\n",
       "</table>\n",
       "<p>5 rows × 2947 columns</p>\n",
       "</div>"
      ],
      "text/plain": [
       "           ab.wikipedia/desktop/US  ace.wikipedia/desktop/DE  \\\n",
       "2015-5-01                    43223                    115412   \n",
       "2015-6-01                    31862                    101400   \n",
       "2015-7-01                    16575                     25791   \n",
       "2015-8-01                    23292                     21199   \n",
       "2015-9-01                    11772                      9601   \n",
       "\n",
       "           ace.wikipedia/desktop/US  af.wikipedia/desktop/CN  \\\n",
       "2015-5-01                     86982                    23824   \n",
       "2015-6-01                     62851                    15260   \n",
       "2015-7-01                     42379                    21373   \n",
       "2015-8-01                     46863                    11946   \n",
       "2015-9-01                     24844                    37239   \n",
       "\n",
       "           af.wikipedia/desktop/DE  af.wikipedia/desktop/FR  \\\n",
       "2015-5-01                   147660                    75855   \n",
       "2015-6-01                   128717                    46763   \n",
       "2015-7-01                    83345                   183840   \n",
       "2015-8-01                   107698                   101138   \n",
       "2015-9-01                    41219                    23524   \n",
       "\n",
       "           af.wikipedia/desktop/NL  af.wikipedia/desktop/US  \\\n",
       "2015-5-01                    28311                   905726   \n",
       "2015-6-01                    28707                   647306   \n",
       "2015-7-01                    16432                   423695   \n",
       "2015-8-01                    39297                   478241   \n",
       "2015-9-01                    11453                   321281   \n",
       "\n",
       "           af.wikipedia/desktop/Unknown  af.wikipedia/desktop/ZA  \\\n",
       "2015-5-01                           NaN                   639185   \n",
       "2015-6-01                           NaN                   231775   \n",
       "2015-7-01                           NaN                   285268   \n",
       "2015-8-01                           NaN                   768345   \n",
       "2015-9-01                           NaN                   348148   \n",
       "\n",
       "                      ...              zh.wikipedia/mobile web/NZ  \\\n",
       "2015-5-01             ...                                  247468   \n",
       "2015-6-01             ...                                  241866   \n",
       "2015-7-01             ...                                  253019   \n",
       "2015-8-01             ...                                  277718   \n",
       "2015-9-01             ...                                  135512   \n",
       "\n",
       "           zh.wikipedia/mobile web/PH  zh.wikipedia/mobile web/RU  \\\n",
       "2015-5-01                       61713                      123301   \n",
       "2015-6-01                       62424                      108630   \n",
       "2015-7-01                       71775                       79768   \n",
       "2015-8-01                       76324                      115577   \n",
       "2015-9-01                       33343                       45945   \n",
       "\n",
       "           zh.wikipedia/mobile web/SE  zh.wikipedia/mobile web/SG  \\\n",
       "2015-5-01                       79066                     1680911   \n",
       "2015-6-01                       68455                     1649751   \n",
       "2015-7-01                       77384                     1750086   \n",
       "2015-8-01                       81268                     1837474   \n",
       "2015-9-01                       41326                      845696   \n",
       "\n",
       "           zh.wikipedia/mobile web/TH  zh.wikipedia/mobile web/TW  \\\n",
       "2015-5-01                      213355                    50131187   \n",
       "2015-6-01                      205275                    48374828   \n",
       "2015-7-01                      274022                    50026437   \n",
       "2015-8-01                      305238                    54495466   \n",
       "2015-9-01                      117668                    22278646   \n",
       "\n",
       "           zh.wikipedia/mobile web/US  zh.wikipedia/mobile web/Unknown  \\\n",
       "2015-5-01                    11381063                              NaN   \n",
       "2015-6-01                     9233813                              NaN   \n",
       "2015-7-01                     7687829                              NaN   \n",
       "2015-8-01                     8661747                              NaN   \n",
       "2015-9-01                     3406463                              NaN   \n",
       "\n",
       "           zh.wikipedia/mobile web/VN  \n",
       "2015-5-01                      187900  \n",
       "2015-6-01                      169015  \n",
       "2015-7-01                      200521  \n",
       "2015-8-01                      197986  \n",
       "2015-9-01                       87123  \n",
       "\n",
       "[5 rows x 2947 columns]"
      ]
     },
     "execution_count": 53,
     "metadata": {},
     "output_type": "execute_result"
    }
   ],
   "source": [
    "df_cube.tail()"
   ]
  },
  {
   "cell_type": "code",
   "execution_count": 54,
   "metadata": {
    "collapsed": false
   },
   "outputs": [],
   "source": [
    "df_cube['YearMonth'] = pd.to_datetime(df_cube.index)"
   ]
  },
  {
   "cell_type": "code",
   "execution_count": 55,
   "metadata": {
    "collapsed": false
   },
   "outputs": [],
   "source": [
    "df_codes = pd.read_csv('./app/data/country_codes.csv')[['ISO 3166-1 2 Letter Code', 'Common Name' ]]\n",
    "codes_dict = dict(tuple(x) for x in df_codes.values)\n",
    "codes_dict['Unknown'] = 'Unknown'\n",
    "\n",
    "df_valid_cols = [c for c in df_cube.columns if len(c.split('/')) == 3 and c.split('/')[2] in codes_dict]\n",
    "df_valid_cols.append('YearMonth')\n",
    "df_cube = df_cube[df_valid_cols]\n",
    "\n",
    "def replace_ISO_with_country(c,codes_dict):\n",
    "    if c == 'YearMonth':\n",
    "        return c\n",
    "    t = c.split('/')\n",
    "    t[2] = codes_dict[t[2]]\n",
    "    return '/'.join(t)\n",
    "\n",
    "df_cube.columns = [replace_ISO_with_country(c,codes_dict) for c in df_cube.columns]"
   ]
  },
  {
   "cell_type": "code",
   "execution_count": 57,
   "metadata": {
    "collapsed": true
   },
   "outputs": [],
   "source": [
    "df_cube.to_csv('/Users/ellerywulczyn/wmf/pageview_forecasting/app/data/cube.csv', index = False)"
   ]
  },
  {
   "cell_type": "code",
   "execution_count": 56,
   "metadata": {
    "collapsed": false
   },
   "outputs": [
    {
     "data": {
      "text/plain": [
       "(30, 2867)"
      ]
     },
     "execution_count": 56,
     "metadata": {},
     "output_type": "execute_result"
    }
   ],
   "source": [
    "df_cube.shape"
   ]
  },
  {
   "cell_type": "code",
   "execution_count": null,
   "metadata": {
    "collapsed": true
   },
   "outputs": [],
   "source": []
  }
 ],
 "metadata": {
  "kernelspec": {
   "display_name": "Python 3",
   "language": "python",
   "name": "python3"
  },
  "language_info": {
   "codemirror_mode": {
    "name": "ipython",
    "version": 3
   },
   "file_extension": ".py",
   "mimetype": "text/x-python",
   "name": "python",
   "nbconvert_exporter": "python",
   "pygments_lexer": "ipython3",
   "version": "3.4.3"
  }
 },
 "nbformat": 4,
 "nbformat_minor": 0
}
