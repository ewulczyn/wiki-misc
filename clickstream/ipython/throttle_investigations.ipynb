{
 "metadata": {
  "name": "",
  "signature": "sha256:d756cde98df23e2c64cce5239a79f355a9affb609e82fea479273e898dff1d20"
 },
 "nbformat": 3,
 "nbformat_minor": 0,
 "worksheets": [
  {
   "cells": [
    {
     "cell_type": "code",
     "collapsed": false,
     "input": [
      "import pandas as pd"
     ],
     "language": "python",
     "metadata": {},
     "outputs": [],
     "prompt_number": ""
    },
    {
     "cell_type": "code",
     "collapsed": false,
     "input": [
      "fns = ['ip_ua', 'ip_ua_ref', 'ip_ua_path', 'ip_ua_path_ref']"
     ],
     "language": "python",
     "metadata": {},
     "outputs": [],
     "prompt_number": ""
    },
    {
     "cell_type": "code",
     "collapsed": false,
     "input": [
      "d = pd.DataFrame()\n",
      "\n",
      "for fn in fns:\n",
      "    df = pd.read_csv('../data/views_per_minute_counts/'+fn+'.tsv', sep='\\t')\n",
      "    df.index = df.num_views \n",
      "    df = df.sort()\n",
      "    df.n= df.num_occurrences * df.num_views\n",
      "    cum = df.n.cumsum()\n",
      "    cum = cum /df.n.sum()\n",
      "    d[fn] = cum"
     ],
     "language": "python",
     "metadata": {},
     "outputs": [],
     "prompt_number": ""
    },
    {
     "cell_type": "code",
     "collapsed": false,
     "input": [
      "d[:10].plot(figsize=(12, 10))"
     ],
     "language": "python",
     "metadata": {},
     "outputs": [],
     "prompt_number": ""
    },
    {
     "cell_type": "code",
     "collapsed": false,
     "input": [
      "d.head()"
     ],
     "language": "python",
     "metadata": {},
     "outputs": [],
     "prompt_number": ""
    },
    {
     "cell_type": "code",
     "collapsed": false,
     "input": [],
     "language": "python",
     "metadata": {},
     "outputs": []
    }
   ],
   "metadata": {}
  }
 ]
}