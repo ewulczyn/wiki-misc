{
 "cells": [
  {
   "cell_type": "markdown",
   "metadata": {},
   "source": [
    "#ClickStream - Getting Started - Explorations"
   ]
  },
  {
   "cell_type": "markdown",
   "metadata": {},
   "source": [
    "This post gives an introduction to working with the newly released [Wikipedia Clickstream](http://figshare.com/articles/Wikipedia_Clickstream/1305770) dataset. It shows how people get to a Wikipedia article and what articles they click on next. In other words, it gives a weighted network of articles, where each edge weight corresponds to how often people navigate from one page to another. To give an example, consider the figure below, which shows incoming and outgoing traffic to the \"London\" article."
   ]
  },
  {
   "cell_type": "code",
   "execution_count": 1,
   "metadata": {
    "collapsed": false
   },
   "outputs": [
    {
     "ename": "IOError",
     "evalue": "[Errno 2] No such file or directory: u'../images/London_Sankey.png'",
     "output_type": "error",
     "traceback": [
      "\u001b[0;31m---------------------------------------------------------------------------\u001b[0m",
      "\u001b[0;31mIOError\u001b[0m                                   Traceback (most recent call last)",
      "\u001b[0;32m<ipython-input-1-682ceab4c333>\u001b[0m in \u001b[0;36m<module>\u001b[0;34m()\u001b[0m\n\u001b[1;32m      1\u001b[0m \u001b[0;32mfrom\u001b[0m \u001b[0mIPython\u001b[0m\u001b[0;34m.\u001b[0m\u001b[0mdisplay\u001b[0m \u001b[0;32mimport\u001b[0m \u001b[0mImage\u001b[0m\u001b[0;34m\u001b[0m\u001b[0m\n\u001b[0;32m----> 2\u001b[0;31m \u001b[0mImage\u001b[0m\u001b[0;34m(\u001b[0m\u001b[0mfilename\u001b[0m\u001b[0;34m=\u001b[0m\u001b[0;34m'../images/London_Sankey.png'\u001b[0m\u001b[0;34m,\u001b[0m \u001b[0mwidth\u001b[0m\u001b[0;34m=\u001b[0m\u001b[0;36m800\u001b[0m\u001b[0;34m,\u001b[0m \u001b[0mheight\u001b[0m\u001b[0;34m=\u001b[0m\u001b[0;36m500\u001b[0m\u001b[0;34m)\u001b[0m\u001b[0;34m\u001b[0m\u001b[0m\n\u001b[0m",
      "\u001b[0;32m/Users/ellerywulczyn/miniconda3/envs/2/lib/python2.7/site-packages/IPython/core/display.pyc\u001b[0m in \u001b[0;36m__init__\u001b[0;34m(self, data, url, filename, format, embed, width, height, retina, unconfined, metadata)\u001b[0m\n\u001b[1;32m    737\u001b[0m         \u001b[0mself\u001b[0m\u001b[0;34m.\u001b[0m\u001b[0munconfined\u001b[0m \u001b[0;34m=\u001b[0m \u001b[0munconfined\u001b[0m\u001b[0;34m\u001b[0m\u001b[0m\n\u001b[1;32m    738\u001b[0m         \u001b[0mself\u001b[0m\u001b[0;34m.\u001b[0m\u001b[0mmetadata\u001b[0m \u001b[0;34m=\u001b[0m \u001b[0mmetadata\u001b[0m\u001b[0;34m\u001b[0m\u001b[0m\n\u001b[0;32m--> 739\u001b[0;31m         \u001b[0msuper\u001b[0m\u001b[0;34m(\u001b[0m\u001b[0mImage\u001b[0m\u001b[0;34m,\u001b[0m \u001b[0mself\u001b[0m\u001b[0;34m)\u001b[0m\u001b[0;34m.\u001b[0m\u001b[0m__init__\u001b[0m\u001b[0;34m(\u001b[0m\u001b[0mdata\u001b[0m\u001b[0;34m=\u001b[0m\u001b[0mdata\u001b[0m\u001b[0;34m,\u001b[0m \u001b[0murl\u001b[0m\u001b[0;34m=\u001b[0m\u001b[0murl\u001b[0m\u001b[0;34m,\u001b[0m \u001b[0mfilename\u001b[0m\u001b[0;34m=\u001b[0m\u001b[0mfilename\u001b[0m\u001b[0;34m)\u001b[0m\u001b[0;34m\u001b[0m\u001b[0m\n\u001b[0m\u001b[1;32m    740\u001b[0m \u001b[0;34m\u001b[0m\u001b[0m\n\u001b[1;32m    741\u001b[0m         \u001b[0;32mif\u001b[0m \u001b[0mretina\u001b[0m\u001b[0;34m:\u001b[0m\u001b[0;34m\u001b[0m\u001b[0m\n",
      "\u001b[0;32m/Users/ellerywulczyn/miniconda3/envs/2/lib/python2.7/site-packages/IPython/core/display.pyc\u001b[0m in \u001b[0;36m__init__\u001b[0;34m(self, data, url, filename)\u001b[0m\n\u001b[1;32m    384\u001b[0m         \u001b[0mself\u001b[0m\u001b[0;34m.\u001b[0m\u001b[0mfilename\u001b[0m \u001b[0;34m=\u001b[0m \u001b[0mNone\u001b[0m \u001b[0;32mif\u001b[0m \u001b[0mfilename\u001b[0m \u001b[0;32mis\u001b[0m \u001b[0mNone\u001b[0m \u001b[0;32melse\u001b[0m \u001b[0municode_type\u001b[0m\u001b[0;34m(\u001b[0m\u001b[0mfilename\u001b[0m\u001b[0;34m)\u001b[0m\u001b[0;34m\u001b[0m\u001b[0m\n\u001b[1;32m    385\u001b[0m \u001b[0;34m\u001b[0m\u001b[0m\n\u001b[0;32m--> 386\u001b[0;31m         \u001b[0mself\u001b[0m\u001b[0;34m.\u001b[0m\u001b[0mreload\u001b[0m\u001b[0;34m(\u001b[0m\u001b[0;34m)\u001b[0m\u001b[0;34m\u001b[0m\u001b[0m\n\u001b[0m\u001b[1;32m    387\u001b[0m         \u001b[0mself\u001b[0m\u001b[0;34m.\u001b[0m\u001b[0m_check_data\u001b[0m\u001b[0;34m(\u001b[0m\u001b[0;34m)\u001b[0m\u001b[0;34m\u001b[0m\u001b[0m\n\u001b[1;32m    388\u001b[0m \u001b[0;34m\u001b[0m\u001b[0m\n",
      "\u001b[0;32m/Users/ellerywulczyn/miniconda3/envs/2/lib/python2.7/site-packages/IPython/core/display.pyc\u001b[0m in \u001b[0;36mreload\u001b[0;34m(self)\u001b[0m\n\u001b[1;32m    759\u001b[0m         \u001b[0;34m\"\"\"Reload the raw data from file or URL.\"\"\"\u001b[0m\u001b[0;34m\u001b[0m\u001b[0m\n\u001b[1;32m    760\u001b[0m         \u001b[0;32mif\u001b[0m \u001b[0mself\u001b[0m\u001b[0;34m.\u001b[0m\u001b[0membed\u001b[0m\u001b[0;34m:\u001b[0m\u001b[0;34m\u001b[0m\u001b[0m\n\u001b[0;32m--> 761\u001b[0;31m             \u001b[0msuper\u001b[0m\u001b[0;34m(\u001b[0m\u001b[0mImage\u001b[0m\u001b[0;34m,\u001b[0m\u001b[0mself\u001b[0m\u001b[0;34m)\u001b[0m\u001b[0;34m.\u001b[0m\u001b[0mreload\u001b[0m\u001b[0;34m(\u001b[0m\u001b[0;34m)\u001b[0m\u001b[0;34m\u001b[0m\u001b[0m\n\u001b[0m\u001b[1;32m    762\u001b[0m             \u001b[0;32mif\u001b[0m \u001b[0mself\u001b[0m\u001b[0;34m.\u001b[0m\u001b[0mretina\u001b[0m\u001b[0;34m:\u001b[0m\u001b[0;34m\u001b[0m\u001b[0m\n\u001b[1;32m    763\u001b[0m                 \u001b[0mself\u001b[0m\u001b[0;34m.\u001b[0m\u001b[0m_retina_shape\u001b[0m\u001b[0;34m(\u001b[0m\u001b[0;34m)\u001b[0m\u001b[0;34m\u001b[0m\u001b[0m\n",
      "\u001b[0;32m/Users/ellerywulczyn/miniconda3/envs/2/lib/python2.7/site-packages/IPython/core/display.pyc\u001b[0m in \u001b[0;36mreload\u001b[0;34m(self)\u001b[0m\n\u001b[1;32m    402\u001b[0m         \u001b[0;34m\"\"\"Reload the raw data from file or URL.\"\"\"\u001b[0m\u001b[0;34m\u001b[0m\u001b[0m\n\u001b[1;32m    403\u001b[0m         \u001b[0;32mif\u001b[0m \u001b[0mself\u001b[0m\u001b[0;34m.\u001b[0m\u001b[0mfilename\u001b[0m \u001b[0;32mis\u001b[0m \u001b[0;32mnot\u001b[0m \u001b[0mNone\u001b[0m\u001b[0;34m:\u001b[0m\u001b[0;34m\u001b[0m\u001b[0m\n\u001b[0;32m--> 404\u001b[0;31m             \u001b[0;32mwith\u001b[0m \u001b[0mopen\u001b[0m\u001b[0;34m(\u001b[0m\u001b[0mself\u001b[0m\u001b[0;34m.\u001b[0m\u001b[0mfilename\u001b[0m\u001b[0;34m,\u001b[0m \u001b[0mself\u001b[0m\u001b[0;34m.\u001b[0m\u001b[0m_read_flags\u001b[0m\u001b[0;34m)\u001b[0m \u001b[0;32mas\u001b[0m \u001b[0mf\u001b[0m\u001b[0;34m:\u001b[0m\u001b[0;34m\u001b[0m\u001b[0m\n\u001b[0m\u001b[1;32m    405\u001b[0m                 \u001b[0mself\u001b[0m\u001b[0;34m.\u001b[0m\u001b[0mdata\u001b[0m \u001b[0;34m=\u001b[0m \u001b[0mf\u001b[0m\u001b[0;34m.\u001b[0m\u001b[0mread\u001b[0m\u001b[0;34m(\u001b[0m\u001b[0;34m)\u001b[0m\u001b[0;34m\u001b[0m\u001b[0m\n\u001b[1;32m    406\u001b[0m         \u001b[0;32melif\u001b[0m \u001b[0mself\u001b[0m\u001b[0;34m.\u001b[0m\u001b[0murl\u001b[0m \u001b[0;32mis\u001b[0m \u001b[0;32mnot\u001b[0m \u001b[0mNone\u001b[0m\u001b[0;34m:\u001b[0m\u001b[0;34m\u001b[0m\u001b[0m\n",
      "\u001b[0;31mIOError\u001b[0m: [Errno 2] No such file or directory: u'../images/London_Sankey.png'"
     ]
    }
   ],
   "source": [
    "from IPython.display import Image\n",
    "Image(filename='../images/London_Sankey.png', width=800, height=500)"
   ]
  },
  {
   "cell_type": "markdown",
   "metadata": {},
   "source": [
    "The example shows that most people found the \"London\" page through Google Search and that only a small fraction of readers went on to another article. Before diving into some examples of working with the data, let me give a more detailed explanation of how the data was collected."
   ]
  },
  {
   "cell_type": "markdown",
   "metadata": {},
   "source": [
    "###Data Preparation\n",
    "\n",
    "The data contains counts of `(referer, resource)` pairs extracted from the request logs of English Wikipedia. When a client requests a resource by following a link or performing a search, the URI of the webpage that linked to the resource is included with the request in an HTTP header called the \"referer\". This data captures 22 million `(referer, resource)` pairs from a total of 3.2 billion requests collected during the month of February 2015. \n",
    "\n",
    "The dataset only includes requests for articles in the [main namespace](https://en.wikipedia.org/wiki/Wikipedia:Namespace) of the desktop version of English Wikipedia.\n",
    "\n",
    "Referers were [mapped](https://github.com/ewulczyn/wmf/blob/f76d43eee9e3e9756cd6a062a11e382fd4425edf/clickstream/oozie/hive_query.sql#L152-L203) to a fixed set of values corresponding to internal traffic or external traffic from one of the top 5 global traffic sources to English Wikipedia, based on this scheme:\n",
    "    - an article in the main namespace of English Wikipedia -> the article title\n",
    "    - any Wikipedia page that is not in the main namespace of English Wikipedia -> `other-wikipedia`\n",
    "    - an empty referer -> `other-empty`\n",
    "    - a page from any other Wikimedia project -> `other-internal`\n",
    "    - Google -> `other-google`\n",
    "    - Yahoo -> `other-yahoo`\n",
    "    - Bing -> `other-bing`\n",
    "    - Facebook -> `other-facebook`\n",
    "    - Twitter -> `other-twitter`\n",
    "    - anything else -> `other-other`\n",
    "\n",
    " \n",
    "MediaWiki Redirects are used to forward clients from one page name to another. They can be useful if a particular article is referred to by multiple names, or has alternative punctuation, capitalization or spellings. Requests for pages that get redirected where mapped to the page they redirect to. For example, requests for 'Obama' redirect to the 'Barack_Obama' page. Redirects where resolved using a snapshot of the redirects table from March 1 2015.\n",
    "\n",
    "Redlinks are are links to an article that does not exist. Either the article was deleted after the creation of the link or the author intended to signal the need for such an article. Requests for redlinks are included in the data. \n",
    "\n",
    "We attempt to exclude spider traffic by classifying user agents with the [ua-parser](https://github.com/tobie/ua-parser) library and a few additonal Wikipedia specific filters. Furthermore, we attempt to filter out traffic from bots that request a page and then request all or most of the links on that page (BFS traversal) by setting a threshold on the rate at which a client can requests articles with the same referer. Requests that where made at too high of a rate get discarded. For the exact details, see [here](https://github.com/ewulczyn/wmf/blob/f76d43eee9e3e9756cd6a062a11e382fd4425edf/clickstream/oozie/throttle.py). The threshold is quite high to avoid excluding human readers who open tabs as they read. As a result requests from slow moving bots are likely to remain in the data. More sophisticated bot detection, that evaluates the clients entire request graph is an avenue of future work.\n",
    "\n",
    "Finally, any `(referer, resource)` pair with 10 or fewer observations was removed from the dataset. \n",
    "\n",
    "\n",
    "### Format\n",
    "The data includes the following 6 fields:\n",
    "\n",
    "- **prev_id:** if the referer does not correspond to an article in the main namespace of English Wikipedia, this value will be empty. Otherwise, it contains the unique MediaWiki page ID of the article corresponding to the referer i.e. the previous article the client was on\n",
    "- **curr_id:** the MediaWiki unique page ID of the article the client requested \n",
    "- **n:** the number of occurrences of the `(referer, resource)` pair\n",
    "- **prev_title:** the result of mapping the referer URL to the fixed set of values described above\n",
    "- **curr_title:** the title of the article the client requested\n",
    "- **type** \n",
    "    - \"link\" if the referer and request are both articles and the referer links to the request\n",
    "    - \"redlink\" if the referer is an article and links to the request, but the request is not in the produiction enwiki.page table\n",
    "    - \"other\" if the referer and request are both articles but the referer does not link to the request. This can happen when clients search or spoof their refer"
   ]
  },
  {
   "cell_type": "markdown",
   "metadata": {},
   "source": [
    "#Getting to know the Data\n",
    "\n",
    "There are various quirks in the data due to the dynamic nature of the network of articles in English Wikipedia and the prevalence of requests from automata. The following section gives a brief overview of the data fields and caveats that need to be kept in mind.\n",
    "\n"
   ]
  },
  {
   "cell_type": "markdown",
   "metadata": {},
   "source": [
    "### Loading the Data\n",
    "First lets load the data into a pandas DataFrame. "
   ]
  },
  {
   "cell_type": "code",
   "execution_count": 2,
   "metadata": {
    "collapsed": false
   },
   "outputs": [],
   "source": [
    "import pandas as pd\n",
    "df = pd.read_csv(\"2015_02_clickstream.tsv\", sep='\\t', header=0)\n",
    "#we won't use ids here, so lets discard them\n",
    "df = df[['prev_title', 'curr_title', 'n', 'type']]\n",
    "df.columns = ['prev', 'curr', 'n', 'type']"
   ]
  },
  {
   "cell_type": "code",
   "execution_count": 4,
   "metadata": {
    "collapsed": false
   },
   "outputs": [
    {
     "data": {
      "text/html": [
       "<div>\n",
       "<table border=\"1\" class=\"dataframe\">\n",
       "  <thead>\n",
       "    <tr style=\"text-align: right;\">\n",
       "      <th></th>\n",
       "      <th>prev</th>\n",
       "      <th>curr</th>\n",
       "      <th>n</th>\n",
       "      <th>type</th>\n",
       "    </tr>\n",
       "  </thead>\n",
       "  <tbody>\n",
       "    <tr>\n",
       "      <th>0</th>\n",
       "      <td>other-google</td>\n",
       "      <td>!!</td>\n",
       "      <td>121</td>\n",
       "      <td>other</td>\n",
       "    </tr>\n",
       "    <tr>\n",
       "      <th>1</th>\n",
       "      <td>other-wikipedia</td>\n",
       "      <td>!!</td>\n",
       "      <td>93</td>\n",
       "      <td>other</td>\n",
       "    </tr>\n",
       "    <tr>\n",
       "      <th>2</th>\n",
       "      <td>other-empty</td>\n",
       "      <td>!!</td>\n",
       "      <td>46</td>\n",
       "      <td>other</td>\n",
       "    </tr>\n",
       "    <tr>\n",
       "      <th>3</th>\n",
       "      <td>other-other</td>\n",
       "      <td>!!</td>\n",
       "      <td>10</td>\n",
       "      <td>other</td>\n",
       "    </tr>\n",
       "    <tr>\n",
       "      <th>4</th>\n",
       "      <td>!_(disambiguation)</td>\n",
       "      <td>!!</td>\n",
       "      <td>11</td>\n",
       "      <td>other</td>\n",
       "    </tr>\n",
       "  </tbody>\n",
       "</table>\n",
       "</div>"
      ],
      "text/plain": [
       "                 prev curr    n   type\n",
       "0        other-google   !!  121  other\n",
       "1     other-wikipedia   !!   93  other\n",
       "2         other-empty   !!   46  other\n",
       "3         other-other   !!   10  other\n",
       "4  !_(disambiguation)   !!   11  other"
      ]
     },
     "execution_count": 4,
     "metadata": {},
     "output_type": "execute_result"
    }
   ],
   "source": [
    "df[df['type'] == 'other'].head()"
   ]
  },
  {
   "cell_type": "markdown",
   "metadata": {},
   "source": [
    "### Top articles\n",
    "It has been possible to estimate which pages get the most pageviews per month from the public pageview dumps that WMF releases. Unfortunately, there is no attmpt to remove spiders and bots from those dumps. This month the \"Layer 2 Tunneling Protocol\" was the 3rd most requested article. The logs show that this article was requested by a small number of clients hundreds of times per minute within a 4 day window. This kind of request pattern is removed from the clickstream data, which gives the following as the top 10 pages:"
   ]
  },
  {
   "cell_type": "code",
   "execution_count": 23,
   "metadata": {
    "collapsed": false
   },
   "outputs": [
    {
     "data": {
      "text/html": [
       "<div style=\"max-height:1000px;max-width:1500px;overflow:auto;\">\n",
       "<table border=\"1\" class=\"dataframe\">\n",
       "  <thead>\n",
       "    <tr style=\"text-align: right;\">\n",
       "      <th></th>\n",
       "      <th>n</th>\n",
       "    </tr>\n",
       "    <tr>\n",
       "      <th>curr</th>\n",
       "      <th></th>\n",
       "    </tr>\n",
       "  </thead>\n",
       "  <tbody>\n",
       "    <tr>\n",
       "      <th>Main_Page</th>\n",
       "      <td> 127500620</td>\n",
       "    </tr>\n",
       "    <tr>\n",
       "      <th>87th_Academy_Awards</th>\n",
       "      <td>   2559794</td>\n",
       "    </tr>\n",
       "    <tr>\n",
       "      <th>Fifty_Shades_of_Grey</th>\n",
       "      <td>   2326175</td>\n",
       "    </tr>\n",
       "    <tr>\n",
       "      <th>Alive</th>\n",
       "      <td>   2244781</td>\n",
       "    </tr>\n",
       "    <tr>\n",
       "      <th>Chris_Kyle</th>\n",
       "      <td>   1709341</td>\n",
       "    </tr>\n",
       "    <tr>\n",
       "      <th>Fifty_Shades_of_Grey_(film)</th>\n",
       "      <td>   1683892</td>\n",
       "    </tr>\n",
       "    <tr>\n",
       "      <th>Deaths_in_2015</th>\n",
       "      <td>   1614577</td>\n",
       "    </tr>\n",
       "    <tr>\n",
       "      <th>Birdman_(film)</th>\n",
       "      <td>   1545842</td>\n",
       "    </tr>\n",
       "    <tr>\n",
       "      <th>Islamic_State_of_Iraq_and_the_Levant</th>\n",
       "      <td>   1406530</td>\n",
       "    </tr>\n",
       "    <tr>\n",
       "      <th>Stephen_Hawking</th>\n",
       "      <td>   1384193</td>\n",
       "    </tr>\n",
       "  </tbody>\n",
       "</table>\n",
       "</div>"
      ],
      "text/plain": [
       "                                              n\n",
       "curr                                           \n",
       "Main_Page                             127500620\n",
       "87th_Academy_Awards                     2559794\n",
       "Fifty_Shades_of_Grey                    2326175\n",
       "Alive                                   2244781\n",
       "Chris_Kyle                              1709341\n",
       "Fifty_Shades_of_Grey_(film)             1683892\n",
       "Deaths_in_2015                          1614577\n",
       "Birdman_(film)                          1545842\n",
       "Islamic_State_of_Iraq_and_the_Levant    1406530\n",
       "Stephen_Hawking                         1384193"
      ]
     },
     "execution_count": 23,
     "metadata": {},
     "output_type": "execute_result"
    }
   ],
   "source": [
    "df.groupby('curr').sum().sort('n', ascending=False)[:10]"
   ]
  },
  {
   "cell_type": "markdown",
   "metadata": {},
   "source": [
    "The most requested pages tend to be about media that was popular in February. "
   ]
  },
  {
   "cell_type": "markdown",
   "metadata": {},
   "source": [
    "### Top Referers\n",
    "The clickstream data aslo lets us investigate who the top referers to Wikipedia are:"
   ]
  },
  {
   "cell_type": "code",
   "execution_count": 24,
   "metadata": {
    "collapsed": false
   },
   "outputs": [
    {
     "data": {
      "text/html": [
       "<div style=\"max-height:1000px;max-width:1500px;overflow:auto;\">\n",
       "<table border=\"1\" class=\"dataframe\">\n",
       "  <thead>\n",
       "    <tr style=\"text-align: right;\">\n",
       "      <th></th>\n",
       "      <th>n</th>\n",
       "    </tr>\n",
       "    <tr>\n",
       "      <th>prev</th>\n",
       "      <th></th>\n",
       "    </tr>\n",
       "  </thead>\n",
       "  <tbody>\n",
       "    <tr>\n",
       "      <th>other-google</th>\n",
       "      <td> 1494662520</td>\n",
       "    </tr>\n",
       "    <tr>\n",
       "      <th>other-empty</th>\n",
       "      <td>  347424627</td>\n",
       "    </tr>\n",
       "    <tr>\n",
       "      <th>other-wikipedia</th>\n",
       "      <td>  129619543</td>\n",
       "    </tr>\n",
       "    <tr>\n",
       "      <th>other-other</th>\n",
       "      <td>   77496915</td>\n",
       "    </tr>\n",
       "    <tr>\n",
       "      <th>other-bing</th>\n",
       "      <td>   65895496</td>\n",
       "    </tr>\n",
       "    <tr>\n",
       "      <th>other-yahoo</th>\n",
       "      <td>   48445941</td>\n",
       "    </tr>\n",
       "    <tr>\n",
       "      <th>Main_Page</th>\n",
       "      <td>   29897807</td>\n",
       "    </tr>\n",
       "    <tr>\n",
       "      <th>other-twitter</th>\n",
       "      <td>   19222486</td>\n",
       "    </tr>\n",
       "    <tr>\n",
       "      <th>other-facebook</th>\n",
       "      <td>    2312328</td>\n",
       "    </tr>\n",
       "    <tr>\n",
       "      <th>87th_Academy_Awards</th>\n",
       "      <td>    1680559</td>\n",
       "    </tr>\n",
       "  </tbody>\n",
       "</table>\n",
       "</div>"
      ],
      "text/plain": [
       "                              n\n",
       "prev                           \n",
       "other-google         1494662520\n",
       "other-empty           347424627\n",
       "other-wikipedia       129619543\n",
       "other-other            77496915\n",
       "other-bing             65895496\n",
       "other-yahoo            48445941\n",
       "Main_Page              29897807\n",
       "other-twitter          19222486\n",
       "other-facebook          2312328\n",
       "87th_Academy_Awards     1680559"
      ]
     },
     "execution_count": 24,
     "metadata": {},
     "output_type": "execute_result"
    }
   ],
   "source": [
    "df.groupby('prev').sum().sort('n', ascending=False)[:10]"
   ]
  },
  {
   "cell_type": "markdown",
   "metadata": {},
   "source": [
    "The top referer by a large margin is Google. Next comes refererless traffic (usually clients using HTTPS). Then come other language Wikipedias and pages in English Wikipedia that are not in the main (i.e. article) namespace. Bing directs significanlty more traffic to Wikipedia than Yahoo. Social media referals are tiny compared to Google, with twitter leading to 10x more requests to Wikipedia than Facebook. "
   ]
  },
  {
   "cell_type": "markdown",
   "metadata": {},
   "source": [
    "### Trending on Social Media\n",
    "Lets look at what articles where trending on Twitter:"
   ]
  },
  {
   "cell_type": "code",
   "execution_count": 25,
   "metadata": {
    "collapsed": false
   },
   "outputs": [
    {
     "data": {
      "text/html": [
       "<div style=\"max-height:1000px;max-width:1500px;overflow:auto;\">\n",
       "<table border=\"1\" class=\"dataframe\">\n",
       "  <thead>\n",
       "    <tr style=\"text-align: right;\">\n",
       "      <th></th>\n",
       "      <th>n</th>\n",
       "    </tr>\n",
       "    <tr>\n",
       "      <th>curr</th>\n",
       "      <th></th>\n",
       "    </tr>\n",
       "  </thead>\n",
       "  <tbody>\n",
       "    <tr>\n",
       "      <th>Johnny_Knoxville</th>\n",
       "      <td> 198908</td>\n",
       "    </tr>\n",
       "    <tr>\n",
       "      <th>Peter_Woodcock</th>\n",
       "      <td> 126259</td>\n",
       "    </tr>\n",
       "    <tr>\n",
       "      <th>2002_Tampa_plane_crash</th>\n",
       "      <td> 119906</td>\n",
       "    </tr>\n",
       "    <tr>\n",
       "      <th>Sơn_Đoòng_Cave</th>\n",
       "      <td> 116012</td>\n",
       "    </tr>\n",
       "    <tr>\n",
       "      <th>The_boy_Jones</th>\n",
       "      <td> 114401</td>\n",
       "    </tr>\n",
       "  </tbody>\n",
       "</table>\n",
       "</div>"
      ],
      "text/plain": [
       "                             n\n",
       "curr                          \n",
       "Johnny_Knoxville        198908\n",
       "Peter_Woodcock          126259\n",
       "2002_Tampa_plane_crash  119906\n",
       "Sơn_Đoòng_Cave          116012\n",
       "The_boy_Jones           114401"
      ]
     },
     "execution_count": 25,
     "metadata": {},
     "output_type": "execute_result"
    }
   ],
   "source": [
    "df_twitter = df[df['prev'] == 'other-twitter']\n",
    "df_twitter.groupby('curr').sum().sort('n', ascending=False)[:5]"
   ]
  },
  {
   "cell_type": "markdown",
   "metadata": {},
   "source": [
    "I'm have no explanations for this, but if you find any of the tweets linking to these article, I would be curious to see why they got so many click throughs. "
   ]
  },
  {
   "cell_type": "markdown",
   "metadata": {},
   "source": [
    "### Most Requested Mising Pages\n",
    "Next lets look at the most popular redinks. Redlinks are links to a Wikipedia page that does not exist, either because it has been deleted, or because the author is anticipating the creation of the page. Seeing which redlinks are the most viewed is interesting because it gives some indication about demand for missing content. Since the set of pages and links is constantly changing, the labeling of redlinks is not an exact science. In this case, I used the page and links tables from Feb 28th to mark a page as a redlink."
   ]
  },
  {
   "cell_type": "code",
   "execution_count": 26,
   "metadata": {
    "collapsed": false
   },
   "outputs": [
    {
     "data": {
      "text/html": [
       "<div style=\"max-height:1000px;max-width:1500px;overflow:auto;\">\n",
       "<table border=\"1\" class=\"dataframe\">\n",
       "  <thead>\n",
       "    <tr style=\"text-align: right;\">\n",
       "      <th></th>\n",
       "      <th>n</th>\n",
       "    </tr>\n",
       "    <tr>\n",
       "      <th>curr</th>\n",
       "      <th></th>\n",
       "    </tr>\n",
       "  </thead>\n",
       "  <tbody>\n",
       "    <tr>\n",
       "      <th>2027_Cricket_World_Cup</th>\n",
       "      <td> 6782</td>\n",
       "    </tr>\n",
       "    <tr>\n",
       "      <th>Rethinking</th>\n",
       "      <td> 5279</td>\n",
       "    </tr>\n",
       "    <tr>\n",
       "      <th>Chris_Soules</th>\n",
       "      <td> 5229</td>\n",
       "    </tr>\n",
       "    <tr>\n",
       "      <th>Anna_Lezhneva</th>\n",
       "      <td> 3764</td>\n",
       "    </tr>\n",
       "    <tr>\n",
       "      <th>Jillie_Mack</th>\n",
       "      <td> 3685</td>\n",
       "    </tr>\n",
       "  </tbody>\n",
       "</table>\n",
       "</div>"
      ],
      "text/plain": [
       "                           n\n",
       "curr                        \n",
       "2027_Cricket_World_Cup  6782\n",
       "Rethinking              5279\n",
       "Chris_Soules            5229\n",
       "Anna_Lezhneva           3764\n",
       "Jillie_Mack             3685"
      ]
     },
     "execution_count": 26,
     "metadata": {},
     "output_type": "execute_result"
    }
   ],
   "source": [
    "df_redlinks = df[df['type'] == 'redlink']\n",
    "df_redlinks.groupby('curr').sum().sort('n', ascending=False)[:5]"
   ]
  },
  {
   "cell_type": "markdown",
   "metadata": {},
   "source": [
    "### Searching Within Wikipedia"
   ]
  },
  {
   "cell_type": "markdown",
   "metadata": {},
   "source": [
    " Usually, clients navigate from one article to another through follwing a link. The other prominent case is search. The article from which the user searched is also passed as the referer to the found article. Hence, you will find a high count of `(Wikipedia, Chris_Kyle)` tuples. People went to the \"Wikipedia\" article to search for \"Chris_Kyle\". There is not a link to the \"Chris_Kyle\" article from the \"Wikipedia\" article. Finally, it is possible that the client messed with their referer header. The vast majority of requests with an internal referer correspond to a true link."
   ]
  },
  {
   "cell_type": "code",
   "execution_count": 27,
   "metadata": {
    "collapsed": false
   },
   "outputs": [
    {
     "name": "stdout",
     "output_type": "stream",
     "text": [
      "Number of searches/ incorrect referers: 106772349\n"
     ]
    }
   ],
   "source": [
    "df_search = df[df['type'] == 'other']\n",
    "df_search =  df_search[df_search.prev.str.match(\"^other.*\").apply(bool) == False]\n",
    "print \"Number of searches/ incorrect referers: %d\" % df_search.n.sum()"
   ]
  },
  {
   "cell_type": "code",
   "execution_count": 28,
   "metadata": {
    "collapsed": false
   },
   "outputs": [
    {
     "name": "stdout",
     "output_type": "stream",
     "text": [
      "Number of links followed: 983436029\n"
     ]
    }
   ],
   "source": [
    "df_link = df[df['type'] == 'link']\n",
    "df_link =  df_link[df_link.prev.str.match(\"^other.*\").apply(bool) == False]\n",
    "print \"Number of links followed: %d\" % df_link.n.sum()"
   ]
  },
  {
   "cell_type": "markdown",
   "metadata": {},
   "source": [
    "### Inflow vs Outflow"
   ]
  },
  {
   "cell_type": "markdown",
   "metadata": {},
   "source": [
    "You might be tempted to think that there can't be more traffic going out of a node than going into a node. This is not true for two reasons. People will follow links in multiple tabs as they read an article. Hence, a single pageview can lead to multiple records with that page as the referer. The data is also certain to include requests from bots which we did not correctly filter out. Bots will often follow most if not all the links in the article. Lets look at the ratio of incoming to outgoing links for the most requested pages."
   ]
  },
  {
   "cell_type": "code",
   "execution_count": 31,
   "metadata": {
    "collapsed": false
   },
   "outputs": [],
   "source": [
    "df_in = df.groupby('curr').sum()  # pageviews per article\n",
    "df_in.columns = ['in_count',]\n",
    "df_out = df.groupby('prev').sum() # link clicks per article\n",
    "df_out.columns = ['out_count',]\n",
    "df_in_out = df_in.join(df_out)\n",
    "df_in_out['ratio'] = df_in_out['out_count']/df_in_out['in_count'] #compute ratio if outflow/infow"
   ]
  },
  {
   "cell_type": "code",
   "execution_count": 30,
   "metadata": {
    "collapsed": false
   },
   "outputs": [
    {
     "data": {
      "text/html": [
       "<div style=\"max-height:1000px;max-width:1500px;overflow:auto;\">\n",
       "<table border=\"1\" class=\"dataframe\">\n",
       "  <thead>\n",
       "    <tr style=\"text-align: right;\">\n",
       "      <th></th>\n",
       "      <th>in_count</th>\n",
       "      <th>out_count</th>\n",
       "      <th>ratio</th>\n",
       "    </tr>\n",
       "    <tr>\n",
       "      <th>curr</th>\n",
       "      <th></th>\n",
       "      <th></th>\n",
       "      <th></th>\n",
       "    </tr>\n",
       "  </thead>\n",
       "  <tbody>\n",
       "    <tr>\n",
       "      <th>Main_Page</th>\n",
       "      <td> 127500620</td>\n",
       "      <td> 29897807</td>\n",
       "      <td> 0.234491</td>\n",
       "    </tr>\n",
       "    <tr>\n",
       "      <th>87th_Academy_Awards</th>\n",
       "      <td>   2559794</td>\n",
       "      <td>  1680559</td>\n",
       "      <td> 0.656521</td>\n",
       "    </tr>\n",
       "    <tr>\n",
       "      <th>Fifty_Shades_of_Grey</th>\n",
       "      <td>   2326175</td>\n",
       "      <td>  1146354</td>\n",
       "      <td> 0.492806</td>\n",
       "    </tr>\n",
       "  </tbody>\n",
       "</table>\n",
       "</div>"
      ],
      "text/plain": [
       "                       in_count  out_count     ratio\n",
       "curr                                                \n",
       "Main_Page             127500620   29897807  0.234491\n",
       "87th_Academy_Awards     2559794    1680559  0.656521\n",
       "Fifty_Shades_of_Grey    2326175    1146354  0.492806"
      ]
     },
     "execution_count": 30,
     "metadata": {},
     "output_type": "execute_result"
    }
   ],
   "source": [
    "df_in_out.sort('in_count', ascending = False)[:3]"
   ]
  },
  {
   "cell_type": "markdown",
   "metadata": {},
   "source": [
    "Looking at the pages with the highest ratio of outgoing to incoming traffic reveals how messy the data is, even after the carefull data preparation described above."
   ]
  },
  {
   "cell_type": "code",
   "execution_count": 32,
   "metadata": {
    "collapsed": false
   },
   "outputs": [
    {
     "data": {
      "text/html": [
       "<div style=\"max-height:1000px;max-width:1500px;overflow:auto;\">\n",
       "<table border=\"1\" class=\"dataframe\">\n",
       "  <thead>\n",
       "    <tr style=\"text-align: right;\">\n",
       "      <th></th>\n",
       "      <th>in_count</th>\n",
       "      <th>out_count</th>\n",
       "      <th>ratio</th>\n",
       "    </tr>\n",
       "    <tr>\n",
       "      <th>curr</th>\n",
       "      <th></th>\n",
       "      <th></th>\n",
       "      <th></th>\n",
       "    </tr>\n",
       "  </thead>\n",
       "  <tbody>\n",
       "    <tr>\n",
       "      <th>List_of_Major_League_Baseball_players_(H)</th>\n",
       "      <td> 57</td>\n",
       "      <td> 1323</td>\n",
       "      <td> 23.210526</td>\n",
       "    </tr>\n",
       "    <tr>\n",
       "      <th>2001–02_Slovak_Superliga</th>\n",
       "      <td> 22</td>\n",
       "      <td>  472</td>\n",
       "      <td> 21.454545</td>\n",
       "    </tr>\n",
       "    <tr>\n",
       "      <th>Principle_of_good_enough</th>\n",
       "      <td> 23</td>\n",
       "      <td>  374</td>\n",
       "      <td> 16.260870</td>\n",
       "    </tr>\n",
       "  </tbody>\n",
       "</table>\n",
       "</div>"
      ],
      "text/plain": [
       "                                           in_count  out_count      ratio\n",
       "curr                                                                     \n",
       "List_of_Major_League_Baseball_players_(H)        57       1323  23.210526\n",
       "2001–02_Slovak_Superliga                         22        472  21.454545\n",
       "Principle_of_good_enough                         23        374  16.260870"
      ]
     },
     "execution_count": 32,
     "metadata": {},
     "output_type": "execute_result"
    }
   ],
   "source": [
    "df_in_out.sort('ratio', ascending = False)[:3]"
   ]
  },
  {
   "cell_type": "markdown",
   "metadata": {},
   "source": [
    "All of these pages have more traversals of a single link than they have requests for the page to begin with.  As a post processing step, we might enforce that there can't be more traversals of a link than there where requests to the page. Better bot filtering should help reduce this issue in the future."
   ]
  },
  {
   "cell_type": "code",
   "execution_count": 27,
   "metadata": {
    "collapsed": false
   },
   "outputs": [],
   "source": [
    "df_post = pd.merge(df, df_in, how='left', left_on='prev', right_index=True)\n",
    "df_post['n'] = df_post[['n', 'in_count']].min(axis=1)\n",
    "del df_post['in_count']"
   ]
  },
  {
   "cell_type": "markdown",
   "metadata": {},
   "source": [
    "# Simple Network Analysis"
   ]
  },
  {
   "cell_type": "markdown",
   "metadata": {},
   "source": [
    "We can think of Wikipedia as a network with articles as nodes and links between articles as edges. With the clickstream data we can assign weights to the edges, which correspond to how often the edges where traversed. Remember, that if an edge was traversed less than ten times in the month, it is not included in the data. The data set is on the large side, but with some patience, we can load it into networkx and look at some basic properties of the network. "
   ]
  },
  {
   "cell_type": "code",
   "execution_count": 28,
   "metadata": {
    "collapsed": false
   },
   "outputs": [],
   "source": [
    "import networkx as nx\n",
    "clickstream = nx.DiGraph()\n",
    "\n",
    "for i, row in df_post.iterrows():\n",
    "    clickstream.add_edge(row['prev'], row['curr'], traffic = row['n'])"
   ]
  },
  {
   "cell_type": "markdown",
   "metadata": {},
   "source": [
    "First lets look at the number and distribution of sizes of [strongly connected components]()."
   ]
  },
  {
   "cell_type": "code",
   "execution_count": 29,
   "metadata": {
    "collapsed": false
   },
   "outputs": [],
   "source": [
    "strongly_connected_components = nx.strongly_connected_component_subgraphs(clickstream)"
   ]
  },
  {
   "cell_type": "code",
   "execution_count": 31,
   "metadata": {
    "collapsed": false
   },
   "outputs": [
    {
     "ename": "KeyboardInterrupt",
     "evalue": "",
     "output_type": "error",
     "traceback": [
      "\u001b[0;31m---------------------------------------------------------------------------\u001b[0m\n\u001b[0;31mKeyboardInterrupt\u001b[0m                         Traceback (most recent call last)",
      "\u001b[0;32m<ipython-input-31-589335c0d7ef>\u001b[0m in \u001b[0;36m<module>\u001b[0;34m()\u001b[0m\n\u001b[1;32m      1\u001b[0m \u001b[0mcomponent_sizes\u001b[0m \u001b[0;34m=\u001b[0m \u001b[0;34m[\u001b[0m\u001b[0;34m]\u001b[0m\u001b[0;34m\u001b[0m\u001b[0m\n\u001b[0;32m----> 2\u001b[0;31m \u001b[0;32mfor\u001b[0m \u001b[0mg\u001b[0m \u001b[0;32min\u001b[0m \u001b[0mstrongly_connected_components\u001b[0m\u001b[0;34m:\u001b[0m\u001b[0;34m\u001b[0m\u001b[0m\n\u001b[0m\u001b[1;32m      3\u001b[0m     \u001b[0mcomponent_sizes\u001b[0m\u001b[0;34m.\u001b[0m\u001b[0mappend\u001b[0m\u001b[0;34m(\u001b[0m\u001b[0mg\u001b[0m\u001b[0;34m.\u001b[0m\u001b[0mnumber_of_nodes\u001b[0m\u001b[0;34m(\u001b[0m\u001b[0;34m)\u001b[0m\u001b[0;34m)\u001b[0m\u001b[0;34m\u001b[0m\u001b[0m\n",
      "\u001b[0;32m/Users/ellerywulczyn/anaconda/lib/python2.7/site-packages/networkx/algorithms/components/strongly_connected.pyc\u001b[0m in \u001b[0;36mstrongly_connected_component_subgraphs\u001b[0;34m(G, copy)\u001b[0m\n\u001b[1;32m    229\u001b[0m     \u001b[0mconnected_component_subgraphs\u001b[0m\u001b[0;34m\u001b[0m\u001b[0m\n\u001b[1;32m    230\u001b[0m     \"\"\"\n\u001b[0;32m--> 231\u001b[0;31m     \u001b[0;32mfor\u001b[0m \u001b[0mcomp\u001b[0m \u001b[0;32min\u001b[0m \u001b[0mstrongly_connected_components\u001b[0m\u001b[0;34m(\u001b[0m\u001b[0mG\u001b[0m\u001b[0;34m)\u001b[0m\u001b[0;34m:\u001b[0m\u001b[0;34m\u001b[0m\u001b[0m\n\u001b[0m\u001b[1;32m    232\u001b[0m         \u001b[0;32mif\u001b[0m \u001b[0mcopy\u001b[0m\u001b[0;34m:\u001b[0m\u001b[0;34m\u001b[0m\u001b[0m\n\u001b[1;32m    233\u001b[0m             \u001b[0;32myield\u001b[0m \u001b[0mG\u001b[0m\u001b[0;34m.\u001b[0m\u001b[0msubgraph\u001b[0m\u001b[0;34m(\u001b[0m\u001b[0mcomp\u001b[0m\u001b[0;34m)\u001b[0m\u001b[0;34m.\u001b[0m\u001b[0mcopy\u001b[0m\u001b[0;34m(\u001b[0m\u001b[0;34m)\u001b[0m\u001b[0;34m\u001b[0m\u001b[0m\n",
      "\u001b[0;32m/Users/ellerywulczyn/anaconda/lib/python2.7/site-packages/networkx/algorithms/components/strongly_connected.pyc\u001b[0m in \u001b[0;36mstrongly_connected_components\u001b[0;34m(G)\u001b[0m\n\u001b[1;32m     76\u001b[0m                 \u001b[0;32mfor\u001b[0m \u001b[0mw\u001b[0m \u001b[0;32min\u001b[0m \u001b[0mv_nbrs\u001b[0m\u001b[0;34m:\u001b[0m\u001b[0;34m\u001b[0m\u001b[0m\n\u001b[1;32m     77\u001b[0m                     \u001b[0;32mif\u001b[0m \u001b[0mw\u001b[0m \u001b[0;32mnot\u001b[0m \u001b[0;32min\u001b[0m \u001b[0mpreorder\u001b[0m\u001b[0;34m:\u001b[0m\u001b[0;34m\u001b[0m\u001b[0m\n\u001b[0;32m---> 78\u001b[0;31m                         \u001b[0mqueue\u001b[0m\u001b[0;34m.\u001b[0m\u001b[0mappend\u001b[0m\u001b[0;34m(\u001b[0m\u001b[0mw\u001b[0m\u001b[0;34m)\u001b[0m\u001b[0;34m\u001b[0m\u001b[0m\n\u001b[0m\u001b[1;32m     79\u001b[0m                         \u001b[0mdone\u001b[0m\u001b[0;34m=\u001b[0m\u001b[0;36m0\u001b[0m\u001b[0;34m\u001b[0m\u001b[0m\n\u001b[1;32m     80\u001b[0m                         \u001b[0;32mbreak\u001b[0m\u001b[0;34m\u001b[0m\u001b[0m\n",
      "\u001b[0;31mKeyboardInterrupt\u001b[0m: "
     ]
    }
   ],
   "source": [
    "component_sizes = []\n",
    "for g in strongly_connected_components:\n",
    "    component_sizes.append(g.number_of_nodes())"
   ]
  },
  {
   "cell_type": "code",
   "execution_count": 90,
   "metadata": {
    "collapsed": false
   },
   "outputs": [
    {
     "data": {
      "text/plain": [
       "(23141217, 4)"
      ]
     },
     "execution_count": 90,
     "metadata": {},
     "output_type": "execute_result"
    }
   ],
   "source": [
    "component_sizes"
   ]
  },
  {
   "cell_type": "code",
   "execution_count": 30,
   "metadata": {
    "collapsed": false
   },
   "outputs": [
    {
     "data": {
      "text/plain": [
       "4200855"
      ]
     },
     "execution_count": 30,
     "metadata": {},
     "output_type": "execute_result"
    }
   ],
   "source": [
    "clickstream.number_of_nodes ()"
   ]
  },
  {
   "cell_type": "code",
   "execution_count": null,
   "metadata": {
    "collapsed": false
   },
   "outputs": [],
   "source": [
    "len(strongly_connected_components)"
   ]
  },
  {
   "cell_type": "code",
   "execution_count": null,
   "metadata": {
    "collapsed": false
   },
   "outputs": [],
   "source": []
  },
  {
   "cell_type": "code",
   "execution_count": 76,
   "metadata": {
    "collapsed": false
   },
   "outputs": [],
   "source": [
    "pr = nx.pagerank(clickstream, alpha=0.9, weight = 'traffic')"
   ]
  },
  {
   "cell_type": "code",
   "execution_count": 1,
   "metadata": {
    "collapsed": false
   },
   "outputs": [],
   "source": []
  },
  {
   "cell_type": "code",
   "execution_count": 13,
   "metadata": {
    "collapsed": false
   },
   "outputs": [],
   "source": [
    "df_in = df_post.groupby('curr').sum()  # pageviews per article\n",
    "df_in.columns = ['in_count',]\n",
    "df_out = df_post.groupby('prev').sum() # link clicks per article\n",
    "df_out.columns = ['out_count',]\n",
    "df_in_out = df_in.join(df_out)\n",
    "df_in_out['ratio'] = df_in_out['out_count']/df_in_out['in_count']\n"
   ]
  },
  {
   "cell_type": "code",
   "execution_count": 14,
   "metadata": {
    "collapsed": false
   },
   "outputs": [
    {
     "data": {
      "text/html": [
       "<div style=\"max-height:1000px;max-width:1500px;overflow:auto;\">\n",
       "<table border=\"1\" class=\"dataframe\">\n",
       "  <thead>\n",
       "    <tr style=\"text-align: right;\">\n",
       "      <th></th>\n",
       "      <th>in_count</th>\n",
       "      <th>out_count</th>\n",
       "      <th>ratio</th>\n",
       "    </tr>\n",
       "    <tr>\n",
       "      <th>curr</th>\n",
       "      <th></th>\n",
       "      <th></th>\n",
       "      <th></th>\n",
       "    </tr>\n",
       "  </thead>\n",
       "  <tbody>\n",
       "    <tr>\n",
       "      <th>Inch</th>\n",
       "      <td> 141</td>\n",
       "      <td> 2144</td>\n",
       "      <td> 15.205674</td>\n",
       "    </tr>\n",
       "    <tr>\n",
       "      <th>List_of_Polish_gminas_(B)</th>\n",
       "      <td>  41</td>\n",
       "      <td>  447</td>\n",
       "      <td> 10.902439</td>\n",
       "    </tr>\n",
       "    <tr>\n",
       "      <th>List_of_Polish_gminas_(A)</th>\n",
       "      <td>  38</td>\n",
       "      <td>  342</td>\n",
       "      <td>  9.000000</td>\n",
       "    </tr>\n",
       "    <tr>\n",
       "      <th>International_League_Most_Valuable_Player_Award</th>\n",
       "      <td>  33</td>\n",
       "      <td>  275</td>\n",
       "      <td>  8.333333</td>\n",
       "    </tr>\n",
       "    <tr>\n",
       "      <th>List_of_largest_known_nebulae</th>\n",
       "      <td>  31</td>\n",
       "      <td>  254</td>\n",
       "      <td>  8.193548</td>\n",
       "    </tr>\n",
       "  </tbody>\n",
       "</table>\n",
       "</div>"
      ],
      "text/plain": [
       "                                                 in_count  out_count  \\\n",
       "curr                                                                   \n",
       "Inch                                                  141       2144   \n",
       "List_of_Polish_gminas_(B)                              41        447   \n",
       "List_of_Polish_gminas_(A)                              38        342   \n",
       "International_League_Most_Valuable_Player_Award        33        275   \n",
       "List_of_largest_known_nebulae                          31        254   \n",
       "\n",
       "                                                     ratio  \n",
       "curr                                                        \n",
       "Inch                                             15.205674  \n",
       "List_of_Polish_gminas_(B)                        10.902439  \n",
       "List_of_Polish_gminas_(A)                         9.000000  \n",
       "International_League_Most_Valuable_Player_Award   8.333333  \n",
       "List_of_largest_known_nebulae                     8.193548  "
      ]
     },
     "execution_count": 14,
     "metadata": {},
     "output_type": "execute_result"
    }
   ],
   "source": [
    "df_in_out.sort('ratio', ascending = False)[:5]"
   ]
  },
  {
   "cell_type": "code",
   "execution_count": 15,
   "metadata": {
    "collapsed": false
   },
   "outputs": [
    {
     "data": {
      "text/html": [
       "<div style=\"max-height:1000px;max-width:1500px;overflow:auto;\">\n",
       "<table border=\"1\" class=\"dataframe\">\n",
       "  <thead>\n",
       "    <tr style=\"text-align: right;\">\n",
       "      <th></th>\n",
       "      <th>prev</th>\n",
       "      <th>curr</th>\n",
       "      <th>n</th>\n",
       "      <th>type</th>\n",
       "    </tr>\n",
       "  </thead>\n",
       "  <tbody>\n",
       "    <tr>\n",
       "      <th>0</th>\n",
       "      <td>        other-empty</td>\n",
       "      <td>          !!</td>\n",
       "      <td>  66</td>\n",
       "      <td> other</td>\n",
       "    </tr>\n",
       "    <tr>\n",
       "      <th>1</th>\n",
       "      <td>       other-google</td>\n",
       "      <td>          !!</td>\n",
       "      <td> 110</td>\n",
       "      <td> other</td>\n",
       "    </tr>\n",
       "    <tr>\n",
       "      <th>2</th>\n",
       "      <td>    other-wikipedia</td>\n",
       "      <td>          !!</td>\n",
       "      <td>  31</td>\n",
       "      <td> other</td>\n",
       "    </tr>\n",
       "    <tr>\n",
       "      <th>3</th>\n",
       "      <td> !_(disambiguation)</td>\n",
       "      <td>          !!</td>\n",
       "      <td>  10</td>\n",
       "      <td> other</td>\n",
       "    </tr>\n",
       "    <tr>\n",
       "      <th>4</th>\n",
       "      <td>       other-google</td>\n",
       "      <td> !!!_(album)</td>\n",
       "      <td>  17</td>\n",
       "      <td> other</td>\n",
       "    </tr>\n",
       "  </tbody>\n",
       "</table>\n",
       "</div>"
      ],
      "text/plain": [
       "                 prev         curr    n   type\n",
       "0         other-empty           !!   66  other\n",
       "1        other-google           !!  110  other\n",
       "2     other-wikipedia           !!   31  other\n",
       "3  !_(disambiguation)           !!   10  other\n",
       "4        other-google  !!!_(album)   17  other"
      ]
     },
     "execution_count": 15,
     "metadata": {},
     "output_type": "execute_result"
    }
   ],
   "source": [
    "df_post.head()"
   ]
  },
  {
   "cell_type": "markdown",
   "metadata": {},
   "source": [
    "# Simple Network Analysis"
   ]
  },
  {
   "cell_type": "code",
   "execution_count": null,
   "metadata": {
    "collapsed": false
   },
   "outputs": [],
   "source": []
  },
  {
   "cell_type": "code",
   "execution_count": 56,
   "metadata": {
    "collapsed": false
   },
   "outputs": [],
   "source": []
  },
  {
   "cell_type": "code",
   "execution_count": 71,
   "metadata": {
    "collapsed": false
   },
   "outputs": [
    {
     "ename": "KeyboardInterrupt",
     "evalue": "",
     "output_type": "error",
     "traceback": [
      "\u001b[0;31m---------------------------------------------------------------------------\u001b[0m\n\u001b[0;31mKeyboardInterrupt\u001b[0m                         Traceback (most recent call last)",
      "\u001b[0;32m<ipython-input-71-4509655b01f5>\u001b[0m in \u001b[0;36m<module>\u001b[0;34m()\u001b[0m\n\u001b[1;32m      1\u001b[0m \u001b[0mclickstream\u001b[0m \u001b[0;34m=\u001b[0m \u001b[0mnx\u001b[0m\u001b[0;34m.\u001b[0m\u001b[0mDiGraph\u001b[0m\u001b[0;34m(\u001b[0m\u001b[0;34m)\u001b[0m\u001b[0;34m\u001b[0m\u001b[0m\n\u001b[0;32m----> 2\u001b[0;31m \u001b[0;32mfor\u001b[0m \u001b[0mi\u001b[0m\u001b[0;34m,\u001b[0m \u001b[0mrow\u001b[0m \u001b[0;32min\u001b[0m \u001b[0mdf_post\u001b[0m\u001b[0;34m.\u001b[0m\u001b[0miterrows\u001b[0m\u001b[0;34m(\u001b[0m\u001b[0;34m)\u001b[0m\u001b[0;34m:\u001b[0m\u001b[0;34m\u001b[0m\u001b[0m\n\u001b[0m\u001b[1;32m      3\u001b[0m     \u001b[0mclickstream\u001b[0m\u001b[0;34m.\u001b[0m\u001b[0madd_edge\u001b[0m\u001b[0;34m(\u001b[0m\u001b[0mrow\u001b[0m\u001b[0;34m[\u001b[0m\u001b[0;34m'prev'\u001b[0m\u001b[0;34m]\u001b[0m\u001b[0;34m,\u001b[0m \u001b[0mrow\u001b[0m\u001b[0;34m[\u001b[0m\u001b[0;34m'curr'\u001b[0m\u001b[0;34m]\u001b[0m\u001b[0;34m)\u001b[0m\u001b[0;34m\u001b[0m\u001b[0m\n",
      "\u001b[0;32m/Users/ellerywulczyn/anaconda/lib/python2.7/site-packages/pandas/core/frame.pyc\u001b[0m in \u001b[0;36miterrows\u001b[0;34m(self)\u001b[0m\n\u001b[1;32m    534\u001b[0m         \u001b[0mcolumns\u001b[0m \u001b[0;34m=\u001b[0m \u001b[0mself\u001b[0m\u001b[0;34m.\u001b[0m\u001b[0mcolumns\u001b[0m\u001b[0;34m\u001b[0m\u001b[0m\n\u001b[1;32m    535\u001b[0m         \u001b[0;32mfor\u001b[0m \u001b[0mk\u001b[0m\u001b[0;34m,\u001b[0m \u001b[0mv\u001b[0m \u001b[0;32min\u001b[0m \u001b[0mzip\u001b[0m\u001b[0;34m(\u001b[0m\u001b[0mself\u001b[0m\u001b[0;34m.\u001b[0m\u001b[0mindex\u001b[0m\u001b[0;34m,\u001b[0m \u001b[0mself\u001b[0m\u001b[0;34m.\u001b[0m\u001b[0mvalues\u001b[0m\u001b[0;34m)\u001b[0m\u001b[0;34m:\u001b[0m\u001b[0;34m\u001b[0m\u001b[0m\n\u001b[0;32m--> 536\u001b[0;31m             \u001b[0ms\u001b[0m \u001b[0;34m=\u001b[0m \u001b[0mSeries\u001b[0m\u001b[0;34m(\u001b[0m\u001b[0mv\u001b[0m\u001b[0;34m,\u001b[0m \u001b[0mindex\u001b[0m\u001b[0;34m=\u001b[0m\u001b[0mcolumns\u001b[0m\u001b[0;34m,\u001b[0m \u001b[0mname\u001b[0m\u001b[0;34m=\u001b[0m\u001b[0mk\u001b[0m\u001b[0;34m)\u001b[0m\u001b[0;34m\u001b[0m\u001b[0m\n\u001b[0m\u001b[1;32m    537\u001b[0m             \u001b[0;32myield\u001b[0m \u001b[0mk\u001b[0m\u001b[0;34m,\u001b[0m \u001b[0ms\u001b[0m\u001b[0;34m\u001b[0m\u001b[0m\n\u001b[1;32m    538\u001b[0m \u001b[0;34m\u001b[0m\u001b[0m\n",
      "\u001b[0;32m/Users/ellerywulczyn/anaconda/lib/python2.7/site-packages/pandas/core/series.pyc\u001b[0m in \u001b[0;36m__init__\u001b[0;34m(self, data, index, dtype, name, copy, fastpath)\u001b[0m\n\u001b[1;32m    229\u001b[0m                                        raise_cast_failure=True)\n\u001b[1;32m    230\u001b[0m \u001b[0;34m\u001b[0m\u001b[0m\n\u001b[0;32m--> 231\u001b[0;31m                 \u001b[0mdata\u001b[0m \u001b[0;34m=\u001b[0m \u001b[0mSingleBlockManager\u001b[0m\u001b[0;34m(\u001b[0m\u001b[0mdata\u001b[0m\u001b[0;34m,\u001b[0m \u001b[0mindex\u001b[0m\u001b[0;34m,\u001b[0m \u001b[0mfastpath\u001b[0m\u001b[0;34m=\u001b[0m\u001b[0mTrue\u001b[0m\u001b[0;34m)\u001b[0m\u001b[0;34m\u001b[0m\u001b[0m\n\u001b[0m\u001b[1;32m    232\u001b[0m \u001b[0;34m\u001b[0m\u001b[0m\n\u001b[1;32m    233\u001b[0m         \u001b[0mgeneric\u001b[0m\u001b[0;34m.\u001b[0m\u001b[0mNDFrame\u001b[0m\u001b[0;34m.\u001b[0m\u001b[0m__init__\u001b[0m\u001b[0;34m(\u001b[0m\u001b[0mself\u001b[0m\u001b[0;34m,\u001b[0m \u001b[0mdata\u001b[0m\u001b[0;34m,\u001b[0m \u001b[0mfastpath\u001b[0m\u001b[0;34m=\u001b[0m\u001b[0mTrue\u001b[0m\u001b[0;34m)\u001b[0m\u001b[0;34m\u001b[0m\u001b[0m\n",
      "\u001b[0;32m/Users/ellerywulczyn/anaconda/lib/python2.7/site-packages/pandas/core/internals.pyc\u001b[0m in \u001b[0;36m__init__\u001b[0;34m(self, block, axis, do_integrity_check, fastpath)\u001b[0m\n\u001b[1;32m   3073\u001b[0m             block = make_block(block,\n\u001b[1;32m   3074\u001b[0m                                \u001b[0mplacement\u001b[0m\u001b[0;34m=\u001b[0m\u001b[0mslice\u001b[0m\u001b[0;34m(\u001b[0m\u001b[0;36m0\u001b[0m\u001b[0;34m,\u001b[0m \u001b[0mlen\u001b[0m\u001b[0;34m(\u001b[0m\u001b[0maxis\u001b[0m\u001b[0;34m)\u001b[0m\u001b[0;34m)\u001b[0m\u001b[0;34m,\u001b[0m\u001b[0;34m\u001b[0m\u001b[0m\n\u001b[0;32m-> 3075\u001b[0;31m                                ndim=1, fastpath=True)\n\u001b[0m\u001b[1;32m   3076\u001b[0m \u001b[0;34m\u001b[0m\u001b[0m\n\u001b[1;32m   3077\u001b[0m         \u001b[0mself\u001b[0m\u001b[0;34m.\u001b[0m\u001b[0mblocks\u001b[0m \u001b[0;34m=\u001b[0m \u001b[0;34m[\u001b[0m\u001b[0mblock\u001b[0m\u001b[0;34m]\u001b[0m\u001b[0;34m\u001b[0m\u001b[0m\n",
      "\u001b[0;32m/Users/ellerywulczyn/anaconda/lib/python2.7/site-packages/pandas/core/internals.pyc\u001b[0m in \u001b[0;36mmake_block\u001b[0;34m(values, placement, klass, ndim, dtype, fastpath)\u001b[0m\n\u001b[1;32m   1812\u001b[0m         \u001b[0;32melif\u001b[0m \u001b[0missubclass\u001b[0m\u001b[0;34m(\u001b[0m\u001b[0mvtype\u001b[0m\u001b[0;34m,\u001b[0m \u001b[0mnp\u001b[0m\u001b[0;34m.\u001b[0m\u001b[0mfloating\u001b[0m\u001b[0;34m)\u001b[0m\u001b[0;34m:\u001b[0m\u001b[0;34m\u001b[0m\u001b[0m\n\u001b[1;32m   1813\u001b[0m             \u001b[0mklass\u001b[0m \u001b[0;34m=\u001b[0m \u001b[0mFloatBlock\u001b[0m\u001b[0;34m\u001b[0m\u001b[0m\n\u001b[0;32m-> 1814\u001b[0;31m         elif (issubclass(vtype, np.integer) and\n\u001b[0m\u001b[1;32m   1815\u001b[0m                 issubclass(vtype, np.timedelta64)):\n\u001b[1;32m   1816\u001b[0m             \u001b[0mklass\u001b[0m \u001b[0;34m=\u001b[0m \u001b[0mTimeDeltaBlock\u001b[0m\u001b[0;34m\u001b[0m\u001b[0m\n",
      "\u001b[0;31mKeyboardInterrupt\u001b[0m: "
     ]
    }
   ],
   "source": [
    "clickstream = nx.DiGraph()\n",
    "for i, row in df_post.iterrows():\n",
    "    clickstream.add_edge(row['prev'], row['curr'], weight = row['n'])"
   ]
  },
  {
   "cell_type": "code",
   "execution_count": 61,
   "metadata": {
    "collapsed": false
   },
   "outputs": [],
   "source": [
    "clickstream.add_edge('a', 'v', weight = 8)"
   ]
  },
  {
   "cell_type": "code",
   "execution_count": null,
   "metadata": {
    "collapsed": false
   },
   "outputs": [],
   "source": []
  },
  {
   "cell_type": "code",
   "execution_count": 36,
   "metadata": {
    "collapsed": false
   },
   "outputs": [],
   "source": [
    "df_norm = pd.merge(df_post, df_out, how='left', left_on='prev', right_index=True)"
   ]
  },
  {
   "cell_type": "code",
   "execution_count": 37,
   "metadata": {
    "collapsed": false
   },
   "outputs": [],
   "source": [
    "df_norm = df_norm.sort(['prev', 'curr'])"
   ]
  },
  {
   "cell_type": "code",
   "execution_count": 38,
   "metadata": {
    "collapsed": false
   },
   "outputs": [],
   "source": [
    "df_norm['w'] = df_norm['n'] / df_norm['out_count']"
   ]
  },
  {
   "cell_type": "code",
   "execution_count": 40,
   "metadata": {
    "collapsed": false
   },
   "outputs": [
    {
     "data": {
      "text/html": [
       "<div style=\"max-height:1000px;max-width:1500px;overflow:auto;\">\n",
       "<table border=\"1\" class=\"dataframe\">\n",
       "  <thead>\n",
       "    <tr style=\"text-align: right;\">\n",
       "      <th></th>\n",
       "      <th>prev</th>\n",
       "      <th>curr</th>\n",
       "      <th>n</th>\n",
       "      <th>type</th>\n",
       "      <th>out_count</th>\n",
       "      <th>w</th>\n",
       "    </tr>\n",
       "  </thead>\n",
       "  <tbody>\n",
       "    <tr>\n",
       "      <th>11512688</th>\n",
       "      <td>                 !!</td>\n",
       "      <td>                                            !!!</td>\n",
       "      <td>  31</td>\n",
       "      <td>  link</td>\n",
       "      <td>  129</td>\n",
       "      <td> 0.240310</td>\n",
       "    </tr>\n",
       "    <tr>\n",
       "      <th>2058414 </th>\n",
       "      <td>                 !!</td>\n",
       "      <td>                       Chess_annotation_symbols</td>\n",
       "      <td>  31</td>\n",
       "      <td>  link</td>\n",
       "      <td>  129</td>\n",
       "      <td> 0.240310</td>\n",
       "    </tr>\n",
       "    <tr>\n",
       "      <th>14500433</th>\n",
       "      <td>                 !!</td>\n",
       "      <td>                               Double_factorial</td>\n",
       "      <td>  26</td>\n",
       "      <td>  link</td>\n",
       "      <td>  129</td>\n",
       "      <td> 0.201550</td>\n",
       "    </tr>\n",
       "    <tr>\n",
       "      <th>14928832</th>\n",
       "      <td>                 !!</td>\n",
       "      <td>                               Exclamation_mark</td>\n",
       "      <td>  18</td>\n",
       "      <td>  link</td>\n",
       "      <td>  129</td>\n",
       "      <td> 0.139535</td>\n",
       "    </tr>\n",
       "    <tr>\n",
       "      <th>20209148</th>\n",
       "      <td>                 !!</td>\n",
       "      <td>                               Retroflex_clicks</td>\n",
       "      <td>  12</td>\n",
       "      <td>  link</td>\n",
       "      <td>  129</td>\n",
       "      <td> 0.093023</td>\n",
       "    </tr>\n",
       "    <tr>\n",
       "      <th>22442410</th>\n",
       "      <td>                 !!</td>\n",
       "      <td>             Universal_Character_Set_characters</td>\n",
       "      <td>  11</td>\n",
       "      <td> other</td>\n",
       "      <td>  129</td>\n",
       "      <td> 0.085271</td>\n",
       "    </tr>\n",
       "    <tr>\n",
       "      <th>5       </th>\n",
       "      <td>                !!!</td>\n",
       "      <td>                                    !!!_(album)</td>\n",
       "      <td> 311</td>\n",
       "      <td>  link</td>\n",
       "      <td> 1847</td>\n",
       "      <td> 0.168381</td>\n",
       "    </tr>\n",
       "    <tr>\n",
       "      <th>11512757</th>\n",
       "      <td>                !!!</td>\n",
       "      <td>                             !_(disambiguation)</td>\n",
       "      <td>  14</td>\n",
       "      <td>  link</td>\n",
       "      <td> 1847</td>\n",
       "      <td> 0.007580</td>\n",
       "    </tr>\n",
       "    <tr>\n",
       "      <th>13312978</th>\n",
       "      <td>                !!!</td>\n",
       "      <td>                                    Cake_(band)</td>\n",
       "      <td>  10</td>\n",
       "      <td>  link</td>\n",
       "      <td> 1847</td>\n",
       "      <td> 0.005414</td>\n",
       "    </tr>\n",
       "    <tr>\n",
       "      <th>2596570 </th>\n",
       "      <td>                !!!</td>\n",
       "      <td>                                     Dance-punk</td>\n",
       "      <td>  40</td>\n",
       "      <td>  link</td>\n",
       "      <td> 1847</td>\n",
       "      <td> 0.021657</td>\n",
       "    </tr>\n",
       "    <tr>\n",
       "      <th>3763306 </th>\n",
       "      <td>                !!!</td>\n",
       "      <td>                         Fuck_You_and_Then_Some</td>\n",
       "      <td>  10</td>\n",
       "      <td> other</td>\n",
       "      <td> 1847</td>\n",
       "      <td> 0.005414</td>\n",
       "    </tr>\n",
       "    <tr>\n",
       "      <th>5123932 </th>\n",
       "      <td>                !!!</td>\n",
       "      <td>                                    Jerry_Fuchs</td>\n",
       "      <td>  52</td>\n",
       "      <td>  link</td>\n",
       "      <td> 1847</td>\n",
       "      <td> 0.028154</td>\n",
       "    </tr>\n",
       "    <tr>\n",
       "      <th>16924392</th>\n",
       "      <td>                !!!</td>\n",
       "      <td>                          Justin_Van_Der_Volgen</td>\n",
       "      <td>  25</td>\n",
       "      <td>  link</td>\n",
       "      <td> 1847</td>\n",
       "      <td> 0.013535</td>\n",
       "    </tr>\n",
       "    <tr>\n",
       "      <th>17088758</th>\n",
       "      <td>                !!!</td>\n",
       "      <td>                              Khoisan_languages</td>\n",
       "      <td>  10</td>\n",
       "      <td>  link</td>\n",
       "      <td> 1847</td>\n",
       "      <td> 0.005414</td>\n",
       "    </tr>\n",
       "    <tr>\n",
       "      <th>5677809 </th>\n",
       "      <td>                !!!</td>\n",
       "      <td>                                LCD_Soundsystem</td>\n",
       "      <td>  33</td>\n",
       "      <td>  link</td>\n",
       "      <td> 1847</td>\n",
       "      <td> 0.017867</td>\n",
       "    </tr>\n",
       "    <tr>\n",
       "      <th>6303428 </th>\n",
       "      <td>                !!!</td>\n",
       "      <td>                                  Louden_Up_Now</td>\n",
       "      <td> 229</td>\n",
       "      <td>  link</td>\n",
       "      <td> 1847</td>\n",
       "      <td> 0.123985</td>\n",
       "    </tr>\n",
       "    <tr>\n",
       "      <th>18092470</th>\n",
       "      <td>                !!!</td>\n",
       "      <td>                                      Main_Page</td>\n",
       "      <td>  12</td>\n",
       "      <td> other</td>\n",
       "      <td> 1847</td>\n",
       "      <td> 0.006497</td>\n",
       "    </tr>\n",
       "    <tr>\n",
       "      <th>18797941</th>\n",
       "      <td>                !!!</td>\n",
       "      <td>                                     Myth_Takes</td>\n",
       "      <td> 238</td>\n",
       "      <td>  link</td>\n",
       "      <td> 1847</td>\n",
       "      <td> 0.128858</td>\n",
       "    </tr>\n",
       "    <tr>\n",
       "      <th>19005048</th>\n",
       "      <td>                !!!</td>\n",
       "      <td>                                      Nic_Offer</td>\n",
       "      <td> 241</td>\n",
       "      <td>  link</td>\n",
       "      <td> 1847</td>\n",
       "      <td> 0.130482</td>\n",
       "    </tr>\n",
       "    <tr>\n",
       "      <th>7712702 </th>\n",
       "      <td>                !!!</td>\n",
       "      <td>                                        Out_Hud</td>\n",
       "      <td>  36</td>\n",
       "      <td>  link</td>\n",
       "      <td> 1847</td>\n",
       "      <td> 0.019491</td>\n",
       "    </tr>\n",
       "    <tr>\n",
       "      <th>9703815 </th>\n",
       "      <td>                !!!</td>\n",
       "      <td>                     Strange_Weather,_Isn't_It?</td>\n",
       "      <td> 164</td>\n",
       "      <td>  link</td>\n",
       "      <td> 1847</td>\n",
       "      <td> 0.088793</td>\n",
       "    </tr>\n",
       "    <tr>\n",
       "      <th>21776136</th>\n",
       "      <td>                !!!</td>\n",
       "      <td>                         The_Gods_Must_Be_Crazy</td>\n",
       "      <td>  33</td>\n",
       "      <td>  link</td>\n",
       "      <td> 1847</td>\n",
       "      <td> 0.017867</td>\n",
       "    </tr>\n",
       "    <tr>\n",
       "      <th>10412281</th>\n",
       "      <td>                !!!</td>\n",
       "      <td>                                       Thr!!!er</td>\n",
       "      <td> 379</td>\n",
       "      <td>  link</td>\n",
       "      <td> 1847</td>\n",
       "      <td> 0.205198</td>\n",
       "    </tr>\n",
       "    <tr>\n",
       "      <th>11108153</th>\n",
       "      <td>                !!!</td>\n",
       "      <td>                            Warp_(record_label)</td>\n",
       "      <td>  10</td>\n",
       "      <td>  link</td>\n",
       "      <td> 1847</td>\n",
       "      <td> 0.005414</td>\n",
       "    </tr>\n",
       "    <tr>\n",
       "      <th>11512687</th>\n",
       "      <td>        !!!_(album)</td>\n",
       "      <td>                                            !!!</td>\n",
       "      <td>  57</td>\n",
       "      <td>  link</td>\n",
       "      <td>  140</td>\n",
       "      <td> 0.407143</td>\n",
       "    </tr>\n",
       "    <tr>\n",
       "      <th>6303431 </th>\n",
       "      <td>        !!!_(album)</td>\n",
       "      <td>                                  Louden_Up_Now</td>\n",
       "      <td>  83</td>\n",
       "      <td>  link</td>\n",
       "      <td>  140</td>\n",
       "      <td> 0.592857</td>\n",
       "    </tr>\n",
       "    <tr>\n",
       "      <th>18964915</th>\n",
       "      <td> !!Destroy-Oh-Boy!!</td>\n",
       "      <td>                                 New_Bomb_Turks</td>\n",
       "      <td>  11</td>\n",
       "      <td>  link</td>\n",
       "      <td>   11</td>\n",
       "      <td> 1.000000</td>\n",
       "    </tr>\n",
       "    <tr>\n",
       "      <th>12994958</th>\n",
       "      <td>      !Action_Pact!</td>\n",
       "      <td> Blitzkrieg_Over_You!:_A_Tribute_to_the_Ramones</td>\n",
       "      <td>  19</td>\n",
       "      <td>  link</td>\n",
       "      <td>   19</td>\n",
       "      <td> 1.000000</td>\n",
       "    </tr>\n",
       "    <tr>\n",
       "      <th>9       </th>\n",
       "      <td>              !Hero</td>\n",
       "      <td>                                  !Hero_(album)</td>\n",
       "      <td>  26</td>\n",
       "      <td>  link</td>\n",
       "      <td>   38</td>\n",
       "      <td> 0.684211</td>\n",
       "    </tr>\n",
       "    <tr>\n",
       "      <th>6841032 </th>\n",
       "      <td>              !Hero</td>\n",
       "      <td>                                   Michael_Tait</td>\n",
       "      <td>  12</td>\n",
       "      <td>  link</td>\n",
       "      <td>   38</td>\n",
       "      <td> 0.315789</td>\n",
       "    </tr>\n",
       "    <tr>\n",
       "      <th>650802  </th>\n",
       "      <td>     !Kung_language</td>\n",
       "      <td>                                Alveolar_clicks</td>\n",
       "      <td>  61</td>\n",
       "      <td> other</td>\n",
       "      <td>  475</td>\n",
       "      <td> 0.128421</td>\n",
       "    </tr>\n",
       "    <tr>\n",
       "      <th>1955244 </th>\n",
       "      <td>     !Kung_language</td>\n",
       "      <td>                                  Central_!Kung</td>\n",
       "      <td>  11</td>\n",
       "      <td>  link</td>\n",
       "      <td>  475</td>\n",
       "      <td> 0.023158</td>\n",
       "    </tr>\n",
       "    <tr>\n",
       "      <th>2227869 </th>\n",
       "      <td>     !Kung_language</td>\n",
       "      <td>                                Click_consonant</td>\n",
       "      <td>  36</td>\n",
       "      <td>  link</td>\n",
       "      <td>  475</td>\n",
       "      <td> 0.075789</td>\n",
       "    </tr>\n",
       "    <tr>\n",
       "      <th>3154073 </th>\n",
       "      <td>     !Kung_language</td>\n",
       "      <td>                                    Ekoka_!Kung</td>\n",
       "      <td>  41</td>\n",
       "      <td>  link</td>\n",
       "      <td>  475</td>\n",
       "      <td> 0.086316</td>\n",
       "    </tr>\n",
       "    <tr>\n",
       "      <th>5379311 </th>\n",
       "      <td>     !Kung_language</td>\n",
       "      <td>                               Juǀ'hoan_dialect</td>\n",
       "      <td>  68</td>\n",
       "      <td>  link</td>\n",
       "      <td>  475</td>\n",
       "      <td> 0.143158</td>\n",
       "    </tr>\n",
       "    <tr>\n",
       "      <th>17088756</th>\n",
       "      <td>     !Kung_language</td>\n",
       "      <td>                              Khoisan_languages</td>\n",
       "      <td>  14</td>\n",
       "      <td>  link</td>\n",
       "      <td>  475</td>\n",
       "      <td> 0.029474</td>\n",
       "    </tr>\n",
       "    <tr>\n",
       "      <th>5652506 </th>\n",
       "      <td>     !Kung_language</td>\n",
       "      <td>                       Kung_language_(Cameroon)</td>\n",
       "      <td>  10</td>\n",
       "      <td>  link</td>\n",
       "      <td>  475</td>\n",
       "      <td> 0.021053</td>\n",
       "    </tr>\n",
       "    <tr>\n",
       "      <th>17218234</th>\n",
       "      <td>     !Kung_language</td>\n",
       "      <td>                                 Kx'a_languages</td>\n",
       "      <td>  55</td>\n",
       "      <td>  link</td>\n",
       "      <td>  475</td>\n",
       "      <td> 0.115789</td>\n",
       "    </tr>\n",
       "    <tr>\n",
       "      <th>9134270 </th>\n",
       "      <td>     !Kung_language</td>\n",
       "      <td>                                Sekele_language</td>\n",
       "      <td>  51</td>\n",
       "      <td>  link</td>\n",
       "      <td>  475</td>\n",
       "      <td> 0.107368</td>\n",
       "    </tr>\n",
       "    <tr>\n",
       "      <th>23140313</th>\n",
       "      <td>     !Kung_language</td>\n",
       "      <td>                                    ǂKx'ao-ǁ'ae</td>\n",
       "      <td>  14</td>\n",
       "      <td>  link</td>\n",
       "      <td>  475</td>\n",
       "      <td> 0.029474</td>\n",
       "    </tr>\n",
       "  </tbody>\n",
       "</table>\n",
       "</div>"
      ],
      "text/plain": [
       "                        prev                                            curr  \\\n",
       "11512688                  !!                                             !!!   \n",
       "2058414                   !!                        Chess_annotation_symbols   \n",
       "14500433                  !!                                Double_factorial   \n",
       "14928832                  !!                                Exclamation_mark   \n",
       "20209148                  !!                                Retroflex_clicks   \n",
       "22442410                  !!              Universal_Character_Set_characters   \n",
       "5                        !!!                                     !!!_(album)   \n",
       "11512757                 !!!                              !_(disambiguation)   \n",
       "13312978                 !!!                                     Cake_(band)   \n",
       "2596570                  !!!                                      Dance-punk   \n",
       "3763306                  !!!                          Fuck_You_and_Then_Some   \n",
       "5123932                  !!!                                     Jerry_Fuchs   \n",
       "16924392                 !!!                           Justin_Van_Der_Volgen   \n",
       "17088758                 !!!                               Khoisan_languages   \n",
       "5677809                  !!!                                 LCD_Soundsystem   \n",
       "6303428                  !!!                                   Louden_Up_Now   \n",
       "18092470                 !!!                                       Main_Page   \n",
       "18797941                 !!!                                      Myth_Takes   \n",
       "19005048                 !!!                                       Nic_Offer   \n",
       "7712702                  !!!                                         Out_Hud   \n",
       "9703815                  !!!                      Strange_Weather,_Isn't_It?   \n",
       "21776136                 !!!                          The_Gods_Must_Be_Crazy   \n",
       "10412281                 !!!                                        Thr!!!er   \n",
       "11108153                 !!!                             Warp_(record_label)   \n",
       "11512687         !!!_(album)                                             !!!   \n",
       "6303431          !!!_(album)                                   Louden_Up_Now   \n",
       "18964915  !!Destroy-Oh-Boy!!                                  New_Bomb_Turks   \n",
       "12994958       !Action_Pact!  Blitzkrieg_Over_You!:_A_Tribute_to_the_Ramones   \n",
       "9                      !Hero                                   !Hero_(album)   \n",
       "6841032                !Hero                                    Michael_Tait   \n",
       "650802        !Kung_language                                 Alveolar_clicks   \n",
       "1955244       !Kung_language                                   Central_!Kung   \n",
       "2227869       !Kung_language                                 Click_consonant   \n",
       "3154073       !Kung_language                                     Ekoka_!Kung   \n",
       "5379311       !Kung_language                                Juǀ'hoan_dialect   \n",
       "17088756      !Kung_language                               Khoisan_languages   \n",
       "5652506       !Kung_language                        Kung_language_(Cameroon)   \n",
       "17218234      !Kung_language                                  Kx'a_languages   \n",
       "9134270       !Kung_language                                 Sekele_language   \n",
       "23140313      !Kung_language                                     ǂKx'ao-ǁ'ae   \n",
       "\n",
       "            n   type  out_count         w  \n",
       "11512688   31   link        129  0.240310  \n",
       "2058414    31   link        129  0.240310  \n",
       "14500433   26   link        129  0.201550  \n",
       "14928832   18   link        129  0.139535  \n",
       "20209148   12   link        129  0.093023  \n",
       "22442410   11  other        129  0.085271  \n",
       "5         311   link       1847  0.168381  \n",
       "11512757   14   link       1847  0.007580  \n",
       "13312978   10   link       1847  0.005414  \n",
       "2596570    40   link       1847  0.021657  \n",
       "3763306    10  other       1847  0.005414  \n",
       "5123932    52   link       1847  0.028154  \n",
       "16924392   25   link       1847  0.013535  \n",
       "17088758   10   link       1847  0.005414  \n",
       "5677809    33   link       1847  0.017867  \n",
       "6303428   229   link       1847  0.123985  \n",
       "18092470   12  other       1847  0.006497  \n",
       "18797941  238   link       1847  0.128858  \n",
       "19005048  241   link       1847  0.130482  \n",
       "7712702    36   link       1847  0.019491  \n",
       "9703815   164   link       1847  0.088793  \n",
       "21776136   33   link       1847  0.017867  \n",
       "10412281  379   link       1847  0.205198  \n",
       "11108153   10   link       1847  0.005414  \n",
       "11512687   57   link        140  0.407143  \n",
       "6303431    83   link        140  0.592857  \n",
       "18964915   11   link         11  1.000000  \n",
       "12994958   19   link         19  1.000000  \n",
       "9          26   link         38  0.684211  \n",
       "6841032    12   link         38  0.315789  \n",
       "650802     61  other        475  0.128421  \n",
       "1955244    11   link        475  0.023158  \n",
       "2227869    36   link        475  0.075789  \n",
       "3154073    41   link        475  0.086316  \n",
       "5379311    68   link        475  0.143158  \n",
       "17088756   14   link        475  0.029474  \n",
       "5652506    10   link        475  0.021053  \n",
       "17218234   55   link        475  0.115789  \n",
       "9134270    51   link        475  0.107368  \n",
       "23140313   14   link        475  0.029474  "
      ]
     },
     "execution_count": 40,
     "metadata": {},
     "output_type": "execute_result"
    }
   ],
   "source": [
    "df_norm.head(40)"
   ]
  },
  {
   "cell_type": "code",
   "execution_count": null,
   "metadata": {
    "collapsed": false
   },
   "outputs": [],
   "source": []
  },
  {
   "cell_type": "code",
   "execution_count": null,
   "metadata": {
    "collapsed": false
   },
   "outputs": [],
   "source": []
  },
  {
   "cell_type": "code",
   "execution_count": null,
   "metadata": {
    "collapsed": false
   },
   "outputs": [],
   "source": []
  },
  {
   "cell_type": "code",
   "execution_count": null,
   "metadata": {
    "collapsed": false
   },
   "outputs": [],
   "source": []
  },
  {
   "cell_type": "code",
   "execution_count": null,
   "metadata": {
    "collapsed": false
   },
   "outputs": [],
   "source": []
  },
  {
   "cell_type": "code",
   "execution_count": null,
   "metadata": {
    "collapsed": false
   },
   "outputs": [],
   "source": []
  },
  {
   "cell_type": "code",
   "execution_count": 10,
   "metadata": {
    "collapsed": false
   },
   "outputs": [],
   "source": [
    "node = \"Alive\"\n",
    "n=10"
   ]
  },
  {
   "cell_type": "code",
   "execution_count": 11,
   "metadata": {
    "collapsed": false
   },
   "outputs": [
    {
     "name": "stdout",
     "output_type": "stream",
     "text": [
      "[['other-wikipedia', 'Alive', 2221485, 'other'],\n",
      " ['other-empty', 'Alive', 22109, 'other'],\n",
      " ['Main_Page', 'Alive', 540, 'other'],\n",
      " ['Alive', 'Alive', 215, 'other'],\n",
      " ['other-google', 'Alive', 140, 'other'],\n",
      " ['LAN_Chile_Flight_210', 'Alive', 98, 'other'],\n",
      " ['other-other', 'Alive', 42, 'other'],\n",
      " ['other-yahoo', 'Alive', 40, 'other'],\n",
      " ['other-bing', 'Alive', 26, 'other'],\n",
      " ['Live', 'Alive', 23, 'other']]\n"
     ]
    }
   ],
   "source": [
    "prev = df[df['curr'] == node].sort(columns='n', ascending=False)[:n]\n",
    "tuples = [list(x) for x in prev.values]\n",
    "from pprint import pprint \n",
    "pprint(tuples)"
   ]
  },
  {
   "cell_type": "code",
   "execution_count": 12,
   "metadata": {
    "collapsed": false
   },
   "outputs": [
    {
     "name": "stdout",
     "output_type": "stream",
     "text": [
      "[['Alive', 'Alive_(1993_film)', 1948, 'link'],\n",
      " ['Alive', 'Alive:_The_Story_of_the_Andes_Survivors', 482, 'link'],\n",
      " ['Alive', 'Alive', 215, 'other'],\n",
      " ['Alive', 'Bat_Out_of_Hell_III:_The_Monster_Is_Loose', 202, 'link'],\n",
      " ['Alive', 'Alive:_20_Years_Later', 106, 'link'],\n",
      " ['Alive', 'Alive_(Pearl_Jam_song)', 97, 'link'],\n",
      " ['Alive', 'Alive!_(Kiss_album)', 69, 'link'],\n",
      " ['Alive', 'Life', 68, 'link'],\n",
      " ['Alive', 'Alive_(2002_film)', 51, 'link'],\n",
      " ['Alive', 'Alive_(Natalie_Bassingthwaighte_song)', 48, 'link']]\n"
     ]
    }
   ],
   "source": [
    "prev = df[df['prev'] == node].sort(columns='n', ascending=False)[:n]\n",
    "tuples = [list(x) for x in prev.values]\n",
    "from pprint import pprint \n",
    "pprint(tuples)"
   ]
  },
  {
   "cell_type": "code",
   "execution_count": null,
   "metadata": {
    "collapsed": false
   },
   "outputs": [],
   "source": []
  },
  {
   "cell_type": "code",
   "execution_count": null,
   "metadata": {
    "collapsed": false
   },
   "outputs": [],
   "source": []
  }
 ],
 "metadata": {
  "kernelspec": {
   "display_name": "Python 2",
   "language": "python",
   "name": "python2"
  },
  "language_info": {
   "codemirror_mode": {
    "name": "ipython",
    "version": 2
   },
   "file_extension": ".py",
   "mimetype": "text/x-python",
   "name": "python",
   "nbconvert_exporter": "python",
   "pygments_lexer": "ipython2",
   "version": "2.7.11"
  }
 },
 "nbformat": 4,
 "nbformat_minor": 0
}
